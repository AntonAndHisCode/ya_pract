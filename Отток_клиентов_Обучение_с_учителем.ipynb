{
 "cells": [
  {
   "cell_type": "markdown",
   "metadata": {
    "toc": true
   },
   "source": [
    "<h1>Содержание<span class=\"tocSkip\"></span></h1>\n",
    "<div class=\"toc\"><ul class=\"toc-item\"><li><span><a href=\"#Подготовка-данных\" data-toc-modified-id=\"Подготовка-данных-1\"><span class=\"toc-item-num\">1&nbsp;&nbsp;</span>Подготовка данных</a></span><ul class=\"toc-item\"><li><span><a href=\"#Проверим-нет-ли-в-данных-пропусков-или-аномалий\" data-toc-modified-id=\"Проверим-нет-ли-в-данных-пропусков-или-аномалий-1.1\"><span class=\"toc-item-num\">1.1&nbsp;&nbsp;</span>Проверим нет ли в данных пропусков или аномалий</a></span></li><li><span><a href=\"#Раздление-признаков\" data-toc-modified-id=\"Раздление-признаков-1.2\"><span class=\"toc-item-num\">1.2&nbsp;&nbsp;</span>Раздление признаков</a></span></li></ul></li><li><span><a href=\"#Исследование-задачи\" data-toc-modified-id=\"Исследование-задачи-2\"><span class=\"toc-item-num\">2&nbsp;&nbsp;</span>Исследование задачи</a></span><ul class=\"toc-item\"><li><span><a href=\"#Модель-случайного-леса\" data-toc-modified-id=\"Модель-случайного-леса-2.1\"><span class=\"toc-item-num\">2.1&nbsp;&nbsp;</span>Модель случайного леса</a></span><ul class=\"toc-item\"><li><span><a href=\"#Модель-случайного-леса-(поиск-во-вложенном-цикле)\" data-toc-modified-id=\"Модель-случайного-леса-(поиск-во-вложенном-цикле)-2.1.1\"><span class=\"toc-item-num\">2.1.1&nbsp;&nbsp;</span>Модель случайного леса (поиск во вложенном цикле)</a></span></li></ul></li><li><span><a href=\"#Логистическая-регрессия\" data-toc-modified-id=\"Логистическая-регрессия-2.2\"><span class=\"toc-item-num\">2.2&nbsp;&nbsp;</span>Логистическая регрессия</a></span></li></ul></li><li><span><a href=\"#Борьба-с-дисбалансом\" data-toc-modified-id=\"Борьба-с-дисбалансом-3\"><span class=\"toc-item-num\">3&nbsp;&nbsp;</span>Борьба с дисбалансом</a></span><ul class=\"toc-item\"><li><span><a href=\"#Сокращение-выборки-(Downsampling)\" data-toc-modified-id=\"Сокращение-выборки-(Downsampling)-3.1\"><span class=\"toc-item-num\">3.1&nbsp;&nbsp;</span>Сокращение выборки (Downsampling)</a></span><ul class=\"toc-item\"><li><span><a href=\"#Модель-случайного-леса\" data-toc-modified-id=\"Модель-случайного-леса-3.1.1\"><span class=\"toc-item-num\">3.1.1&nbsp;&nbsp;</span>Модель случайного леса</a></span></li><li><span><a href=\"#Модель-логистической-регрессии\" data-toc-modified-id=\"Модель-логистической-регрессии-3.1.2\"><span class=\"toc-item-num\">3.1.2&nbsp;&nbsp;</span>Модель логистической регрессии</a></span></li></ul></li><li><span><a href=\"#Увеличение-выборки-(Upsampling)\" data-toc-modified-id=\"Увеличение-выборки-(Upsampling)-3.2\"><span class=\"toc-item-num\">3.2&nbsp;&nbsp;</span>Увеличение выборки (Upsampling)</a></span><ul class=\"toc-item\"><li><span><a href=\"#Модель-случайного-леса-(вложенный-цикл)\" data-toc-modified-id=\"Модель-случайного-леса-(вложенный-цикл)-3.2.1\"><span class=\"toc-item-num\">3.2.1&nbsp;&nbsp;</span>Модель случайного леса (вложенный цикл)</a></span></li><li><span><a href=\"#Модель-случайного-леса-(2-одиночных-цикла)\" data-toc-modified-id=\"Модель-случайного-леса-(2-одиночных-цикла)-3.2.2\"><span class=\"toc-item-num\">3.2.2&nbsp;&nbsp;</span>Модель случайного леса (2 одиночных цикла)</a></span></li><li><span><a href=\"#Модель-логистической-регрессии\" data-toc-modified-id=\"Модель-логистической-регрессии-3.2.3\"><span class=\"toc-item-num\">3.2.3&nbsp;&nbsp;</span>Модель логистической регрессии</a></span></li></ul></li></ul></li><li><span><a href=\"#Тестирование-модели\" data-toc-modified-id=\"Тестирование-модели-4\"><span class=\"toc-item-num\">4&nbsp;&nbsp;</span>Тестирование модели</a></span></li><li><span><a href=\"#Общий-вывод\" data-toc-modified-id=\"Общий-вывод-5\"><span class=\"toc-item-num\">5&nbsp;&nbsp;</span>Общий вывод</a></span></li><li><span><a href=\"#Чек-лист-готовности-проекта\" data-toc-modified-id=\"Чек-лист-готовности-проекта-6\"><span class=\"toc-item-num\">6&nbsp;&nbsp;</span>Чек-лист готовности проекта</a></span></li></ul></div>"
   ]
  },
  {
   "cell_type": "markdown",
   "metadata": {},
   "source": [
    "# Отток клиентов"
   ]
  },
  {
   "cell_type": "markdown",
   "metadata": {},
   "source": [
    "Из «Бета-Банка» стали уходить клиенты. Каждый месяц. Немного, но заметно. Банковские маркетологи посчитали: сохранять текущих клиентов дешевле, чем привлекать новых.\n",
    "\n",
    "Нужно спрогнозировать, уйдёт клиент из банка в ближайшее время или нет. Вам предоставлены исторические данные о поведении клиентов и расторжении договоров с банком. \n",
    "\n",
    "Постройте модель с предельно большим значением *F1*-меры. Чтобы сдать проект успешно, нужно довести метрику до 0.59. Проверьте *F1*-меру на тестовой выборке самостоятельно.\n",
    "\n",
    "Дополнительно измеряйте *AUC-ROC*, сравнивайте её значение с *F1*-мерой.\n",
    "\n",
    "Источник данных: [https://www.kaggle.com/barelydedicated/bank-customer-churn-modeling](https://www.kaggle.com/barelydedicated/bank-customer-churn-modeling)"
   ]
  },
  {
   "cell_type": "markdown",
   "metadata": {},
   "source": [
    "## Подготовка данных"
   ]
  },
  {
   "cell_type": "code",
   "execution_count": 40,
   "metadata": {},
   "outputs": [],
   "source": [
    "import pandas as pd\n",
    "import numpy as np\n",
    "from sklearn.model_selection import train_test_split\n",
    "from sklearn.utils import shuffle\n",
    "from sklearn.ensemble import RandomForestClassifier\n",
    "from sklearn.linear_model import LogisticRegression\n",
    "from sklearn.linear_model import LinearRegression\n",
    "from sklearn.metrics import f1_score\n",
    "\n",
    "from sklearn.preprocessing import StandardScaler \n",
    "\n",
    "import math\n",
    "\n"
   ]
  },
  {
   "cell_type": "markdown",
   "metadata": {},
   "source": [
    "<div style=\"border:solid purple 5px; padding: 20px\"> \n",
    "<h2 align=\"center\"> Рубрика «Питонячий лайфхакер» <a class=\"tocSkip\"> </h2>\n",
    "\n",
    "<h3> Широкоформатный Jupyter <a class=\"tocSkip\"> </h3>\n",
    "\n",
    "Расширяем границы, или как сделать работу более комфортной (не всем нравится 😄)\n",
    "\n",
    "    from IPython.core.display import display, HTML\n",
    "    display(HTML(\"<style>.container { width:90% !important; }</style>\"))"
   ]
  },
  {
   "cell_type": "code",
   "execution_count": 41,
   "metadata": {},
   "outputs": [],
   "source": [
    "data = pd.read_csv('/datasets/Churn.csv')  #.sort_index(axis=0, ascending=True).head(100)"
   ]
  },
  {
   "cell_type": "code",
   "execution_count": 42,
   "metadata": {},
   "outputs": [
    {
     "name": "stdout",
     "output_type": "stream",
     "text": [
      "<class 'pandas.core.frame.DataFrame'>\n",
      "RangeIndex: 10000 entries, 0 to 9999\n",
      "Data columns (total 14 columns):\n",
      " #   Column           Non-Null Count  Dtype  \n",
      "---  ------           --------------  -----  \n",
      " 0   RowNumber        10000 non-null  int64  \n",
      " 1   CustomerId       10000 non-null  int64  \n",
      " 2   Surname          10000 non-null  object \n",
      " 3   CreditScore      10000 non-null  int64  \n",
      " 4   Geography        10000 non-null  object \n",
      " 5   Gender           10000 non-null  object \n",
      " 6   Age              10000 non-null  int64  \n",
      " 7   Tenure           9091 non-null   float64\n",
      " 8   Balance          10000 non-null  float64\n",
      " 9   NumOfProducts    10000 non-null  int64  \n",
      " 10  HasCrCard        10000 non-null  int64  \n",
      " 11  IsActiveMember   10000 non-null  int64  \n",
      " 12  EstimatedSalary  10000 non-null  float64\n",
      " 13  Exited           10000 non-null  int64  \n",
      "dtypes: float64(3), int64(8), object(3)\n",
      "memory usage: 1.1+ MB\n"
     ]
    }
   ],
   "source": [
    "# Посмотрим структуру данных\n",
    "data.info()"
   ]
  },
  {
   "cell_type": "code",
   "execution_count": 43,
   "metadata": {
    "scrolled": false
   },
   "outputs": [
    {
     "data": {
      "text/html": [
       "<div>\n",
       "<style scoped>\n",
       "    .dataframe tbody tr th:only-of-type {\n",
       "        vertical-align: middle;\n",
       "    }\n",
       "\n",
       "    .dataframe tbody tr th {\n",
       "        vertical-align: top;\n",
       "    }\n",
       "\n",
       "    .dataframe thead th {\n",
       "        text-align: right;\n",
       "    }\n",
       "</style>\n",
       "<table border=\"1\" class=\"dataframe\">\n",
       "  <thead>\n",
       "    <tr style=\"text-align: right;\">\n",
       "      <th></th>\n",
       "      <th>RowNumber</th>\n",
       "      <th>CustomerId</th>\n",
       "      <th>Surname</th>\n",
       "      <th>CreditScore</th>\n",
       "      <th>Geography</th>\n",
       "      <th>Gender</th>\n",
       "      <th>Age</th>\n",
       "      <th>Tenure</th>\n",
       "      <th>Balance</th>\n",
       "      <th>NumOfProducts</th>\n",
       "      <th>HasCrCard</th>\n",
       "      <th>IsActiveMember</th>\n",
       "      <th>EstimatedSalary</th>\n",
       "      <th>Exited</th>\n",
       "    </tr>\n",
       "  </thead>\n",
       "  <tbody>\n",
       "    <tr>\n",
       "      <th>0</th>\n",
       "      <td>1</td>\n",
       "      <td>15634602</td>\n",
       "      <td>Hargrave</td>\n",
       "      <td>619</td>\n",
       "      <td>France</td>\n",
       "      <td>Female</td>\n",
       "      <td>42</td>\n",
       "      <td>2.0</td>\n",
       "      <td>0.00</td>\n",
       "      <td>1</td>\n",
       "      <td>1</td>\n",
       "      <td>1</td>\n",
       "      <td>101348.88</td>\n",
       "      <td>1</td>\n",
       "    </tr>\n",
       "    <tr>\n",
       "      <th>1</th>\n",
       "      <td>2</td>\n",
       "      <td>15647311</td>\n",
       "      <td>Hill</td>\n",
       "      <td>608</td>\n",
       "      <td>Spain</td>\n",
       "      <td>Female</td>\n",
       "      <td>41</td>\n",
       "      <td>1.0</td>\n",
       "      <td>83807.86</td>\n",
       "      <td>1</td>\n",
       "      <td>0</td>\n",
       "      <td>1</td>\n",
       "      <td>112542.58</td>\n",
       "      <td>0</td>\n",
       "    </tr>\n",
       "    <tr>\n",
       "      <th>2</th>\n",
       "      <td>3</td>\n",
       "      <td>15619304</td>\n",
       "      <td>Onio</td>\n",
       "      <td>502</td>\n",
       "      <td>France</td>\n",
       "      <td>Female</td>\n",
       "      <td>42</td>\n",
       "      <td>8.0</td>\n",
       "      <td>159660.80</td>\n",
       "      <td>3</td>\n",
       "      <td>1</td>\n",
       "      <td>0</td>\n",
       "      <td>113931.57</td>\n",
       "      <td>1</td>\n",
       "    </tr>\n",
       "    <tr>\n",
       "      <th>3</th>\n",
       "      <td>4</td>\n",
       "      <td>15701354</td>\n",
       "      <td>Boni</td>\n",
       "      <td>699</td>\n",
       "      <td>France</td>\n",
       "      <td>Female</td>\n",
       "      <td>39</td>\n",
       "      <td>1.0</td>\n",
       "      <td>0.00</td>\n",
       "      <td>2</td>\n",
       "      <td>0</td>\n",
       "      <td>0</td>\n",
       "      <td>93826.63</td>\n",
       "      <td>0</td>\n",
       "    </tr>\n",
       "    <tr>\n",
       "      <th>4</th>\n",
       "      <td>5</td>\n",
       "      <td>15737888</td>\n",
       "      <td>Mitchell</td>\n",
       "      <td>850</td>\n",
       "      <td>Spain</td>\n",
       "      <td>Female</td>\n",
       "      <td>43</td>\n",
       "      <td>2.0</td>\n",
       "      <td>125510.82</td>\n",
       "      <td>1</td>\n",
       "      <td>1</td>\n",
       "      <td>1</td>\n",
       "      <td>79084.10</td>\n",
       "      <td>0</td>\n",
       "    </tr>\n",
       "    <tr>\n",
       "      <th>5</th>\n",
       "      <td>6</td>\n",
       "      <td>15574012</td>\n",
       "      <td>Chu</td>\n",
       "      <td>645</td>\n",
       "      <td>Spain</td>\n",
       "      <td>Male</td>\n",
       "      <td>44</td>\n",
       "      <td>8.0</td>\n",
       "      <td>113755.78</td>\n",
       "      <td>2</td>\n",
       "      <td>1</td>\n",
       "      <td>0</td>\n",
       "      <td>149756.71</td>\n",
       "      <td>1</td>\n",
       "    </tr>\n",
       "    <tr>\n",
       "      <th>6</th>\n",
       "      <td>7</td>\n",
       "      <td>15592531</td>\n",
       "      <td>Bartlett</td>\n",
       "      <td>822</td>\n",
       "      <td>France</td>\n",
       "      <td>Male</td>\n",
       "      <td>50</td>\n",
       "      <td>7.0</td>\n",
       "      <td>0.00</td>\n",
       "      <td>2</td>\n",
       "      <td>1</td>\n",
       "      <td>1</td>\n",
       "      <td>10062.80</td>\n",
       "      <td>0</td>\n",
       "    </tr>\n",
       "    <tr>\n",
       "      <th>7</th>\n",
       "      <td>8</td>\n",
       "      <td>15656148</td>\n",
       "      <td>Obinna</td>\n",
       "      <td>376</td>\n",
       "      <td>Germany</td>\n",
       "      <td>Female</td>\n",
       "      <td>29</td>\n",
       "      <td>4.0</td>\n",
       "      <td>115046.74</td>\n",
       "      <td>4</td>\n",
       "      <td>1</td>\n",
       "      <td>0</td>\n",
       "      <td>119346.88</td>\n",
       "      <td>1</td>\n",
       "    </tr>\n",
       "    <tr>\n",
       "      <th>8</th>\n",
       "      <td>9</td>\n",
       "      <td>15792365</td>\n",
       "      <td>He</td>\n",
       "      <td>501</td>\n",
       "      <td>France</td>\n",
       "      <td>Male</td>\n",
       "      <td>44</td>\n",
       "      <td>4.0</td>\n",
       "      <td>142051.07</td>\n",
       "      <td>2</td>\n",
       "      <td>0</td>\n",
       "      <td>1</td>\n",
       "      <td>74940.50</td>\n",
       "      <td>0</td>\n",
       "    </tr>\n",
       "    <tr>\n",
       "      <th>9</th>\n",
       "      <td>10</td>\n",
       "      <td>15592389</td>\n",
       "      <td>H?</td>\n",
       "      <td>684</td>\n",
       "      <td>France</td>\n",
       "      <td>Male</td>\n",
       "      <td>27</td>\n",
       "      <td>2.0</td>\n",
       "      <td>134603.88</td>\n",
       "      <td>1</td>\n",
       "      <td>1</td>\n",
       "      <td>1</td>\n",
       "      <td>71725.73</td>\n",
       "      <td>0</td>\n",
       "    </tr>\n",
       "    <tr>\n",
       "      <th>10</th>\n",
       "      <td>11</td>\n",
       "      <td>15767821</td>\n",
       "      <td>Bearce</td>\n",
       "      <td>528</td>\n",
       "      <td>France</td>\n",
       "      <td>Male</td>\n",
       "      <td>31</td>\n",
       "      <td>6.0</td>\n",
       "      <td>102016.72</td>\n",
       "      <td>2</td>\n",
       "      <td>0</td>\n",
       "      <td>0</td>\n",
       "      <td>80181.12</td>\n",
       "      <td>0</td>\n",
       "    </tr>\n",
       "  </tbody>\n",
       "</table>\n",
       "</div>"
      ],
      "text/plain": [
       "    RowNumber  CustomerId   Surname  CreditScore Geography  Gender  Age  \\\n",
       "0           1    15634602  Hargrave          619    France  Female   42   \n",
       "1           2    15647311      Hill          608     Spain  Female   41   \n",
       "2           3    15619304      Onio          502    France  Female   42   \n",
       "3           4    15701354      Boni          699    France  Female   39   \n",
       "4           5    15737888  Mitchell          850     Spain  Female   43   \n",
       "5           6    15574012       Chu          645     Spain    Male   44   \n",
       "6           7    15592531  Bartlett          822    France    Male   50   \n",
       "7           8    15656148    Obinna          376   Germany  Female   29   \n",
       "8           9    15792365        He          501    France    Male   44   \n",
       "9          10    15592389        H?          684    France    Male   27   \n",
       "10         11    15767821    Bearce          528    France    Male   31   \n",
       "\n",
       "    Tenure    Balance  NumOfProducts  HasCrCard  IsActiveMember  \\\n",
       "0      2.0       0.00              1          1               1   \n",
       "1      1.0   83807.86              1          0               1   \n",
       "2      8.0  159660.80              3          1               0   \n",
       "3      1.0       0.00              2          0               0   \n",
       "4      2.0  125510.82              1          1               1   \n",
       "5      8.0  113755.78              2          1               0   \n",
       "6      7.0       0.00              2          1               1   \n",
       "7      4.0  115046.74              4          1               0   \n",
       "8      4.0  142051.07              2          0               1   \n",
       "9      2.0  134603.88              1          1               1   \n",
       "10     6.0  102016.72              2          0               0   \n",
       "\n",
       "    EstimatedSalary  Exited  \n",
       "0         101348.88       1  \n",
       "1         112542.58       0  \n",
       "2         113931.57       1  \n",
       "3          93826.63       0  \n",
       "4          79084.10       0  \n",
       "5         149756.71       1  \n",
       "6          10062.80       0  \n",
       "7         119346.88       1  \n",
       "8          74940.50       0  \n",
       "9          71725.73       0  \n",
       "10         80181.12       0  "
      ]
     },
     "execution_count": 43,
     "metadata": {},
     "output_type": "execute_result"
    }
   ],
   "source": [
    "# оценим даные визуально\n",
    "data.head(11)"
   ]
  },
  {
   "cell_type": "markdown",
   "metadata": {},
   "source": [
    "### Проверим нет ли в данных пропусков или аномалий"
   ]
  },
  {
   "cell_type": "code",
   "execution_count": 44,
   "metadata": {},
   "outputs": [
    {
     "name": "stdout",
     "output_type": "stream",
     "text": [
      "Geography\n",
      "France       5014\n",
      "Germany      2509\n",
      "Spain        2477\n",
      "dtype: int64\n",
      "Gender\n",
      "Male      5457\n",
      "Female    4543\n",
      "dtype: int64\n",
      "\n",
      " ..пропусков или аномалий нет.\n"
     ]
    }
   ],
   "source": [
    "# проверим нет ли пропусков или аномалий в \"значимых\" строковых признаках\n",
    "\n",
    "print(data.value_counts(['Geography']))\n",
    "print(data.value_counts(['Gender']))\n",
    "print('\\n ..пропусков или аномалий нет.')"
   ]
  },
  {
   "cell_type": "code",
   "execution_count": 45,
   "metadata": {
    "scrolled": true
   },
   "outputs": [
    {
     "name": "stdout",
     "output_type": "stream",
     "text": [
      "Exited\n",
      "0         7963\n",
      "1         2037\n",
      "dtype: int64\n",
      "NumOfProducts\n",
      "1                5084\n",
      "2                4590\n",
      "3                 266\n",
      "4                  60\n",
      "dtype: int64\n",
      "HasCrCard\n",
      "1            7055\n",
      "0            2945\n",
      "dtype: int64\n",
      "IsActiveMember\n",
      "1                 5151\n",
      "0                 4849\n",
      "dtype: int64\n",
      "\n",
      " ..пропусков или аномалий нет.\n"
     ]
    }
   ],
   "source": [
    "# проверим нет ли пропусков или аномалий в \"значимых\" бинарных признаках\n",
    "\n",
    "print(data.value_counts(['Exited']))\n",
    "print(data.value_counts(['NumOfProducts']))\n",
    "print(data.value_counts(['HasCrCard']))\n",
    "print(data.value_counts(['IsActiveMember']))\n",
    "print('\\n ..пропусков или аномалий нет.')\n"
   ]
  },
  {
   "cell_type": "code",
   "execution_count": 46,
   "metadata": {},
   "outputs": [
    {
     "name": "stdout",
     "output_type": "stream",
     "text": [
      "0.0 250898.09\n",
      "11.58 199992.48\n",
      "10000\n",
      "\n",
      " ..аномалий нет.\n"
     ]
    }
   ],
   "source": [
    "# проверим нет ли аномальных значений в \"значимых\" вещественных признаках\n",
    "print(data['Balance'].min(), data['Balance'].max())\n",
    "print(data['EstimatedSalary'].min(), data['EstimatedSalary'].max())\n",
    "#print(data.value_counts(['Tenure']))\n",
    "print(data['Tenure'].isna().count())\n",
    "print('\\n ..аномалий нет.')"
   ]
  },
  {
   "cell_type": "code",
   "execution_count": 47,
   "metadata": {},
   "outputs": [
    {
     "name": "stdout",
     "output_type": "stream",
     "text": [
      "909\n",
      "\n",
      " столько строк имеют значение Nan в атрибуте Tenure.\n"
     ]
    }
   ],
   "source": [
    "print(data.loc[data['Tenure'].isna(),:]['RowNumber'].count())\n",
    "print('\\n столько строк имеют значение Nan в атрибуте Tenure.')"
   ]
  },
  {
   "cell_type": "markdown",
   "metadata": {},
   "source": [
    "***Пропуски значений в атрибуте Tenure заменим на 0.0 т.к. этот призна тоже участвует в обучении*** "
   ]
  },
  {
   "cell_type": "markdown",
   "metadata": {},
   "source": [
    "<div class=\"alert alert-info\"> <b>Комментарий студента:</b> Круто, спасибо за описаные способы!</div>"
   ]
  },
  {
   "cell_type": "code",
   "execution_count": 48,
   "metadata": {},
   "outputs": [
    {
     "name": "stdout",
     "output_type": "stream",
     "text": [
      "0\n"
     ]
    }
   ],
   "source": [
    "\n",
    "data['Tenure'] = data['Tenure'].fillna(0.0)\n",
    "print(data.loc[data['Tenure'].isna(),:]['RowNumber'].count())"
   ]
  },
  {
   "cell_type": "markdown",
   "metadata": {},
   "source": [
    " ### Раздление признаков"
   ]
  },
  {
   "cell_type": "code",
   "execution_count": 49,
   "metadata": {},
   "outputs": [
    {
     "name": "stdout",
     "output_type": "stream",
     "text": [
      "(6000, 15)\n",
      "(2000, 15)\n",
      "(2000, 15)\n",
      "\n",
      "<class 'pandas.core.frame.DataFrame'>\n",
      "Int64Index: 6000 entries, 492 to 3295\n",
      "Data columns (total 15 columns):\n",
      " #   Column             Non-Null Count  Dtype  \n",
      "---  ------             --------------  -----  \n",
      " 0   RowNumber          6000 non-null   int64  \n",
      " 1   CustomerId         6000 non-null   int64  \n",
      " 2   Surname            6000 non-null   object \n",
      " 3   CreditScore        6000 non-null   int64  \n",
      " 4   Age                6000 non-null   int64  \n",
      " 5   Tenure             6000 non-null   float64\n",
      " 6   Balance            6000 non-null   float64\n",
      " 7   NumOfProducts      6000 non-null   int64  \n",
      " 8   HasCrCard          6000 non-null   int64  \n",
      " 9   IsActiveMember     6000 non-null   int64  \n",
      " 10  EstimatedSalary    6000 non-null   float64\n",
      " 11  Exited             6000 non-null   int64  \n",
      " 12  Geography_Germany  6000 non-null   uint8  \n",
      " 13  Geography_Spain    6000 non-null   uint8  \n",
      " 14  Gender_Male        6000 non-null   uint8  \n",
      "dtypes: float64(3), int64(8), object(1), uint8(3)\n",
      "memory usage: 627.0+ KB\n"
     ]
    }
   ],
   "source": [
    "# Проведем дамми-нормализацию по тем строковым атрибутам, которые имеют потенциальное влияние на выходной параметр.\n",
    "# Таковыми являются только 'Geography','Gender'\n",
    "# Атрибуты 'RowNumber','CustomerId','Surname' не имеют никакого \"бизнес\"-смысла - это суррогатные ключи, \n",
    "# либо как 'Surname' - это просто фамилия клиента.Считаем , что она не является влияющим фактором.\n",
    "\n",
    "data_dummies = pd.get_dummies(data, columns=['Geography','Gender'], drop_first=True)#, drop_first=True\n",
    "\n",
    "data_train, data_test = train_test_split(data_dummies, test_size=0.2, random_state=12345)\n",
    "data_train, data_valid = train_test_split(data_train, test_size=0.25, random_state=12345)\n",
    "\n",
    "print(data_train.shape)\n",
    "print(data_valid.shape)\n",
    "print(data_test.shape)\n",
    "print('')\n",
    "\n",
    "data_train.info()"
   ]
  },
  {
   "cell_type": "code",
   "execution_count": 50,
   "metadata": {},
   "outputs": [],
   "source": [
    "pd.options.mode.chained_assignment = None\n",
    "\n",
    "# Опишем список колонок для стандартизации. Стандартизовать нужно только численные признаки\n",
    "#numeric_col = ['CreditScore','Age','Tenure','Balance', 'NumOfProducts'\n",
    "#                 ,'HasCrCard','IsActiveMember','EstimatedSalary'\n",
    "#                ,'Geography_Germany','Geography_Spain','Gender_Male']\n",
    "\n",
    "numeric_col = ['CreditScore','Age','Tenure','Balance', 'NumOfProducts','EstimatedSalary' ]\n"
   ]
  },
  {
   "cell_type": "code",
   "execution_count": 51,
   "metadata": {},
   "outputs": [
    {
     "name": "stdout",
     "output_type": "stream",
     "text": [
      "<class 'pandas.core.frame.DataFrame'>\n",
      "Int64Index: 6000 entries, 492 to 3295\n",
      "Data columns (total 11 columns):\n",
      " #   Column             Non-Null Count  Dtype  \n",
      "---  ------             --------------  -----  \n",
      " 0   CreditScore        6000 non-null   int64  \n",
      " 1   Age                6000 non-null   int64  \n",
      " 2   Tenure             6000 non-null   float64\n",
      " 3   Balance            6000 non-null   float64\n",
      " 4   NumOfProducts      6000 non-null   int64  \n",
      " 5   HasCrCard          6000 non-null   int64  \n",
      " 6   IsActiveMember     6000 non-null   int64  \n",
      " 7   EstimatedSalary    6000 non-null   float64\n",
      " 8   Geography_Germany  6000 non-null   uint8  \n",
      " 9   Geography_Spain    6000 non-null   uint8  \n",
      " 10  Gender_Male        6000 non-null   uint8  \n",
      "dtypes: float64(3), int64(5), uint8(3)\n",
      "memory usage: 439.5 KB\n",
      "None\n"
     ]
    }
   ],
   "source": [
    "# разобъем признаки на обучающую выборку, валидационную и тестовую\n",
    "\n",
    "target_test = data_test['Exited']\n",
    "features_test = data_test.drop(['RowNumber','CustomerId','Surname','Exited'], axis =1)\n",
    "\n",
    "target_valid = data_valid['Exited']\n",
    "features_valid = data_valid.drop(['RowNumber','CustomerId','Surname','Exited'], axis =1)\n",
    "\n",
    "target_train = data_train['Exited']\n",
    "features_train = data_train.drop(['RowNumber','CustomerId','Surname','Exited'], axis =1)\n",
    "\n",
    "# выведем информацию о структуре датафрейма\n",
    "print(features_train.info())\n"
   ]
  },
  {
   "cell_type": "code",
   "execution_count": 52,
   "metadata": {},
   "outputs": [],
   "source": [
    "scaler = StandardScaler()\n",
    "scaler.fit(features_train[numeric_col]) \n",
    "features_train[numeric_col] = scaler.transform(features_train[numeric_col])\n",
    "\n",
    "#scaler.fit(features_valid[numeric_col])\n",
    "features_valid[numeric_col] = scaler.transform(features_valid[numeric_col])\n",
    "\n",
    "#scaler.fit(features_test[numeric_col])\n",
    "features_test[numeric_col] = scaler.transform(features_test[numeric_col])\n",
    "\n"
   ]
  },
  {
   "cell_type": "code",
   "execution_count": 53,
   "metadata": {},
   "outputs": [
    {
     "name": "stdout",
     "output_type": "stream",
     "text": [
      "\n",
      "Размеры выборок:\n",
      "Обучающая:  (6000, 11)\n",
      "Валидирующая:  (2000, 11)\n",
      "Тестовая:  (2000, 11)\n",
      "Длина обучающих выходных признаков (6000,)\n",
      "Длина валидирующих выходных признаков (2000,)\n"
     ]
    }
   ],
   "source": [
    "# Выведер размеры выборок\n",
    "print('\\nРазмеры выборок:')\n",
    "print('Обучающая: ',features_train.shape)\n",
    "print('Валидирующая: ',features_valid.shape)\n",
    "print('Тестовая: ',features_test.shape)\n",
    "\n",
    "print('Длина обучающих выходных признаков', target_train.shape) \n",
    "print('Длина валидирующих выходных признаков', target_valid.shape)"
   ]
  },
  {
   "cell_type": "code",
   "execution_count": 54,
   "metadata": {},
   "outputs": [
    {
     "data": {
      "text/html": [
       "<div>\n",
       "<style scoped>\n",
       "    .dataframe tbody tr th:only-of-type {\n",
       "        vertical-align: middle;\n",
       "    }\n",
       "\n",
       "    .dataframe tbody tr th {\n",
       "        vertical-align: top;\n",
       "    }\n",
       "\n",
       "    .dataframe thead th {\n",
       "        text-align: right;\n",
       "    }\n",
       "</style>\n",
       "<table border=\"1\" class=\"dataframe\">\n",
       "  <thead>\n",
       "    <tr style=\"text-align: right;\">\n",
       "      <th></th>\n",
       "      <th>CreditScore</th>\n",
       "      <th>Age</th>\n",
       "      <th>Tenure</th>\n",
       "      <th>Balance</th>\n",
       "      <th>NumOfProducts</th>\n",
       "      <th>HasCrCard</th>\n",
       "      <th>IsActiveMember</th>\n",
       "      <th>EstimatedSalary</th>\n",
       "      <th>Geography_Germany</th>\n",
       "      <th>Geography_Spain</th>\n",
       "      <th>Gender_Male</th>\n",
       "    </tr>\n",
       "  </thead>\n",
       "  <tbody>\n",
       "    <tr>\n",
       "      <th>492</th>\n",
       "      <td>-0.134048</td>\n",
       "      <td>-0.078068</td>\n",
       "      <td>-0.174142</td>\n",
       "      <td>0.076163</td>\n",
       "      <td>0.816929</td>\n",
       "      <td>0</td>\n",
       "      <td>1</td>\n",
       "      <td>0.331571</td>\n",
       "      <td>0</td>\n",
       "      <td>0</td>\n",
       "      <td>0</td>\n",
       "    </tr>\n",
       "    <tr>\n",
       "      <th>6655</th>\n",
       "      <td>-1.010798</td>\n",
       "      <td>0.494555</td>\n",
       "      <td>-1.451074</td>\n",
       "      <td>0.136391</td>\n",
       "      <td>-0.896909</td>\n",
       "      <td>1</td>\n",
       "      <td>1</td>\n",
       "      <td>-0.727858</td>\n",
       "      <td>0</td>\n",
       "      <td>0</td>\n",
       "      <td>1</td>\n",
       "    </tr>\n",
       "    <tr>\n",
       "      <th>4287</th>\n",
       "      <td>0.639554</td>\n",
       "      <td>1.353490</td>\n",
       "      <td>-1.131841</td>\n",
       "      <td>0.358435</td>\n",
       "      <td>-0.896909</td>\n",
       "      <td>1</td>\n",
       "      <td>1</td>\n",
       "      <td>-0.477006</td>\n",
       "      <td>1</td>\n",
       "      <td>0</td>\n",
       "      <td>1</td>\n",
       "    </tr>\n",
       "    <tr>\n",
       "      <th>42</th>\n",
       "      <td>-0.990168</td>\n",
       "      <td>2.116987</td>\n",
       "      <td>-0.812608</td>\n",
       "      <td>0.651725</td>\n",
       "      <td>-0.896909</td>\n",
       "      <td>1</td>\n",
       "      <td>1</td>\n",
       "      <td>-0.100232</td>\n",
       "      <td>0</td>\n",
       "      <td>0</td>\n",
       "      <td>0</td>\n",
       "    </tr>\n",
       "    <tr>\n",
       "      <th>8178</th>\n",
       "      <td>0.567351</td>\n",
       "      <td>0.685430</td>\n",
       "      <td>0.783558</td>\n",
       "      <td>0.813110</td>\n",
       "      <td>0.816929</td>\n",
       "      <td>1</td>\n",
       "      <td>1</td>\n",
       "      <td>0.801922</td>\n",
       "      <td>0</td>\n",
       "      <td>0</td>\n",
       "      <td>0</td>\n",
       "    </tr>\n",
       "    <tr>\n",
       "      <th>2127</th>\n",
       "      <td>0.598296</td>\n",
       "      <td>-0.459816</td>\n",
       "      <td>1.422024</td>\n",
       "      <td>0.921963</td>\n",
       "      <td>0.816929</td>\n",
       "      <td>1</td>\n",
       "      <td>0</td>\n",
       "      <td>0.820416</td>\n",
       "      <td>1</td>\n",
       "      <td>0</td>\n",
       "      <td>1</td>\n",
       "    </tr>\n",
       "    <tr>\n",
       "      <th>2051</th>\n",
       "      <td>0.618925</td>\n",
       "      <td>-0.173505</td>\n",
       "      <td>-1.131841</td>\n",
       "      <td>0.482629</td>\n",
       "      <td>0.816929</td>\n",
       "      <td>0</td>\n",
       "      <td>0</td>\n",
       "      <td>1.208574</td>\n",
       "      <td>0</td>\n",
       "      <td>0</td>\n",
       "      <td>0</td>\n",
       "    </tr>\n",
       "  </tbody>\n",
       "</table>\n",
       "</div>"
      ],
      "text/plain": [
       "      CreditScore       Age    Tenure   Balance  NumOfProducts  HasCrCard  \\\n",
       "492     -0.134048 -0.078068 -0.174142  0.076163       0.816929          0   \n",
       "6655    -1.010798  0.494555 -1.451074  0.136391      -0.896909          1   \n",
       "4287     0.639554  1.353490 -1.131841  0.358435      -0.896909          1   \n",
       "42      -0.990168  2.116987 -0.812608  0.651725      -0.896909          1   \n",
       "8178     0.567351  0.685430  0.783558  0.813110       0.816929          1   \n",
       "2127     0.598296 -0.459816  1.422024  0.921963       0.816929          1   \n",
       "2051     0.618925 -0.173505 -1.131841  0.482629       0.816929          0   \n",
       "\n",
       "      IsActiveMember  EstimatedSalary  Geography_Germany  Geography_Spain  \\\n",
       "492                1         0.331571                  0                0   \n",
       "6655               1        -0.727858                  0                0   \n",
       "4287               1        -0.477006                  1                0   \n",
       "42                 1        -0.100232                  0                0   \n",
       "8178               1         0.801922                  0                0   \n",
       "2127               0         0.820416                  1                0   \n",
       "2051               0         1.208574                  0                0   \n",
       "\n",
       "      Gender_Male  \n",
       "492             0  \n",
       "6655            1  \n",
       "4287            1  \n",
       "42              0  \n",
       "8178            0  \n",
       "2127            1  \n",
       "2051            0  "
      ]
     },
     "metadata": {},
     "output_type": "display_data"
    },
    {
     "data": {
      "text/plain": [
       "492     0\n",
       "6655    0\n",
       "4287    1\n",
       "42      0\n",
       "8178    0\n",
       "2127    0\n",
       "2051    0\n",
       "Name: Exited, dtype: int64"
      ]
     },
     "metadata": {},
     "output_type": "display_data"
    },
    {
     "data": {
      "text/html": [
       "<div>\n",
       "<style scoped>\n",
       "    .dataframe tbody tr th:only-of-type {\n",
       "        vertical-align: middle;\n",
       "    }\n",
       "\n",
       "    .dataframe tbody tr th {\n",
       "        vertical-align: top;\n",
       "    }\n",
       "\n",
       "    .dataframe thead th {\n",
       "        text-align: right;\n",
       "    }\n",
       "</style>\n",
       "<table border=\"1\" class=\"dataframe\">\n",
       "  <thead>\n",
       "    <tr style=\"text-align: right;\">\n",
       "      <th></th>\n",
       "      <th>CreditScore</th>\n",
       "      <th>Age</th>\n",
       "      <th>Tenure</th>\n",
       "      <th>Balance</th>\n",
       "      <th>NumOfProducts</th>\n",
       "      <th>HasCrCard</th>\n",
       "      <th>IsActiveMember</th>\n",
       "      <th>EstimatedSalary</th>\n",
       "      <th>Geography_Germany</th>\n",
       "      <th>Geography_Spain</th>\n",
       "      <th>Gender_Male</th>\n",
       "    </tr>\n",
       "  </thead>\n",
       "  <tbody>\n",
       "    <tr>\n",
       "      <th>2358</th>\n",
       "      <td>0.175393</td>\n",
       "      <td>0.399118</td>\n",
       "      <td>-1.131841</td>\n",
       "      <td>1.385698</td>\n",
       "      <td>-0.896909</td>\n",
       "      <td>0</td>\n",
       "      <td>1</td>\n",
       "      <td>-1.466761</td>\n",
       "      <td>0</td>\n",
       "      <td>0</td>\n",
       "      <td>1</td>\n",
       "    </tr>\n",
       "    <tr>\n",
       "      <th>8463</th>\n",
       "      <td>-1.299609</td>\n",
       "      <td>0.971741</td>\n",
       "      <td>-0.812608</td>\n",
       "      <td>-1.232442</td>\n",
       "      <td>-0.896909</td>\n",
       "      <td>1</td>\n",
       "      <td>0</td>\n",
       "      <td>0.254415</td>\n",
       "      <td>0</td>\n",
       "      <td>1</td>\n",
       "      <td>1</td>\n",
       "    </tr>\n",
       "    <tr>\n",
       "      <th>163</th>\n",
       "      <td>0.711757</td>\n",
       "      <td>-0.268942</td>\n",
       "      <td>-0.812608</td>\n",
       "      <td>-1.232442</td>\n",
       "      <td>0.816929</td>\n",
       "      <td>1</td>\n",
       "      <td>1</td>\n",
       "      <td>0.122863</td>\n",
       "      <td>0</td>\n",
       "      <td>1</td>\n",
       "      <td>0</td>\n",
       "    </tr>\n",
       "    <tr>\n",
       "      <th>3074</th>\n",
       "      <td>-0.391916</td>\n",
       "      <td>0.494555</td>\n",
       "      <td>0.464325</td>\n",
       "      <td>0.672529</td>\n",
       "      <td>-0.896909</td>\n",
       "      <td>1</td>\n",
       "      <td>0</td>\n",
       "      <td>0.585847</td>\n",
       "      <td>1</td>\n",
       "      <td>0</td>\n",
       "      <td>0</td>\n",
       "    </tr>\n",
       "    <tr>\n",
       "      <th>5989</th>\n",
       "      <td>0.165078</td>\n",
       "      <td>1.353490</td>\n",
       "      <td>1.741257</td>\n",
       "      <td>0.536522</td>\n",
       "      <td>-0.896909</td>\n",
       "      <td>0</td>\n",
       "      <td>0</td>\n",
       "      <td>1.462457</td>\n",
       "      <td>0</td>\n",
       "      <td>0</td>\n",
       "      <td>0</td>\n",
       "    </tr>\n",
       "    <tr>\n",
       "      <th>6230</th>\n",
       "      <td>-0.618839</td>\n",
       "      <td>3.071359</td>\n",
       "      <td>-0.174142</td>\n",
       "      <td>-1.232442</td>\n",
       "      <td>0.816929</td>\n",
       "      <td>0</td>\n",
       "      <td>1</td>\n",
       "      <td>-1.442219</td>\n",
       "      <td>0</td>\n",
       "      <td>0</td>\n",
       "      <td>1</td>\n",
       "    </tr>\n",
       "    <tr>\n",
       "      <th>6973</th>\n",
       "      <td>0.072246</td>\n",
       "      <td>0.017370</td>\n",
       "      <td>1.102791</td>\n",
       "      <td>0.472650</td>\n",
       "      <td>0.816929</td>\n",
       "      <td>1</td>\n",
       "      <td>1</td>\n",
       "      <td>1.708147</td>\n",
       "      <td>1</td>\n",
       "      <td>0</td>\n",
       "      <td>1</td>\n",
       "    </tr>\n",
       "  </tbody>\n",
       "</table>\n",
       "</div>"
      ],
      "text/plain": [
       "      CreditScore       Age    Tenure   Balance  NumOfProducts  HasCrCard  \\\n",
       "2358     0.175393  0.399118 -1.131841  1.385698      -0.896909          0   \n",
       "8463    -1.299609  0.971741 -0.812608 -1.232442      -0.896909          1   \n",
       "163      0.711757 -0.268942 -0.812608 -1.232442       0.816929          1   \n",
       "3074    -0.391916  0.494555  0.464325  0.672529      -0.896909          1   \n",
       "5989     0.165078  1.353490  1.741257  0.536522      -0.896909          0   \n",
       "6230    -0.618839  3.071359 -0.174142 -1.232442       0.816929          0   \n",
       "6973     0.072246  0.017370  1.102791  0.472650       0.816929          1   \n",
       "\n",
       "      IsActiveMember  EstimatedSalary  Geography_Germany  Geography_Spain  \\\n",
       "2358               1        -1.466761                  0                0   \n",
       "8463               0         0.254415                  0                1   \n",
       "163                1         0.122863                  0                1   \n",
       "3074               0         0.585847                  1                0   \n",
       "5989               0         1.462457                  0                0   \n",
       "6230               1        -1.442219                  0                0   \n",
       "6973               1         1.708147                  1                0   \n",
       "\n",
       "      Gender_Male  \n",
       "2358            1  \n",
       "8463            1  \n",
       "163             0  \n",
       "3074            0  \n",
       "5989            0  \n",
       "6230            1  \n",
       "6973            1  "
      ]
     },
     "metadata": {},
     "output_type": "display_data"
    },
    {
     "data": {
      "text/plain": [
       "2358    0\n",
       "8463    1\n",
       "163     0\n",
       "3074    1\n",
       "5989    1\n",
       "6230    0\n",
       "6973    0\n",
       "Name: Exited, dtype: int64"
      ]
     },
     "metadata": {},
     "output_type": "display_data"
    }
   ],
   "source": [
    "# визуально оценим результат\n",
    "#print(features_train.head(5))\n",
    "display(features_train.head(7))\n",
    "display(target_train.head(7))\n",
    "#display(target_train.value_counts())\n",
    "\n",
    "display(features_valid.head(7))\n",
    "display(target_valid.head(7))"
   ]
  },
  {
   "cell_type": "code",
   "execution_count": 55,
   "metadata": {},
   "outputs": [
    {
     "name": "stdout",
     "output_type": "stream",
     "text": [
      "0    4781\n",
      "1    1219\n",
      "Name: Exited, dtype: int64\n"
     ]
    }
   ],
   "source": [
    "# Оценим, насколько разбалансированы значения выходных параметров\n",
    "\n",
    "print(target_train.value_counts())\n",
    "#"
   ]
  },
  {
   "cell_type": "code",
   "execution_count": null,
   "metadata": {},
   "outputs": [],
   "source": []
  },
  {
   "cell_type": "markdown",
   "metadata": {},
   "source": [
    "## Исследование задачи"
   ]
  },
  {
   "cell_type": "code",
   "execution_count": 56,
   "metadata": {},
   "outputs": [
    {
     "name": "stdout",
     "output_type": "stream",
     "text": [
      "Кол-во признаков соответствующих классу 0: 7963\n",
      "Кол-во признаков соответствующих классу 1: 2037\n"
     ]
    }
   ],
   "source": [
    "# оценим баланс классов на всей выборке:\n",
    "\n",
    "print('Кол-во признаков соответствующих классу 0:', data_dummies[data_dummies['Exited']==0]['Exited'].count())\n",
    "print('Кол-во признаков соответствующих классу 1:', data_dummies[data_dummies['Exited']==1]['Exited'].count())"
   ]
  },
  {
   "cell_type": "markdown",
   "metadata": {},
   "source": [
    "***Вывод: Выборка достаточно сильно разбалансирована***"
   ]
  },
  {
   "cell_type": "markdown",
   "metadata": {},
   "source": [
    "### Модель случайного леса"
   ]
  },
  {
   "cell_type": "code",
   "execution_count": 57,
   "metadata": {},
   "outputs": [],
   "source": [
    "# Найдем параметры модели \"случайного леса\" с наилучшими результатами.\n",
    "# Сначала найдем налучшую максимальную глубину\n",
    "\n",
    "#best_rfc_model = None\n",
    "#best_rfc_f1 = 0.0\n",
    "#best_rfc_est = 0\n",
    "#best_rfc_depth = 1\n",
    "\n",
    "#for depth in range (2, 20):\n",
    "   \n",
    "#    model_rfc = RandomForestClassifier(random_state=12345, max_depth=depth)\n",
    "#    model_rfc.fit(features_train, target_train) \n",
    "    # предсказание модели на обучающей выборке\n",
    "#    predictions_train = model_rfc.predict(features_train)\n",
    "    # посчитаем значение метрики F1 на обучающей выборке\n",
    "#    rfc_result_tr_f1 = f1_score(target_train, predictions_train)\n",
    "\n",
    "    # предсказание модели на валидационной выборке\n",
    "#    predictions_valid = model_rfc.predict(features_valid)\n",
    "    # посчитаем значение метрики F1 на валидационной выборке\n",
    "#    rfc_result_v_f1 = f1_score(target_valid, predictions_valid)    \n",
    "    \n",
    "#    print('глубина:', depth)    \n",
    "#    print('f1 (train):', rfc_result_tr_f1, end='')    \n",
    "#    print('   f1 (valid):', rfc_result_v_f1)\n",
    "#    if rfc_result_v_f1 > best_rfc_f1:\n",
    "#        best_rfc_model = model_rfc\n",
    "#        best_rfc_f1 = rfc_result_v_f1\n",
    "#        best_rfc_depth = depth\n",
    "       \n",
    "        \n",
    "#print('\\nRandomForestClassifier:')            \n",
    "#print('Лучшая максимальная глубина:',best_rfc_depth)\n",
    "#print('F1 наилучшей модели (train):',best_rfc_f1)\n"
   ]
  },
  {
   "cell_type": "code",
   "execution_count": 58,
   "metadata": {},
   "outputs": [],
   "source": [
    "# затем найдем кол-во деревьев дающее наилучшую оценку для F1\n",
    "\n",
    "#best_rfc_model = None\n",
    "#best_rfc_f1 = 0.000001\n",
    "#best_rfc_est = 0\n",
    "\n",
    "\n",
    "#for est in range (10, 110, 5):\n",
    "\n",
    "#    model_rfc = RandomForestClassifier(random_state=12345, max_depth = best_rfc_depth, n_estimators = est)\n",
    "#    model_rfc.fit(features_train, target_train) \n",
    "\n",
    "    # предсказание модели на обучающей выборке\n",
    "    #predictions_train = model_rfc.predict(features_train)\n",
    "    # посчитаем значение метрики F1 на обучающей выборке\n",
    "    #rfc_result_tr_f1 = f1_score(target_train, predictions_train)\n",
    "\n",
    "    # предсказание модели на валидационной выборке\n",
    "#    predictions_valid = model_rfc.predict(features_valid)\n",
    "    # посчитаем значение метрики F1 на валидационной выборке\n",
    "#    rfc_result_v_f1 = f1_score(target_valid, predictions_valid)\n",
    "\n",
    "#    print( np.around(rfc_result_v_f1,decimals=4), end = ' ')    \n",
    "#    if rfc_result_v_f1 > best_rfc_f1:\n",
    "#        best_rfc_model = model_rfc\n",
    "#        best_rfc_f1 = rfc_result_v_f1\n",
    "#        best_rfc_est = est\n",
    "#        best_rfc_depth = depth\n",
    "#print('')\n",
    "#print(predictions_train)\n",
    "#print(target_train)\n",
    "#print(rfc_result_tr_f1)\n",
    "\n",
    "#print('\\nRandomForestClassifier:')            \n",
    "#print('Лучшее кол-во деревьев:',best_rfc_est)\n",
    "#print('Лучшая глубина:', best_rfc_depth)\n",
    "#print('F1 наилучшей модели:',best_rfc_f1) \n"
   ]
  },
  {
   "cell_type": "markdown",
   "metadata": {},
   "source": [
    "####  Модель случайного леса (поиск во вложенном цикле)"
   ]
  },
  {
   "cell_type": "code",
   "execution_count": 59,
   "metadata": {},
   "outputs": [
    {
     "name": "stdout",
     "output_type": "stream",
     "text": [
      "\n",
      "RandomForestClassifier (вложеный цикл):\n",
      "Лучшее кол-во деревьев: 40\n",
      "Лучшая глубина: 13\n",
      "F1 наилучшей модели: 0.5691318327974277\n"
     ]
    }
   ],
   "source": [
    "# вложенный цикл с проходом по обоим параметрам\n",
    "#найдем кол-во деревьев дающее наилучшую оценку для F1\n",
    "\n",
    "best_rfc_model = None\n",
    "best_rfc_f1 = 0.000001\n",
    "best_rfc_est = 0\n",
    "best_rfc_depth = 2\n",
    "\n",
    "for depth in range (2, 17):\n",
    "#    print('depth:', depth)\n",
    "#    print('f1:',end=' ')\n",
    "    #print(' F1 наилучшей модели:',best_rfc_f1)\n",
    "    for est in range (30, 120, 5):\n",
    "\n",
    "        model_rfc = RandomForestClassifier(random_state=12345, max_depth = depth, n_estimators = est)\n",
    "        model_rfc.fit(features_train, target_train) \n",
    "\n",
    "        # предсказание модели на валидационной выборке\n",
    "        predictions_valid = model_rfc.predict(features_valid)\n",
    "        # посчитаем значение метрики F1 на валидационной выборке\n",
    "        rfc_result_v_f1 = f1_score(target_valid, predictions_valid)\n",
    "\n",
    "        #print( np.around(rfc_result_v_f1,decimals=4), end = ' ')    \n",
    "        if rfc_result_v_f1 > best_rfc_f1:\n",
    "            best_rfc_model = model_rfc\n",
    "            best_rfc_f1 = rfc_result_v_f1\n",
    "            best_rfc_est = est\n",
    "            best_rfc_depth = depth\n",
    "    #print('')\n",
    "\n",
    "print('\\nRandomForestClassifier (вложеный цикл):')            \n",
    "print('Лучшее кол-во деревьев:',best_rfc_est)\n",
    "print('Лучшая глубина:', best_rfc_depth)\n",
    "print('F1 наилучшей модели:',best_rfc_f1) "
   ]
  },
  {
   "cell_type": "markdown",
   "metadata": {},
   "source": [
    "***Вывод: на несбалансированных данных значение F1 получилось достаточно маленькое. Скорее всего диспропорции к размерах выборок принадлижащих разным классам имеют большое влияниеи.*** \n",
    "\n",
    "***Сбалансируем данные, проверим..***"
   ]
  },
  {
   "cell_type": "markdown",
   "metadata": {},
   "source": [
    "### Логистическая регрессия"
   ]
  },
  {
   "cell_type": "code",
   "execution_count": 60,
   "metadata": {},
   "outputs": [
    {
     "name": "stdout",
     "output_type": "stream",
     "text": [
      "liblinear\n",
      "lbfgs\n",
      "newton-cg\n",
      "sag\n",
      "saga\n",
      "\n",
      "Best solver: liblinear\n",
      "Best best_lr_trsh:  0.325\n",
      "Best F1 value:  0.49343832020997375\n"
     ]
    }
   ],
   "source": [
    "best_lr_model = None\n",
    "best_lr_f1 = 0.0\n",
    "best_lr_solver = ''\n",
    "best_lr_trsh = 0.0\n",
    "\n",
    "solvers = ['liblinear','lbfgs','newton-cg', 'sag', 'saga']\n",
    "\n",
    "for solver_ in solvers:\n",
    "    model_lr = LogisticRegression(random_state=12345, solver = solver_)\n",
    "    model_lr.fit(features_train, target_train)\n",
    "\n",
    "    probabilities_valid = model_lr.predict_proba(features_valid)\n",
    "    probabilities_one_valid = probabilities_valid[:, 1]\n",
    "    \n",
    "    print(solver_)\n",
    "#    print(probabilities_one_valid)\n",
    "    \n",
    "    for threshold in np.arange(0, 0.6, 0.025):\n",
    "        predicted_valid = list(map((lambda x: x > threshold),probabilities_one_valid)) \n",
    "#        predicted_valid = probabilities_one_valid > threshold\n",
    "        f1 = f1_score(target_valid, predicted_valid)\n",
    "#        print('threshold: ',threshold,'  f1:',f1)\n",
    "        if f1 > best_lr_f1:\n",
    "            best_lr_f1 = f1\n",
    "            best_lr_trsh = threshold\n",
    "            best_lr_model = model_lr\n",
    "            best_lr_solver = solver_\n",
    "\n",
    "print('\\nBest solver:', best_lr_solver)\n",
    "print('Best best_lr_trsh: ', np.around(best_lr_trsh,decimals=3))\n",
    "print('Best F1 value: ', best_lr_f1)\n"
   ]
  },
  {
   "cell_type": "code",
   "execution_count": null,
   "metadata": {},
   "outputs": [],
   "source": []
  },
  {
   "cell_type": "markdown",
   "metadata": {},
   "source": [
    "## Борьба с дисбалансом"
   ]
  },
  {
   "cell_type": "markdown",
   "metadata": {},
   "source": [
    "### Сокращение выборки (Downsampling)"
   ]
  },
  {
   "cell_type": "code",
   "execution_count": 61,
   "metadata": {},
   "outputs": [
    {
     "name": "stdout",
     "output_type": "stream",
     "text": [
      "Исходное кол-во признаков с группах 0 и 1:\n",
      "Exited\n",
      "0         4781\n",
      "1         1219\n",
      "dtype: int64\n",
      "\n",
      "Размерность сбалансированной выборки: (2438, 15)\n",
      "\n",
      "Новое кол-во признаков с группах 0 и 1:\n",
      "Exited\n",
      "0         1219\n",
      "1         1219\n",
      "dtype: int64\n",
      "\n",
      "<class 'pandas.core.frame.DataFrame'>\n",
      "Int64Index: 2438 entries, 5193 to 7661\n",
      "Data columns (total 15 columns):\n",
      " #   Column             Non-Null Count  Dtype  \n",
      "---  ------             --------------  -----  \n",
      " 0   RowNumber          2438 non-null   int64  \n",
      " 1   CustomerId         2438 non-null   int64  \n",
      " 2   Surname            2438 non-null   object \n",
      " 3   CreditScore        2438 non-null   int64  \n",
      " 4   Age                2438 non-null   int64  \n",
      " 5   Tenure             2438 non-null   float64\n",
      " 6   Balance            2438 non-null   float64\n",
      " 7   NumOfProducts      2438 non-null   int64  \n",
      " 8   HasCrCard          2438 non-null   int64  \n",
      " 9   IsActiveMember     2438 non-null   int64  \n",
      " 10  EstimatedSalary    2438 non-null   float64\n",
      " 11  Exited             2438 non-null   int64  \n",
      " 12  Geography_Germany  2438 non-null   uint8  \n",
      " 13  Geography_Spain    2438 non-null   uint8  \n",
      " 14  Gender_Male        2438 non-null   uint8  \n",
      "dtypes: float64(3), int64(8), object(1), uint8(3)\n",
      "memory usage: 254.8+ KB\n"
     ]
    }
   ],
   "source": [
    "print('Исходное кол-во признаков с группах 0 и 1:')\n",
    "print(data_train.value_counts(['Exited']))\n",
    "\n",
    "ones_count = data_train.loc[data_train['Exited']==1,:]['Exited'].count()\n",
    "\n",
    "data_train_dwn_0 = data_train.loc[data_train['Exited']==0,:].sample(ones_count)\n",
    "data_train_dwn_1 = data_train.loc[data_train['Exited']==1,:]\n",
    "\n",
    "data_balanced_dwn = pd.concat([data_train_dwn_0]+[data_train_dwn_1])\n",
    "print('')\n",
    "print('Размерность сбалансированной выборки:',data_balanced_dwn.shape)\n",
    "print('')\n",
    "print('Новое кол-во признаков с группах 0 и 1:')\n",
    "print(data_balanced_dwn.value_counts(['Exited']))\n",
    "print('')\n",
    "data_balanced_dwn.info()"
   ]
  },
  {
   "cell_type": "code",
   "execution_count": 62,
   "metadata": {},
   "outputs": [
    {
     "name": "stdout",
     "output_type": "stream",
     "text": [
      "(2438, 11)\n",
      "(2438,)\n"
     ]
    }
   ],
   "source": [
    "# разобъем сбалансированный DF на признаки и выходные параметры + уберем неинформативные признаки\n",
    "target_train_dwn = data_balanced_dwn['Exited']\n",
    "features_train_dwn = data_balanced_dwn.drop(['RowNumber','CustomerId','Surname','Exited'], axis =1)\n",
    "\n",
    "#  посмотрим размерности получившихся выборок\n",
    "print(features_train_dwn.shape)\n",
    "print(target_train_dwn.shape)\n"
   ]
  },
  {
   "cell_type": "code",
   "execution_count": 63,
   "metadata": {},
   "outputs": [],
   "source": [
    "# Проведем дамми-нормализацию для сбалансированных наборов\n",
    "\n",
    "#data_balanced = pd.concat([data_0]+[data_1])\n",
    "\n",
    "#data_dummies = pd.get_dummies(data_balanced, columns=['Geography','Gender'])#, drop_first=True\n",
    "\n",
    "# Выделим входные и выходные признаки\n",
    "#target = data_balanced['Exited']\n",
    "#features = data_dummies.drop(['RowNumber','CustomerId','Surname','Exited'], axis =1)\n",
    "\n",
    "# Опишем список колонок для стандартизации. Стандартизовать нужно только численные признаки\n",
    "#numeric_col = ['CreditScore','Age','Tenure','Balance', 'NumOfProducts','HasCrCard','IsActiveMember','EstimatedSalary']\n",
    "#numeric_col = ['CreditScore','Age','Tenure','Balance', 'NumOfProducts','HasCrCard','IsActiveMember','EstimatedSalary']\n",
    "\n",
    "#print(data_balanced.shape)"
   ]
  },
  {
   "cell_type": "code",
   "execution_count": 64,
   "metadata": {},
   "outputs": [
    {
     "data": {
      "text/html": [
       "<div>\n",
       "<style scoped>\n",
       "    .dataframe tbody tr th:only-of-type {\n",
       "        vertical-align: middle;\n",
       "    }\n",
       "\n",
       "    .dataframe tbody tr th {\n",
       "        vertical-align: top;\n",
       "    }\n",
       "\n",
       "    .dataframe thead th {\n",
       "        text-align: right;\n",
       "    }\n",
       "</style>\n",
       "<table border=\"1\" class=\"dataframe\">\n",
       "  <thead>\n",
       "    <tr style=\"text-align: right;\">\n",
       "      <th></th>\n",
       "      <th>CreditScore</th>\n",
       "      <th>Age</th>\n",
       "      <th>Tenure</th>\n",
       "      <th>Balance</th>\n",
       "      <th>NumOfProducts</th>\n",
       "      <th>HasCrCard</th>\n",
       "      <th>IsActiveMember</th>\n",
       "      <th>EstimatedSalary</th>\n",
       "      <th>Geography_Germany</th>\n",
       "      <th>Geography_Spain</th>\n",
       "      <th>Gender_Male</th>\n",
       "    </tr>\n",
       "  </thead>\n",
       "  <tbody>\n",
       "    <tr>\n",
       "      <th>5193</th>\n",
       "      <td>-0.928280</td>\n",
       "      <td>-0.937002</td>\n",
       "      <td>1.422024</td>\n",
       "      <td>0.698070</td>\n",
       "      <td>-0.896909</td>\n",
       "      <td>1</td>\n",
       "      <td>1</td>\n",
       "      <td>-1.619977</td>\n",
       "      <td>0</td>\n",
       "      <td>1</td>\n",
       "      <td>0</td>\n",
       "    </tr>\n",
       "    <tr>\n",
       "      <th>4926</th>\n",
       "      <td>0.226966</td>\n",
       "      <td>-0.268942</td>\n",
       "      <td>0.464325</td>\n",
       "      <td>0.384443</td>\n",
       "      <td>-0.896909</td>\n",
       "      <td>1</td>\n",
       "      <td>0</td>\n",
       "      <td>1.430731</td>\n",
       "      <td>1</td>\n",
       "      <td>0</td>\n",
       "      <td>0</td>\n",
       "    </tr>\n",
       "    <tr>\n",
       "      <th>5107</th>\n",
       "      <td>2.011410</td>\n",
       "      <td>-0.173505</td>\n",
       "      <td>1.422024</td>\n",
       "      <td>0.576191</td>\n",
       "      <td>-0.896909</td>\n",
       "      <td>1</td>\n",
       "      <td>0</td>\n",
       "      <td>0.281512</td>\n",
       "      <td>0</td>\n",
       "      <td>1</td>\n",
       "      <td>0</td>\n",
       "    </tr>\n",
       "    <tr>\n",
       "      <th>2328</th>\n",
       "      <td>0.557037</td>\n",
       "      <td>-0.937002</td>\n",
       "      <td>-0.812608</td>\n",
       "      <td>-1.232442</td>\n",
       "      <td>0.816929</td>\n",
       "      <td>1</td>\n",
       "      <td>1</td>\n",
       "      <td>-1.420612</td>\n",
       "      <td>0</td>\n",
       "      <td>1</td>\n",
       "      <td>1</td>\n",
       "    </tr>\n",
       "    <tr>\n",
       "      <th>4485</th>\n",
       "      <td>1.021198</td>\n",
       "      <td>-0.459816</td>\n",
       "      <td>1.422024</td>\n",
       "      <td>0.508813</td>\n",
       "      <td>0.816929</td>\n",
       "      <td>1</td>\n",
       "      <td>1</td>\n",
       "      <td>-1.266785</td>\n",
       "      <td>1</td>\n",
       "      <td>0</td>\n",
       "      <td>1</td>\n",
       "    </tr>\n",
       "    <tr>\n",
       "      <th>...</th>\n",
       "      <td>...</td>\n",
       "      <td>...</td>\n",
       "      <td>...</td>\n",
       "      <td>...</td>\n",
       "      <td>...</td>\n",
       "      <td>...</td>\n",
       "      <td>...</td>\n",
       "      <td>...</td>\n",
       "      <td>...</td>\n",
       "      <td>...</td>\n",
       "      <td>...</td>\n",
       "    </tr>\n",
       "    <tr>\n",
       "      <th>4654</th>\n",
       "      <td>-0.763245</td>\n",
       "      <td>-0.746128</td>\n",
       "      <td>0.145091</td>\n",
       "      <td>0.405721</td>\n",
       "      <td>4.244606</td>\n",
       "      <td>0</td>\n",
       "      <td>0</td>\n",
       "      <td>1.530055</td>\n",
       "      <td>1</td>\n",
       "      <td>0</td>\n",
       "      <td>0</td>\n",
       "    </tr>\n",
       "    <tr>\n",
       "      <th>8991</th>\n",
       "      <td>-1.083001</td>\n",
       "      <td>0.303681</td>\n",
       "      <td>-1.451074</td>\n",
       "      <td>1.057444</td>\n",
       "      <td>-0.896909</td>\n",
       "      <td>1</td>\n",
       "      <td>0</td>\n",
       "      <td>-0.238472</td>\n",
       "      <td>1</td>\n",
       "      <td>0</td>\n",
       "      <td>0</td>\n",
       "    </tr>\n",
       "    <tr>\n",
       "      <th>4913</th>\n",
       "      <td>-0.928280</td>\n",
       "      <td>1.162616</td>\n",
       "      <td>-1.131841</td>\n",
       "      <td>0.767952</td>\n",
       "      <td>-0.896909</td>\n",
       "      <td>1</td>\n",
       "      <td>1</td>\n",
       "      <td>-0.600620</td>\n",
       "      <td>0</td>\n",
       "      <td>0</td>\n",
       "      <td>0</td>\n",
       "    </tr>\n",
       "    <tr>\n",
       "      <th>3238</th>\n",
       "      <td>0.237281</td>\n",
       "      <td>1.448927</td>\n",
       "      <td>0.464325</td>\n",
       "      <td>-1.232442</td>\n",
       "      <td>-0.896909</td>\n",
       "      <td>1</td>\n",
       "      <td>0</td>\n",
       "      <td>0.180203</td>\n",
       "      <td>0</td>\n",
       "      <td>0</td>\n",
       "      <td>1</td>\n",
       "    </tr>\n",
       "    <tr>\n",
       "      <th>7661</th>\n",
       "      <td>-0.412545</td>\n",
       "      <td>0.494555</td>\n",
       "      <td>-0.812608</td>\n",
       "      <td>0.615524</td>\n",
       "      <td>-0.896909</td>\n",
       "      <td>1</td>\n",
       "      <td>1</td>\n",
       "      <td>-0.038931</td>\n",
       "      <td>1</td>\n",
       "      <td>0</td>\n",
       "      <td>1</td>\n",
       "    </tr>\n",
       "  </tbody>\n",
       "</table>\n",
       "<p>2438 rows × 11 columns</p>\n",
       "</div>"
      ],
      "text/plain": [
       "      CreditScore       Age    Tenure   Balance  NumOfProducts  HasCrCard  \\\n",
       "5193    -0.928280 -0.937002  1.422024  0.698070      -0.896909          1   \n",
       "4926     0.226966 -0.268942  0.464325  0.384443      -0.896909          1   \n",
       "5107     2.011410 -0.173505  1.422024  0.576191      -0.896909          1   \n",
       "2328     0.557037 -0.937002 -0.812608 -1.232442       0.816929          1   \n",
       "4485     1.021198 -0.459816  1.422024  0.508813       0.816929          1   \n",
       "...           ...       ...       ...       ...            ...        ...   \n",
       "4654    -0.763245 -0.746128  0.145091  0.405721       4.244606          0   \n",
       "8991    -1.083001  0.303681 -1.451074  1.057444      -0.896909          1   \n",
       "4913    -0.928280  1.162616 -1.131841  0.767952      -0.896909          1   \n",
       "3238     0.237281  1.448927  0.464325 -1.232442      -0.896909          1   \n",
       "7661    -0.412545  0.494555 -0.812608  0.615524      -0.896909          1   \n",
       "\n",
       "      IsActiveMember  EstimatedSalary  Geography_Germany  Geography_Spain  \\\n",
       "5193               1        -1.619977                  0                1   \n",
       "4926               0         1.430731                  1                0   \n",
       "5107               0         0.281512                  0                1   \n",
       "2328               1        -1.420612                  0                1   \n",
       "4485               1        -1.266785                  1                0   \n",
       "...              ...              ...                ...              ...   \n",
       "4654               0         1.530055                  1                0   \n",
       "8991               0        -0.238472                  1                0   \n",
       "4913               1        -0.600620                  0                0   \n",
       "3238               0         0.180203                  0                0   \n",
       "7661               1        -0.038931                  1                0   \n",
       "\n",
       "      Gender_Male  \n",
       "5193            0  \n",
       "4926            0  \n",
       "5107            0  \n",
       "2328            1  \n",
       "4485            1  \n",
       "...           ...  \n",
       "4654            0  \n",
       "8991            0  \n",
       "4913            0  \n",
       "3238            1  \n",
       "7661            1  \n",
       "\n",
       "[2438 rows x 11 columns]"
      ]
     },
     "metadata": {},
     "output_type": "display_data"
    }
   ],
   "source": [
    "#приведем значения входных признаков к одному масштабу. Переиспользуем scaler из п 1.2 \n",
    "\n",
    "features_train_dwn[numeric_col] = scaler.transform(features_train_dwn[numeric_col])\n",
    "display(features_train_dwn)"
   ]
  },
  {
   "cell_type": "code",
   "execution_count": 65,
   "metadata": {},
   "outputs": [
    {
     "data": {
      "text/html": [
       "<div>\n",
       "<style scoped>\n",
       "    .dataframe tbody tr th:only-of-type {\n",
       "        vertical-align: middle;\n",
       "    }\n",
       "\n",
       "    .dataframe tbody tr th {\n",
       "        vertical-align: top;\n",
       "    }\n",
       "\n",
       "    .dataframe thead th {\n",
       "        text-align: right;\n",
       "    }\n",
       "</style>\n",
       "<table border=\"1\" class=\"dataframe\">\n",
       "  <thead>\n",
       "    <tr style=\"text-align: right;\">\n",
       "      <th></th>\n",
       "      <th>CreditScore</th>\n",
       "      <th>Age</th>\n",
       "      <th>Tenure</th>\n",
       "      <th>Balance</th>\n",
       "      <th>NumOfProducts</th>\n",
       "      <th>HasCrCard</th>\n",
       "      <th>IsActiveMember</th>\n",
       "      <th>EstimatedSalary</th>\n",
       "      <th>Geography_Germany</th>\n",
       "      <th>Geography_Spain</th>\n",
       "      <th>Gender_Male</th>\n",
       "    </tr>\n",
       "  </thead>\n",
       "  <tbody>\n",
       "    <tr>\n",
       "      <th>5193</th>\n",
       "      <td>-0.928280</td>\n",
       "      <td>-0.937002</td>\n",
       "      <td>1.422024</td>\n",
       "      <td>0.698070</td>\n",
       "      <td>-0.896909</td>\n",
       "      <td>1</td>\n",
       "      <td>1</td>\n",
       "      <td>-1.619977</td>\n",
       "      <td>0</td>\n",
       "      <td>1</td>\n",
       "      <td>0</td>\n",
       "    </tr>\n",
       "    <tr>\n",
       "      <th>4926</th>\n",
       "      <td>0.226966</td>\n",
       "      <td>-0.268942</td>\n",
       "      <td>0.464325</td>\n",
       "      <td>0.384443</td>\n",
       "      <td>-0.896909</td>\n",
       "      <td>1</td>\n",
       "      <td>0</td>\n",
       "      <td>1.430731</td>\n",
       "      <td>1</td>\n",
       "      <td>0</td>\n",
       "      <td>0</td>\n",
       "    </tr>\n",
       "    <tr>\n",
       "      <th>5107</th>\n",
       "      <td>2.011410</td>\n",
       "      <td>-0.173505</td>\n",
       "      <td>1.422024</td>\n",
       "      <td>0.576191</td>\n",
       "      <td>-0.896909</td>\n",
       "      <td>1</td>\n",
       "      <td>0</td>\n",
       "      <td>0.281512</td>\n",
       "      <td>0</td>\n",
       "      <td>1</td>\n",
       "      <td>0</td>\n",
       "    </tr>\n",
       "    <tr>\n",
       "      <th>2328</th>\n",
       "      <td>0.557037</td>\n",
       "      <td>-0.937002</td>\n",
       "      <td>-0.812608</td>\n",
       "      <td>-1.232442</td>\n",
       "      <td>0.816929</td>\n",
       "      <td>1</td>\n",
       "      <td>1</td>\n",
       "      <td>-1.420612</td>\n",
       "      <td>0</td>\n",
       "      <td>1</td>\n",
       "      <td>1</td>\n",
       "    </tr>\n",
       "    <tr>\n",
       "      <th>4485</th>\n",
       "      <td>1.021198</td>\n",
       "      <td>-0.459816</td>\n",
       "      <td>1.422024</td>\n",
       "      <td>0.508813</td>\n",
       "      <td>0.816929</td>\n",
       "      <td>1</td>\n",
       "      <td>1</td>\n",
       "      <td>-1.266785</td>\n",
       "      <td>1</td>\n",
       "      <td>0</td>\n",
       "      <td>1</td>\n",
       "    </tr>\n",
       "    <tr>\n",
       "      <th>2390</th>\n",
       "      <td>-0.515692</td>\n",
       "      <td>-0.650691</td>\n",
       "      <td>0.783558</td>\n",
       "      <td>1.731596</td>\n",
       "      <td>0.816929</td>\n",
       "      <td>1</td>\n",
       "      <td>0</td>\n",
       "      <td>0.241233</td>\n",
       "      <td>1</td>\n",
       "      <td>0</td>\n",
       "      <td>1</td>\n",
       "    </tr>\n",
       "    <tr>\n",
       "      <th>614</th>\n",
       "      <td>0.371372</td>\n",
       "      <td>-1.223314</td>\n",
       "      <td>1.102791</td>\n",
       "      <td>1.112484</td>\n",
       "      <td>-0.896909</td>\n",
       "      <td>1</td>\n",
       "      <td>1</td>\n",
       "      <td>1.311388</td>\n",
       "      <td>1</td>\n",
       "      <td>0</td>\n",
       "      <td>1</td>\n",
       "    </tr>\n",
       "    <tr>\n",
       "      <th>845</th>\n",
       "      <td>-1.516218</td>\n",
       "      <td>0.971741</td>\n",
       "      <td>0.783558</td>\n",
       "      <td>0.051296</td>\n",
       "      <td>-0.896909</td>\n",
       "      <td>0</td>\n",
       "      <td>0</td>\n",
       "      <td>0.613490</td>\n",
       "      <td>0</td>\n",
       "      <td>0</td>\n",
       "      <td>1</td>\n",
       "    </tr>\n",
       "    <tr>\n",
       "      <th>7052</th>\n",
       "      <td>-0.484748</td>\n",
       "      <td>-0.650691</td>\n",
       "      <td>0.145091</td>\n",
       "      <td>-1.232442</td>\n",
       "      <td>0.816929</td>\n",
       "      <td>1</td>\n",
       "      <td>1</td>\n",
       "      <td>-1.005183</td>\n",
       "      <td>0</td>\n",
       "      <td>0</td>\n",
       "      <td>0</td>\n",
       "    </tr>\n",
       "    <tr>\n",
       "      <th>8068</th>\n",
       "      <td>-0.340342</td>\n",
       "      <td>-0.937002</td>\n",
       "      <td>-1.451074</td>\n",
       "      <td>0.355451</td>\n",
       "      <td>-0.896909</td>\n",
       "      <td>0</td>\n",
       "      <td>1</td>\n",
       "      <td>0.553165</td>\n",
       "      <td>1</td>\n",
       "      <td>0</td>\n",
       "      <td>1</td>\n",
       "    </tr>\n",
       "  </tbody>\n",
       "</table>\n",
       "</div>"
      ],
      "text/plain": [
       "      CreditScore       Age    Tenure   Balance  NumOfProducts  HasCrCard  \\\n",
       "5193    -0.928280 -0.937002  1.422024  0.698070      -0.896909          1   \n",
       "4926     0.226966 -0.268942  0.464325  0.384443      -0.896909          1   \n",
       "5107     2.011410 -0.173505  1.422024  0.576191      -0.896909          1   \n",
       "2328     0.557037 -0.937002 -0.812608 -1.232442       0.816929          1   \n",
       "4485     1.021198 -0.459816  1.422024  0.508813       0.816929          1   \n",
       "2390    -0.515692 -0.650691  0.783558  1.731596       0.816929          1   \n",
       "614      0.371372 -1.223314  1.102791  1.112484      -0.896909          1   \n",
       "845     -1.516218  0.971741  0.783558  0.051296      -0.896909          0   \n",
       "7052    -0.484748 -0.650691  0.145091 -1.232442       0.816929          1   \n",
       "8068    -0.340342 -0.937002 -1.451074  0.355451      -0.896909          0   \n",
       "\n",
       "      IsActiveMember  EstimatedSalary  Geography_Germany  Geography_Spain  \\\n",
       "5193               1        -1.619977                  0                1   \n",
       "4926               0         1.430731                  1                0   \n",
       "5107               0         0.281512                  0                1   \n",
       "2328               1        -1.420612                  0                1   \n",
       "4485               1        -1.266785                  1                0   \n",
       "2390               0         0.241233                  1                0   \n",
       "614                1         1.311388                  1                0   \n",
       "845                0         0.613490                  0                0   \n",
       "7052               1        -1.005183                  0                0   \n",
       "8068               1         0.553165                  1                0   \n",
       "\n",
       "      Gender_Male  \n",
       "5193            0  \n",
       "4926            0  \n",
       "5107            0  \n",
       "2328            1  \n",
       "4485            1  \n",
       "2390            1  \n",
       "614             1  \n",
       "845             1  \n",
       "7052            0  \n",
       "8068            1  "
      ]
     },
     "metadata": {},
     "output_type": "display_data"
    },
    {
     "data": {
      "text/plain": [
       "5193    0\n",
       "4926    0\n",
       "5107    0\n",
       "2328    0\n",
       "4485    0\n",
       "2390    0\n",
       "614     0\n",
       "845     0\n",
       "7052    0\n",
       "8068    0\n",
       "Name: Exited, dtype: int64"
      ]
     },
     "metadata": {},
     "output_type": "display_data"
    },
    {
     "data": {
      "text/plain": [
       "0    1219\n",
       "1    1219\n",
       "Name: Exited, dtype: int64"
      ]
     },
     "metadata": {},
     "output_type": "display_data"
    },
    {
     "data": {
      "text/html": [
       "<div>\n",
       "<style scoped>\n",
       "    .dataframe tbody tr th:only-of-type {\n",
       "        vertical-align: middle;\n",
       "    }\n",
       "\n",
       "    .dataframe tbody tr th {\n",
       "        vertical-align: top;\n",
       "    }\n",
       "\n",
       "    .dataframe thead th {\n",
       "        text-align: right;\n",
       "    }\n",
       "</style>\n",
       "<table border=\"1\" class=\"dataframe\">\n",
       "  <thead>\n",
       "    <tr style=\"text-align: right;\">\n",
       "      <th></th>\n",
       "      <th>CreditScore</th>\n",
       "      <th>Age</th>\n",
       "      <th>Tenure</th>\n",
       "      <th>Balance</th>\n",
       "      <th>NumOfProducts</th>\n",
       "      <th>HasCrCard</th>\n",
       "      <th>IsActiveMember</th>\n",
       "      <th>EstimatedSalary</th>\n",
       "      <th>Geography_Germany</th>\n",
       "      <th>Geography_Spain</th>\n",
       "      <th>Gender_Male</th>\n",
       "    </tr>\n",
       "  </thead>\n",
       "  <tbody>\n",
       "    <tr>\n",
       "      <th>2358</th>\n",
       "      <td>0.175393</td>\n",
       "      <td>0.399118</td>\n",
       "      <td>-1.131841</td>\n",
       "      <td>1.385698</td>\n",
       "      <td>-0.896909</td>\n",
       "      <td>0</td>\n",
       "      <td>1</td>\n",
       "      <td>-1.466761</td>\n",
       "      <td>0</td>\n",
       "      <td>0</td>\n",
       "      <td>1</td>\n",
       "    </tr>\n",
       "    <tr>\n",
       "      <th>8463</th>\n",
       "      <td>-1.299609</td>\n",
       "      <td>0.971741</td>\n",
       "      <td>-0.812608</td>\n",
       "      <td>-1.232442</td>\n",
       "      <td>-0.896909</td>\n",
       "      <td>1</td>\n",
       "      <td>0</td>\n",
       "      <td>0.254415</td>\n",
       "      <td>0</td>\n",
       "      <td>1</td>\n",
       "      <td>1</td>\n",
       "    </tr>\n",
       "    <tr>\n",
       "      <th>163</th>\n",
       "      <td>0.711757</td>\n",
       "      <td>-0.268942</td>\n",
       "      <td>-0.812608</td>\n",
       "      <td>-1.232442</td>\n",
       "      <td>0.816929</td>\n",
       "      <td>1</td>\n",
       "      <td>1</td>\n",
       "      <td>0.122863</td>\n",
       "      <td>0</td>\n",
       "      <td>1</td>\n",
       "      <td>0</td>\n",
       "    </tr>\n",
       "    <tr>\n",
       "      <th>3074</th>\n",
       "      <td>-0.391916</td>\n",
       "      <td>0.494555</td>\n",
       "      <td>0.464325</td>\n",
       "      <td>0.672529</td>\n",
       "      <td>-0.896909</td>\n",
       "      <td>1</td>\n",
       "      <td>0</td>\n",
       "      <td>0.585847</td>\n",
       "      <td>1</td>\n",
       "      <td>0</td>\n",
       "      <td>0</td>\n",
       "    </tr>\n",
       "    <tr>\n",
       "      <th>5989</th>\n",
       "      <td>0.165078</td>\n",
       "      <td>1.353490</td>\n",
       "      <td>1.741257</td>\n",
       "      <td>0.536522</td>\n",
       "      <td>-0.896909</td>\n",
       "      <td>0</td>\n",
       "      <td>0</td>\n",
       "      <td>1.462457</td>\n",
       "      <td>0</td>\n",
       "      <td>0</td>\n",
       "      <td>0</td>\n",
       "    </tr>\n",
       "    <tr>\n",
       "      <th>6230</th>\n",
       "      <td>-0.618839</td>\n",
       "      <td>3.071359</td>\n",
       "      <td>-0.174142</td>\n",
       "      <td>-1.232442</td>\n",
       "      <td>0.816929</td>\n",
       "      <td>0</td>\n",
       "      <td>1</td>\n",
       "      <td>-1.442219</td>\n",
       "      <td>0</td>\n",
       "      <td>0</td>\n",
       "      <td>1</td>\n",
       "    </tr>\n",
       "    <tr>\n",
       "      <th>6973</th>\n",
       "      <td>0.072246</td>\n",
       "      <td>0.017370</td>\n",
       "      <td>1.102791</td>\n",
       "      <td>0.472650</td>\n",
       "      <td>0.816929</td>\n",
       "      <td>1</td>\n",
       "      <td>1</td>\n",
       "      <td>1.708147</td>\n",
       "      <td>1</td>\n",
       "      <td>0</td>\n",
       "      <td>1</td>\n",
       "    </tr>\n",
       "    <tr>\n",
       "      <th>5313</th>\n",
       "      <td>1.351269</td>\n",
       "      <td>3.166796</td>\n",
       "      <td>0.145091</td>\n",
       "      <td>0.712646</td>\n",
       "      <td>0.816929</td>\n",
       "      <td>1</td>\n",
       "      <td>1</td>\n",
       "      <td>0.092048</td>\n",
       "      <td>0</td>\n",
       "      <td>0</td>\n",
       "      <td>0</td>\n",
       "    </tr>\n",
       "    <tr>\n",
       "      <th>1131</th>\n",
       "      <td>-1.567791</td>\n",
       "      <td>-0.173505</td>\n",
       "      <td>1.422024</td>\n",
       "      <td>0.786561</td>\n",
       "      <td>-0.896909</td>\n",
       "      <td>1</td>\n",
       "      <td>0</td>\n",
       "      <td>0.204979</td>\n",
       "      <td>0</td>\n",
       "      <td>1</td>\n",
       "      <td>1</td>\n",
       "    </tr>\n",
       "    <tr>\n",
       "      <th>3369</th>\n",
       "      <td>0.526093</td>\n",
       "      <td>-0.555253</td>\n",
       "      <td>1.102791</td>\n",
       "      <td>1.825481</td>\n",
       "      <td>-0.896909</td>\n",
       "      <td>1</td>\n",
       "      <td>1</td>\n",
       "      <td>-0.346512</td>\n",
       "      <td>0</td>\n",
       "      <td>0</td>\n",
       "      <td>0</td>\n",
       "    </tr>\n",
       "  </tbody>\n",
       "</table>\n",
       "</div>"
      ],
      "text/plain": [
       "      CreditScore       Age    Tenure   Balance  NumOfProducts  HasCrCard  \\\n",
       "2358     0.175393  0.399118 -1.131841  1.385698      -0.896909          0   \n",
       "8463    -1.299609  0.971741 -0.812608 -1.232442      -0.896909          1   \n",
       "163      0.711757 -0.268942 -0.812608 -1.232442       0.816929          1   \n",
       "3074    -0.391916  0.494555  0.464325  0.672529      -0.896909          1   \n",
       "5989     0.165078  1.353490  1.741257  0.536522      -0.896909          0   \n",
       "6230    -0.618839  3.071359 -0.174142 -1.232442       0.816929          0   \n",
       "6973     0.072246  0.017370  1.102791  0.472650       0.816929          1   \n",
       "5313     1.351269  3.166796  0.145091  0.712646       0.816929          1   \n",
       "1131    -1.567791 -0.173505  1.422024  0.786561      -0.896909          1   \n",
       "3369     0.526093 -0.555253  1.102791  1.825481      -0.896909          1   \n",
       "\n",
       "      IsActiveMember  EstimatedSalary  Geography_Germany  Geography_Spain  \\\n",
       "2358               1        -1.466761                  0                0   \n",
       "8463               0         0.254415                  0                1   \n",
       "163                1         0.122863                  0                1   \n",
       "3074               0         0.585847                  1                0   \n",
       "5989               0         1.462457                  0                0   \n",
       "6230               1        -1.442219                  0                0   \n",
       "6973               1         1.708147                  1                0   \n",
       "5313               1         0.092048                  0                0   \n",
       "1131               0         0.204979                  0                1   \n",
       "3369               1        -0.346512                  0                0   \n",
       "\n",
       "      Gender_Male  \n",
       "2358            1  \n",
       "8463            1  \n",
       "163             0  \n",
       "3074            0  \n",
       "5989            0  \n",
       "6230            1  \n",
       "6973            1  \n",
       "5313            0  \n",
       "1131            1  \n",
       "3369            0  "
      ]
     },
     "metadata": {},
     "output_type": "display_data"
    },
    {
     "data": {
      "text/plain": [
       "2358    0\n",
       "8463    1\n",
       "163     0\n",
       "3074    1\n",
       "5989    1\n",
       "6230    0\n",
       "6973    0\n",
       "5313    0\n",
       "1131    0\n",
       "3369    0\n",
       "Name: Exited, dtype: int64"
      ]
     },
     "metadata": {},
     "output_type": "display_data"
    }
   ],
   "source": [
    "#  визуально оценим промежуточные преобразованя\n",
    "display(features_train_dwn.head(10))\n",
    "display(target_train_dwn.head(10))\n",
    "#  проверим что выборки теперь сбанасированны\n",
    "display(target_train_dwn.value_counts())\n",
    "\n",
    "display(features_valid.head(10))\n",
    "display(target_valid.head(10))"
   ]
  },
  {
   "cell_type": "code",
   "execution_count": 66,
   "metadata": {
    "scrolled": true
   },
   "outputs": [
    {
     "name": "stdout",
     "output_type": "stream",
     "text": [
      "\n",
      "Размеры выборок:\n",
      "Обучающая (после downsampling):  (2438, 11)\n",
      "Валидирующая:  (2000, 11)\n",
      "Тестовая:  (2000, 11)\n",
      "Длина обучающих выходных признаков (2438,)\n"
     ]
    }
   ],
   "source": [
    "# Выведем размеры выборок\n",
    "\n",
    "print('\\nРазмеры выборок:')\n",
    "print('Обучающая (после downsampling): ',features_train_dwn.shape)\n",
    "print('Валидирующая: ',features_valid.shape)\n",
    "print('Тестовая: ',features_test.shape)\n",
    "\n",
    "print('Длина обучающих выходных признаков', target_train_dwn.shape)"
   ]
  },
  {
   "cell_type": "markdown",
   "metadata": {},
   "source": [
    "#### Модель случайного леса"
   ]
  },
  {
   "cell_type": "code",
   "execution_count": 67,
   "metadata": {},
   "outputs": [
    {
     "name": "stdout",
     "output_type": "stream",
     "text": [
      "depth: 2\n",
      "f1: 0.514 0.526 0.508 0.509 0.513 0.511 0.52 0.523 0.514 0.516 0.517 0.515 0.513 0.516 0.517 0.535 0.529 0.515 0.517 0.52 0.52 0.523 0.532 0.531 \n",
      "depth: 3\n",
      "f1: 0.52 0.513 0.52 0.516 0.52 0.519 0.521 0.521 0.529 0.521 0.531 0.524 0.539 0.537 0.542 0.548 0.547 0.545 0.544 0.546 0.543 0.547 0.547 0.547 \n",
      "depth: 4\n",
      "f1: 0.542 0.542 0.545 0.545 0.544 0.544 0.544 0.539 0.543 0.543 0.548 0.546 0.542 0.545 0.545 0.544 0.543 0.543 0.54 0.542 0.542 0.541 0.541 0.537 \n",
      "depth: 5\n",
      "f1: 0.56 0.545 0.55 0.551 0.547 0.547 0.552 0.551 0.553 0.55 0.552 0.55 0.549 0.55 0.549 0.547 0.546 0.545 0.544 0.546 0.545 0.546 0.544 0.548 \n",
      "depth: 6\n",
      "f1: 0.553 0.548 0.555 0.558 0.561 0.566 0.566 0.561 0.568 0.565 0.563 0.553 0.553 0.559 0.559 0.56 0.555 0.561 0.56 0.56 0.564 0.564 0.563 0.568 \n",
      "depth: 7\n",
      "f1: 0.549 0.557 0.553 0.553 0.559 0.562 0.561 0.563 0.566 0.561 0.564 0.562 0.564 0.558 0.564 0.563 0.566 0.57 0.568 0.57 0.571 0.569 0.569 0.565 \n",
      "depth: 8\n",
      "f1: 0.563 0.551 0.554 0.555 0.563 0.567 0.567 0.569 0.576 0.569 0.569 0.567 0.568 0.575 0.578 0.578 0.579 0.582 0.579 0.579 0.577 0.578 0.579 0.573 \n",
      "depth: 9\n",
      "f1: 0.56 0.564 0.561 0.56 0.558 0.567 0.564 0.57 0.573 0.576 0.583 0.58 0.575 0.58 0.581 0.583 0.581 0.585 0.582 0.577 0.582 0.586 0.58 0.585 \n",
      "depth: 10\n",
      "f1: 0.564 0.561 0.558 0.557 0.564 0.567 0.566 0.575 0.575 0.575 0.579 0.57 0.581 0.576 0.572 0.577 0.576 0.573 0.574 0.578 0.579 0.578 0.582 0.579 \n",
      "depth: 11\n",
      "f1: 0.532 0.55 0.56 0.562 0.567 0.564 0.57 0.572 0.572 0.569 0.572 0.569 0.577 0.578 0.574 0.575 0.578 0.579 0.575 0.578 0.578 0.581 0.582 0.586 \n",
      "depth: 12\n",
      "f1: 0.565 0.568 0.571 0.557 0.558 0.564 0.564 0.565 0.569 0.571 0.571 0.574 0.572 0.571 0.571 0.569 0.573 0.571 0.575 0.574 0.57 0.574 0.579 0.579 \n",
      "depth: 13\n",
      "f1: 0.533 0.552 0.564 0.56 0.564 0.556 0.559 0.559 0.562 0.565 0.571 0.567 0.569 0.572 0.574 0.581 0.578 0.579 0.581 0.578 0.575 0.578 0.579 0.575 \n",
      "depth: 14\n",
      "f1: 0.545 0.557 0.557 0.558 0.559 0.56 0.562 0.565 0.562 0.566 0.568 0.565 0.57 0.565 0.571 0.579 0.577 0.575 0.573 0.57 0.569 0.573 0.577 0.575 \n",
      "depth: 15\n",
      "f1: 0.541 0.543 0.554 0.557 0.561 0.556 0.552 0.556 0.558 0.56 0.566 0.572 0.576 0.572 0.581 0.575 0.573 0.573 0.579 0.573 0.579 0.581 0.585 0.583 \n",
      "depth: 16\n",
      "f1: 0.538 0.549 0.553 0.559 0.567 0.559 0.565 0.561 0.557 0.559 0.565 0.563 0.569 0.564 0.563 0.558 0.557 0.561 0.56 0.56 0.566 0.562 0.566 0.563 \n",
      "\n",
      "RandomForestClassifier (Downsampling):\n",
      "Лучшее кол-во деревьев: 115\n",
      "Лучшая глубина: 9\n",
      "F1 наилучшей модели: 0.5864197530864197\n"
     ]
    }
   ],
   "source": [
    "# ищем модель с наилучшим кол-вом estimate'оров \n",
    "\n",
    "best_rfc_est = 0\n",
    "best_rfc_depth = 2\n",
    "best_rfc_f1 = 0.000\n",
    "best_rfc_dwn_model = None\n",
    "\n",
    "#print(features_train.shape)\n",
    "for depth in range (5, 13):\n",
    "    print('depth:', depth)\n",
    "    print('f1:',end=' ')\n",
    "    for est in range (40, 150, 5):\n",
    "\n",
    "        model_rfc = RandomForestClassifier(random_state=12345, max_depth = depth, n_estimators = est)\n",
    "        model_rfc.fit(features_train_dwn, target_train_dwn) \n",
    "\n",
    "        # предсказание модели на валидационной выборке\n",
    "        predictions_valid = model_rfc.predict(features_valid)\n",
    "        # посчитаем значение метрики F1 на валидационной выборке\n",
    "        rfc_result_v_f1 = f1_score(target_valid, predictions_valid)\n",
    "\n",
    "        print( np.around(rfc_result_v_f1,decimals=3), end = ' ') \n",
    "        if rfc_result_v_f1 > best_rfc_f1:\n",
    "            best_rfc_dwn_model = model_rfc\n",
    "            best_rfc_f1 = rfc_result_v_f1\n",
    "            best_rfc_est = est\n",
    "            best_rfc_depth = depth\n",
    "    #print('prediction_valid:', predictions_valid) \n",
    "    #print('target_valid:', target_valid) \n",
    "    #print('f1:', rfc_result_v_f1) \n",
    "    print('')\n",
    "\n",
    "print('\\nRandomForestClassifier (Downsampling):')            \n",
    "print('Лучшее кол-во деревьев:',best_rfc_est)\n",
    "print('Лучшая глубина:', best_rfc_depth)\n",
    "print('F1 наилучшей модели:',best_rfc_f1) "
   ]
  },
  {
   "cell_type": "markdown",
   "metadata": {},
   "source": [
    "#### Модель логистической регрессии"
   ]
  },
  {
   "cell_type": "code",
   "execution_count": 68,
   "metadata": {},
   "outputs": [
    {
     "name": "stdout",
     "output_type": "stream",
     "text": [
      "\n",
      "Best best_lr_trsh:  0.525\n",
      "Best F1 value:  0.48971962616822434\n"
     ]
    }
   ],
   "source": [
    "best_lr_f1 = 0.0\n",
    "best_lr_trsh = 0.0\n",
    "best_lr_dwn_model = None\n",
    "\n",
    "#print(features_train.shape)\n",
    "\n",
    "model_lr = LogisticRegression(random_state=12345, solver = 'liblinear')\n",
    "model_lr.fit(features_train_dwn, target_train_dwn)\n",
    "\n",
    "probabilities_valid = model_lr.predict_proba(features_valid)\n",
    "probabilities_one_valid = probabilities_valid[:, 1]\n",
    "    \n",
    "for threshold in np.arange(0, 0.6, 0.025):\n",
    "    predicted_valid = list(map((lambda x: x > threshold),probabilities_one_valid)) \n",
    "    f1 = f1_score(target_valid, predicted_valid)\n",
    "#    print('threshold: ',threshold,'  f1:',f1)\n",
    "    if f1 > best_lr_f1:\n",
    "        best_lr_f1 = f1\n",
    "        best_lr_trsh = threshold\n",
    "        best_lr_dwn_model = model_lr\n",
    "\n",
    "print('\\nBest best_lr_trsh: ', best_lr_trsh)\n",
    "print('Best F1 value: ', best_lr_f1)"
   ]
  },
  {
   "cell_type": "markdown",
   "metadata": {},
   "source": [
    "***Вывод: балансировка групп признаков дала положительный результат.*** \n",
    "\n",
    "***Получено значение метрики F1:***\n",
    "\n",
    "***~0.827988~ 0.5754 -для модели случайного леса,***\n",
    "\n",
    "***~0.7896~ 0.4854 -для модели лог.регрессии.***\n",
    "\n",
    "***- в обоих случаях ~больше~  ниже чем задано в постановке задачи.***"
   ]
  },
  {
   "cell_type": "markdown",
   "metadata": {},
   "source": [
    "### Увеличение выборки (Upsampling)"
   ]
  },
  {
   "cell_type": "code",
   "execution_count": 69,
   "metadata": {},
   "outputs": [
    {
     "name": "stdout",
     "output_type": "stream",
     "text": [
      "Во сколько раз нужно увеличить кол-во признаков соответствующих меньшему классу : 4\n",
      "data_train_up_0: (4781, 15)\n",
      "data_train_up_1: (1219, 15)\n",
      "Размерность сбалансированной выборки: (9657, 15)\n",
      "<class 'pandas.core.frame.DataFrame'>\n",
      "Int64Index: 9657 entries, 492 to 7661\n",
      "Data columns (total 15 columns):\n",
      " #   Column             Non-Null Count  Dtype  \n",
      "---  ------             --------------  -----  \n",
      " 0   RowNumber          9657 non-null   int64  \n",
      " 1   CustomerId         9657 non-null   int64  \n",
      " 2   Surname            9657 non-null   object \n",
      " 3   CreditScore        9657 non-null   int64  \n",
      " 4   Age                9657 non-null   int64  \n",
      " 5   Tenure             9657 non-null   float64\n",
      " 6   Balance            9657 non-null   float64\n",
      " 7   NumOfProducts      9657 non-null   int64  \n",
      " 8   HasCrCard          9657 non-null   int64  \n",
      " 9   IsActiveMember     9657 non-null   int64  \n",
      " 10  EstimatedSalary    9657 non-null   float64\n",
      " 11  Exited             9657 non-null   int64  \n",
      " 12  Geography_Germany  9657 non-null   uint8  \n",
      " 13  Geography_Spain    9657 non-null   uint8  \n",
      " 14  Gender_Male        9657 non-null   uint8  \n",
      "dtypes: float64(3), int64(8), object(1), uint8(3)\n",
      "memory usage: 1009.1+ KB\n"
     ]
    }
   ],
   "source": [
    "#сбалансируем наборы признаков путем увеличение меньшей группы до размера бОльшей\n",
    "\n",
    "multipl = math.floor(np.around(data_train.loc[data_train['Exited']==0,:]['Exited'].count() \n",
    "                        / data_train.loc[data_train['Exited']==1,:]['Exited'].count()\n",
    "                    ,decimals=0))\n",
    "\n",
    "data_train_up_0 = data_train.loc[data_train['Exited']==0,:]\n",
    "data_train_up_1 = data_train.loc[data_train['Exited']==1,:]\n",
    "\n",
    "\n",
    "print('Во сколько раз нужно увеличить кол-во признаков соответствующих меньшему классу :', multipl)\n",
    "print('data_train_up_0:',data_train_up_0.shape)\n",
    "print('data_train_up_1:',data_train_up_1.shape)\n",
    "\n",
    "data_balanced_up = pd.concat([data_train_up_0]+[data_train_up_1]*multipl)\n",
    "\n",
    "print('Размерность сбалансированной выборки:',data_balanced_up.shape)\n",
    "\n",
    "data_balanced_up.info()"
   ]
  },
  {
   "cell_type": "code",
   "execution_count": 70,
   "metadata": {},
   "outputs": [
    {
     "name": "stdout",
     "output_type": "stream",
     "text": [
      "Общий размер новой выборки: (9657, 15)\n",
      "Кол-во с Exited = 0: 4781\n",
      "Кол-во с Exited = 1: 4876\n"
     ]
    }
   ],
   "source": [
    "# разобъем на признаки и выходные параметры + уберем неинформативные признаки\n",
    "target_train_up = data_balanced_up['Exited']\n",
    "features_train_up = data_balanced_up.drop(['RowNumber','CustomerId','Surname','Exited'], axis =1)\n",
    "\n",
    "\n",
    "print('Общий размер новой выборки:',data_balanced_up.shape)\n",
    "print('Кол-во с Exited = 0:',data_balanced_up.loc[data_balanced_up['Exited']==0,:]['Exited'].count())\n",
    "print('Кол-во с Exited = 1:',data_balanced_up.loc[data_balanced_up['Exited']==1,:]['Exited'].count())"
   ]
  },
  {
   "cell_type": "code",
   "execution_count": 71,
   "metadata": {},
   "outputs": [
    {
     "data": {
      "text/html": [
       "<div>\n",
       "<style scoped>\n",
       "    .dataframe tbody tr th:only-of-type {\n",
       "        vertical-align: middle;\n",
       "    }\n",
       "\n",
       "    .dataframe tbody tr th {\n",
       "        vertical-align: top;\n",
       "    }\n",
       "\n",
       "    .dataframe thead th {\n",
       "        text-align: right;\n",
       "    }\n",
       "</style>\n",
       "<table border=\"1\" class=\"dataframe\">\n",
       "  <thead>\n",
       "    <tr style=\"text-align: right;\">\n",
       "      <th></th>\n",
       "      <th>CreditScore</th>\n",
       "      <th>Age</th>\n",
       "      <th>Tenure</th>\n",
       "      <th>Balance</th>\n",
       "      <th>NumOfProducts</th>\n",
       "      <th>HasCrCard</th>\n",
       "      <th>IsActiveMember</th>\n",
       "      <th>EstimatedSalary</th>\n",
       "      <th>Geography_Germany</th>\n",
       "      <th>Geography_Spain</th>\n",
       "      <th>Gender_Male</th>\n",
       "    </tr>\n",
       "  </thead>\n",
       "  <tbody>\n",
       "    <tr>\n",
       "      <th>492</th>\n",
       "      <td>-0.134048</td>\n",
       "      <td>-0.078068</td>\n",
       "      <td>-0.174142</td>\n",
       "      <td>0.076163</td>\n",
       "      <td>0.816929</td>\n",
       "      <td>0</td>\n",
       "      <td>1</td>\n",
       "      <td>0.331571</td>\n",
       "      <td>0</td>\n",
       "      <td>0</td>\n",
       "      <td>0</td>\n",
       "    </tr>\n",
       "    <tr>\n",
       "      <th>6655</th>\n",
       "      <td>-1.010798</td>\n",
       "      <td>0.494555</td>\n",
       "      <td>-1.451074</td>\n",
       "      <td>0.136391</td>\n",
       "      <td>-0.896909</td>\n",
       "      <td>1</td>\n",
       "      <td>1</td>\n",
       "      <td>-0.727858</td>\n",
       "      <td>0</td>\n",
       "      <td>0</td>\n",
       "      <td>1</td>\n",
       "    </tr>\n",
       "    <tr>\n",
       "      <th>42</th>\n",
       "      <td>-0.990168</td>\n",
       "      <td>2.116987</td>\n",
       "      <td>-0.812608</td>\n",
       "      <td>0.651725</td>\n",
       "      <td>-0.896909</td>\n",
       "      <td>1</td>\n",
       "      <td>1</td>\n",
       "      <td>-0.100232</td>\n",
       "      <td>0</td>\n",
       "      <td>0</td>\n",
       "      <td>0</td>\n",
       "    </tr>\n",
       "    <tr>\n",
       "      <th>8178</th>\n",
       "      <td>0.567351</td>\n",
       "      <td>0.685430</td>\n",
       "      <td>0.783558</td>\n",
       "      <td>0.813110</td>\n",
       "      <td>0.816929</td>\n",
       "      <td>1</td>\n",
       "      <td>1</td>\n",
       "      <td>0.801922</td>\n",
       "      <td>0</td>\n",
       "      <td>0</td>\n",
       "      <td>0</td>\n",
       "    </tr>\n",
       "    <tr>\n",
       "      <th>2127</th>\n",
       "      <td>0.598296</td>\n",
       "      <td>-0.459816</td>\n",
       "      <td>1.422024</td>\n",
       "      <td>0.921963</td>\n",
       "      <td>0.816929</td>\n",
       "      <td>1</td>\n",
       "      <td>0</td>\n",
       "      <td>0.820416</td>\n",
       "      <td>1</td>\n",
       "      <td>0</td>\n",
       "      <td>1</td>\n",
       "    </tr>\n",
       "    <tr>\n",
       "      <th>...</th>\n",
       "      <td>...</td>\n",
       "      <td>...</td>\n",
       "      <td>...</td>\n",
       "      <td>...</td>\n",
       "      <td>...</td>\n",
       "      <td>...</td>\n",
       "      <td>...</td>\n",
       "      <td>...</td>\n",
       "      <td>...</td>\n",
       "      <td>...</td>\n",
       "      <td>...</td>\n",
       "    </tr>\n",
       "    <tr>\n",
       "      <th>4654</th>\n",
       "      <td>-0.763245</td>\n",
       "      <td>-0.746128</td>\n",
       "      <td>0.145091</td>\n",
       "      <td>0.405721</td>\n",
       "      <td>4.244606</td>\n",
       "      <td>0</td>\n",
       "      <td>0</td>\n",
       "      <td>1.530055</td>\n",
       "      <td>1</td>\n",
       "      <td>0</td>\n",
       "      <td>0</td>\n",
       "    </tr>\n",
       "    <tr>\n",
       "      <th>8991</th>\n",
       "      <td>-1.083001</td>\n",
       "      <td>0.303681</td>\n",
       "      <td>-1.451074</td>\n",
       "      <td>1.057444</td>\n",
       "      <td>-0.896909</td>\n",
       "      <td>1</td>\n",
       "      <td>0</td>\n",
       "      <td>-0.238472</td>\n",
       "      <td>1</td>\n",
       "      <td>0</td>\n",
       "      <td>0</td>\n",
       "    </tr>\n",
       "    <tr>\n",
       "      <th>4913</th>\n",
       "      <td>-0.928280</td>\n",
       "      <td>1.162616</td>\n",
       "      <td>-1.131841</td>\n",
       "      <td>0.767952</td>\n",
       "      <td>-0.896909</td>\n",
       "      <td>1</td>\n",
       "      <td>1</td>\n",
       "      <td>-0.600620</td>\n",
       "      <td>0</td>\n",
       "      <td>0</td>\n",
       "      <td>0</td>\n",
       "    </tr>\n",
       "    <tr>\n",
       "      <th>3238</th>\n",
       "      <td>0.237281</td>\n",
       "      <td>1.448927</td>\n",
       "      <td>0.464325</td>\n",
       "      <td>-1.232442</td>\n",
       "      <td>-0.896909</td>\n",
       "      <td>1</td>\n",
       "      <td>0</td>\n",
       "      <td>0.180203</td>\n",
       "      <td>0</td>\n",
       "      <td>0</td>\n",
       "      <td>1</td>\n",
       "    </tr>\n",
       "    <tr>\n",
       "      <th>7661</th>\n",
       "      <td>-0.412545</td>\n",
       "      <td>0.494555</td>\n",
       "      <td>-0.812608</td>\n",
       "      <td>0.615524</td>\n",
       "      <td>-0.896909</td>\n",
       "      <td>1</td>\n",
       "      <td>1</td>\n",
       "      <td>-0.038931</td>\n",
       "      <td>1</td>\n",
       "      <td>0</td>\n",
       "      <td>1</td>\n",
       "    </tr>\n",
       "  </tbody>\n",
       "</table>\n",
       "<p>9657 rows × 11 columns</p>\n",
       "</div>"
      ],
      "text/plain": [
       "      CreditScore       Age    Tenure   Balance  NumOfProducts  HasCrCard  \\\n",
       "492     -0.134048 -0.078068 -0.174142  0.076163       0.816929          0   \n",
       "6655    -1.010798  0.494555 -1.451074  0.136391      -0.896909          1   \n",
       "42      -0.990168  2.116987 -0.812608  0.651725      -0.896909          1   \n",
       "8178     0.567351  0.685430  0.783558  0.813110       0.816929          1   \n",
       "2127     0.598296 -0.459816  1.422024  0.921963       0.816929          1   \n",
       "...           ...       ...       ...       ...            ...        ...   \n",
       "4654    -0.763245 -0.746128  0.145091  0.405721       4.244606          0   \n",
       "8991    -1.083001  0.303681 -1.451074  1.057444      -0.896909          1   \n",
       "4913    -0.928280  1.162616 -1.131841  0.767952      -0.896909          1   \n",
       "3238     0.237281  1.448927  0.464325 -1.232442      -0.896909          1   \n",
       "7661    -0.412545  0.494555 -0.812608  0.615524      -0.896909          1   \n",
       "\n",
       "      IsActiveMember  EstimatedSalary  Geography_Germany  Geography_Spain  \\\n",
       "492                1         0.331571                  0                0   \n",
       "6655               1        -0.727858                  0                0   \n",
       "42                 1        -0.100232                  0                0   \n",
       "8178               1         0.801922                  0                0   \n",
       "2127               0         0.820416                  1                0   \n",
       "...              ...              ...                ...              ...   \n",
       "4654               0         1.530055                  1                0   \n",
       "8991               0        -0.238472                  1                0   \n",
       "4913               1        -0.600620                  0                0   \n",
       "3238               0         0.180203                  0                0   \n",
       "7661               1        -0.038931                  1                0   \n",
       "\n",
       "      Gender_Male  \n",
       "492             0  \n",
       "6655            1  \n",
       "42              0  \n",
       "8178            0  \n",
       "2127            1  \n",
       "...           ...  \n",
       "4654            0  \n",
       "8991            0  \n",
       "4913            0  \n",
       "3238            1  \n",
       "7661            1  \n",
       "\n",
       "[9657 rows x 11 columns]"
      ]
     },
     "metadata": {},
     "output_type": "display_data"
    }
   ],
   "source": [
    "# делаем нормализацию\n",
    "\n",
    "features_train_up[numeric_col] = scaler.transform(features_train_up[numeric_col])\n",
    "display(features_train_up)"
   ]
  },
  {
   "cell_type": "code",
   "execution_count": 72,
   "metadata": {},
   "outputs": [
    {
     "name": "stdout",
     "output_type": "stream",
     "text": [
      "\n",
      "Размеры выборок:\n",
      "Обучающая (после upsampling):  (9657, 11)\n",
      "Валидирующая:  (2000, 11)\n",
      "Тестовая:  (2000, 11)\n",
      "Длина обучающих выходных признаков (9657,)\n"
     ]
    }
   ],
   "source": [
    "# Выведем размеры выборок\n",
    "\n",
    "print('\\nРазмеры выборок:')\n",
    "print('Обучающая (после upsampling): ',features_train_up.shape)\n",
    "print('Валидирующая: ',features_valid.shape)\n",
    "print('Тестовая: ',features_test.shape)\n",
    "\n",
    "print('Длина обучающих выходных признаков', target_train_up.shape)"
   ]
  },
  {
   "cell_type": "markdown",
   "metadata": {},
   "source": [
    "<div style=\"border:solid purple 5px; padding: 20px\"> \n",
    "<h2 align=\"center\"> Рубрика «Питонячий лайфхакер» <a class=\"tocSkip\"> </h2>\n",
    "\n",
    "<h3> Встроенные функции all() и any() <a class=\"tocSkip\"> </h3>\n",
    "\n",
    "Полезные функции, которые помогут узнать есть ли определенные значения в объекте.\n",
    "\n",
    "`all` возвращает **True**, если все объекты равны **True** или удовлетворяют условию\n",
    "\n",
    "![](https://i.ibb.co/NKs2yWq/image.png)\n",
    "\n",
    "`any` в свою очередь делает то же самое, но возвращает **True**,если хотя бы один равен **True**\n",
    "\n",
    "![](https://i.ibb.co/4tq8TmV/image.png)"
   ]
  },
  {
   "cell_type": "markdown",
   "metadata": {},
   "source": [
    "#### Модель случайного леса (вложенный цикл)"
   ]
  },
  {
   "cell_type": "code",
   "execution_count": 73,
   "metadata": {
    "scrolled": true
   },
   "outputs": [
    {
     "name": "stdout",
     "output_type": "stream",
     "text": [
      "depth -  2 :10 15 20 25 30 35 40 45 50 55 60 65 70 75 80 85 90 95 100 105 110 115 120 125 , max F1:  0.527\n",
      "depth -  3 :10 15 20 25 30 35 40 45 50 55 60 65 70 75 80 85 90 95 100 105 110 115 120 125 , max F1:  0.54\n",
      "depth -  4 :10 15 20 25 30 35 40 45 50 55 60 65 70 75 80 85 90 95 100 105 110 115 120 125 , max F1:  0.554\n",
      "depth -  5 :10 15 20 25 30 35 40 45 50 55 60 65 70 75 80 85 90 95 100 105 110 115 120 125 , max F1:  0.556\n",
      "depth -  6 :10 15 20 25 30 35 40 45 50 55 60 65 70 75 80 85 90 95 100 105 110 115 120 125 , max F1:  0.568\n",
      "depth -  7 :10 15 20 25 30 35 40 45 50 55 60 65 70 75 80 85 90 95 100 105 110 115 120 125 , max F1:  0.58\n",
      "depth -  8 :10 15 20 25 30 35 40 45 50 55 60 65 70 75 80 85 90 95 100 105 110 115 120 125 , max F1:  0.593\n",
      "depth -  9 :10 15 20 25 30 35 40 45 50 55 60 65 70 75 80 85 90 95 100 105 110 115 120 125 , max F1:  0.597\n",
      "depth -  10 :10 15 20 25 30 35 40 45 50 55 60 65 70 75 80 85 90 95 100 105 110 115 120 125 , max F1:  0.597\n",
      "depth -  11 :10 15 20 25 30 35 40 45 50 55 60 65 70 75 80 85 90 95 100 105 110 115 120 125 , max F1:  0.597\n",
      "depth -  12 :10 15 20 25 30 35 40 45 50 55 60 65 70 75 80 85 90 95 100 105 110 115 120 125 , max F1:  0.606\n",
      "depth -  13 :10 15 20 25 30 35 40 45 50 55 60 65 70 75 80 85 90 95 100 105 110 115 120 125 , max F1:  0.606\n",
      "depth -  14 :10 15 20 25 30 35 40 45 50 55 60 65 70 75 80 85 90 95 100 105 110 115 120 125 , max F1:  0.606\n",
      "depth -  15 :10 15 20 25 30 35 40 45 50 55 60 65 70 75 80 85 90 95 100 105 110 115 120 125 , max F1:  0.606\n",
      "depth -  16 :10 15 20 25 30 35 40 45 50 55 60 65 70 75 80 85 90 95 100 105 110 115 120 125 , max F1:  0.606\n",
      "\n",
      "RandomForestClassifier (Upsampling):\n",
      "Лучшее кол-во деревьев: 60\n",
      "Лучшая глубина: 12\n",
      "F1 наилучшей модели: 0.6056166056166056\n"
     ]
    }
   ],
   "source": [
    "best_rfc_f1 = 0.0\n",
    "best_rfc_up_model = None\n",
    "best_rfc_depth = 1\n",
    "\n",
    "for depth in range (2, 17):\n",
    "    print('depth - ', depth, end=' :')\n",
    "    for est in range (10, 130, 5):\n",
    "   \n",
    "        model_rfc_up = RandomForestClassifier(random_state=12345, max_depth = depth, n_estimators = est)\n",
    "        model_rfc_up.fit(features_train_up, target_train_up) \n",
    "\n",
    "        # предсказание модели на валидационной выборке\n",
    "        predict_valid_up = model_rfc_up.predict(features_valid)\n",
    "        # посчитаем значение метрики F1 на валидационной выборке\n",
    "        rfc_result_v_up_f1 = f1_score(target_valid, predict_valid_up)\n",
    "        print(est,end=' ')    \n",
    "        #print('f1 (train):', rfc_result_tr_f1, end='')\n",
    "        #print(' f1 (valid):', rfc_result_v_f1)    \n",
    "        if rfc_result_v_up_f1 > best_rfc_f1:\n",
    "            best_rfc_up_model = model_rfc_up\n",
    "            best_rfc_f1 = rfc_result_v_up_f1\n",
    "            best_rfc_est = est\n",
    "            best_rfc_depth = depth\n",
    "    print(', max F1: ',np.round(best_rfc_f1, decimals = 3))\n",
    "\n",
    "print('\\nRandomForestClassifier (Upsampling):')            \n",
    "print('Лучшее кол-во деревьев:',best_rfc_est)\n",
    "print('Лучшая глубина:', best_rfc_depth)\n",
    "print('F1 наилучшей модели:',best_rfc_f1) "
   ]
  },
  {
   "cell_type": "markdown",
   "metadata": {},
   "source": [
    "#### Модель случайного леса (2 одиночных цикла)"
   ]
  },
  {
   "cell_type": "code",
   "execution_count": 74,
   "metadata": {},
   "outputs": [
    {
     "name": "stdout",
     "output_type": "stream",
     "text": [
      "2, max F1:  0.522\n",
      "3, max F1:  0.539\n",
      "4, max F1:  0.545\n",
      "5, max F1:  0.545\n",
      "6, max F1:  0.557\n",
      "7, max F1:  0.575\n",
      "8, max F1:  0.586\n",
      "9, max F1:  0.586\n",
      "10, max F1:  0.586\n",
      "11, max F1:  0.586\n",
      "12, max F1:  0.592\n",
      "13, max F1:  0.592\n",
      "14, max F1:  0.592\n",
      "15, max F1:  0.592\n",
      "16, max F1:  0.595\n",
      "\n",
      "RandomForestClassifier (Upsampling p1):\n",
      "Лучшая глубина: 16\n",
      "F1 наилучшей модели: 0.5953991880920163\n"
     ]
    }
   ],
   "source": [
    "best_rfc_f1 = 0.0\n",
    "best_rfc_up1_model = None\n",
    "best_rfc_depth_1 = 1\n",
    "\n",
    "for depth in range (2, 17):\n",
    "\n",
    "    model_rfc_up1 = RandomForestClassifier(random_state=12345, max_depth = depth)\n",
    "    model_rfc_up1.fit(features_train_up, target_train_up) \n",
    "\n",
    "    # предсказание модели на валидационной выборке\n",
    "    predict_valid_up1 = model_rfc_up1.predict(features_valid)\n",
    "    # посчитаем значение метрики F1 на валидационной выборке\n",
    "    rfc_result_v_1_f1 = f1_score(target_valid, predict_valid_up1)\n",
    "    print(depth, end='')    \n",
    "    #print('f1 (train):', rfc_result_tr_f1, end='')\n",
    "    #print(' f1 (valid):', rfc_result_v_f1)    \n",
    "    if rfc_result_v_1_f1 > best_rfc_f1:\n",
    "        best_rfc_up1_model = model_rfc_up1\n",
    "        best_rfc_f1 = rfc_result_v_1_f1\n",
    "        best_rfc_est = est\n",
    "        best_rfc_depth_1 = depth\n",
    "    print(', max F1: ',np.round(best_rfc_f1, decimals = 3))\n",
    "\n",
    "print('\\nRandomForestClassifier (Upsampling p1):')            \n",
    "print('Лучшая глубина:', best_rfc_depth_1)\n",
    "print('F1 наилучшей модели:',best_rfc_f1) "
   ]
  },
  {
   "cell_type": "code",
   "execution_count": 75,
   "metadata": {
    "scrolled": true
   },
   "outputs": [
    {
     "name": "stdout",
     "output_type": "stream",
     "text": [
      "10 , max F1:  0.55\n",
      "15 , max F1:  0.552\n",
      "20 , max F1:  0.56\n",
      "25 , max F1:  0.57\n",
      "30 , max F1:  0.574\n",
      "35 , max F1:  0.58\n",
      "40 , max F1:  0.58\n",
      "45 , max F1:  0.58\n",
      "50 , max F1:  0.586\n",
      "55 , max F1:  0.586\n",
      "60 , max F1:  0.59\n",
      "65 , max F1:  0.59\n",
      "70 , max F1:  0.59\n",
      "75 , max F1:  0.592\n",
      "80 , max F1:  0.592\n",
      "85 , max F1:  0.592\n",
      "90 , max F1:  0.592\n",
      "95 , max F1:  0.592\n",
      "100 , max F1:  0.595\n",
      "105 , max F1:  0.595\n",
      "110 , max F1:  0.595\n",
      "115 , max F1:  0.595\n",
      "120 , max F1:  0.596\n",
      "125 , max F1:  0.596\n",
      "\n",
      "RandomForestClassifier (Upsampling):\n",
      "Лучшее кол-во деревьев: 120\n",
      "F1 наилучшей модели: 0.5959183673469387\n"
     ]
    }
   ],
   "source": [
    "best_rfc_f1 = 0.0\n",
    "best_rfc_up2_model = None\n",
    "best_rfc_est = 1\n",
    "\n",
    "\n",
    "for est in range (10, 130, 5):\n",
    "   \n",
    "    model_rfc_up2 = RandomForestClassifier(random_state=12345, max_depth = best_rfc_depth_1, n_estimators = est)\n",
    "    model_rfc_up2.fit(features_train_up, target_train_up) \n",
    "\n",
    "    # предсказание модели на валидационной выборке\n",
    "    predict_valid_up2 = model_rfc_up2.predict(features_valid)\n",
    "    # посчитаем значение метрики F1 на валидационной выборке\n",
    "    rfc_result_v_2_f1 = f1_score(target_valid, predict_valid_up2)\n",
    "    print(est,end=' ')    \n",
    "    #print('f1 (train):', rfc_result_tr_f1, end='')\n",
    "    #print(' f1 (valid):', rfc_result_v_f1)    \n",
    "    if rfc_result_v_2_f1 > best_rfc_f1:\n",
    "        best_rfc_up2_model = model_rfc_up2\n",
    "        best_rfc_f1 = rfc_result_v_2_f1\n",
    "        best_rfc_est = est\n",
    "    print(', max F1: ',np.round(best_rfc_f1, decimals = 3))\n",
    "\n",
    "print('\\nRandomForestClassifier (Upsampling):')            \n",
    "print('Лучшее кол-во деревьев:',best_rfc_est)\n",
    "print('F1 наилучшей модели:',best_rfc_f1) "
   ]
  },
  {
   "cell_type": "markdown",
   "metadata": {},
   "source": [
    "***Вывод: ради эксперемента сравнил результаты работы вложенного цикла (с перебором depth и est) в п 3.2.1 и двух одиночных циклов с последовательным перебором depth, а затем est, в п3.2.2.  Результирующие значения F1 почти не отличаются! Можно ли как-то понять почему? Если результат не сильно отличается то смысла делать вложенный цикл нет, т.к. это пустая трата ресурсов и времени. Или я что-то не учел ?***"
   ]
  },
  {
   "cell_type": "markdown",
   "metadata": {},
   "source": [
    "####  Модель логистической регрессии"
   ]
  },
  {
   "cell_type": "code",
   "execution_count": 76,
   "metadata": {},
   "outputs": [
    {
     "name": "stdout",
     "output_type": "stream",
     "text": [
      "(6000, 11)\n",
      "\n",
      "Best threshold:  0.525\n",
      "Best F1 value:  0.485473289597001\n"
     ]
    }
   ],
   "source": [
    "best_lr_f1 = 0.0\n",
    "best_lr_trsh = 0.0\n",
    "best_lr_up_model = None\n",
    "\n",
    "print(features_train.shape)\n",
    "\n",
    "model_lr_up = LogisticRegression(random_state=12345, solver = 'liblinear')\n",
    "model_lr_up.fit(features_train_up, target_train_up)\n",
    "\n",
    "probabilities_valid = model_lr_up.predict_proba(features_valid)\n",
    "probabilities_one_valid = probabilities_valid[:, 1]\n",
    "    \n",
    "for threshold in np.arange(0, 0.6, 0.025):\n",
    "    predicted_valid = list(map((lambda x: x > threshold),probabilities_one_valid)) \n",
    "    f1 = f1_score(target_valid, predicted_valid)\n",
    "#    print('threshold: ',threshold,'  f1:',f1)\n",
    "    if f1 > best_lr_f1:\n",
    "        best_lr_f1 = f1\n",
    "        best_lr_trsh = threshold\n",
    "        best_lr_up_model = model_lr_up\n",
    "\n",
    "print('\\nBest threshold: ', best_lr_trsh)\n",
    "print('Best F1 value: ', best_lr_f1)"
   ]
  },
  {
   "cell_type": "markdown",
   "metadata": {},
   "source": [
    "***Вывод: лучший результат показала модель случайного леса, обученная после балансировки через Upsampling, с количеством деревьев 140 и максимальной глубиной одерева 17***\n",
    "\n",
    "***Значение F1 = 0.9024 - выше чем при Downsamplin'е. Это и понятно, модель получилась более точной, т.к. мы максимально использовали все данные для обучения***\n",
    "\n",
    "***Модель логистической регрессии обученная после балансировки через Upsampling, хоть и показала значение F1 выше порогового (0.59) но оказалась почему-то даже ниже чем в п.3.1.2***\n",
    "\n"
   ]
  },
  {
   "cell_type": "markdown",
   "metadata": {},
   "source": [
    "## Тестирование модели"
   ]
  },
  {
   "cell_type": "code",
   "execution_count": 77,
   "metadata": {},
   "outputs": [],
   "source": [
    "#Тестирование будем выполнять на случайного леса с макс.глубиной 17 и количеством деревьев 140, полученной после Upsampling\n",
    "#"
   ]
  },
  {
   "cell_type": "code",
   "execution_count": 78,
   "metadata": {},
   "outputs": [
    {
     "name": "stdout",
     "output_type": "stream",
     "text": [
      "F1 для тестовой выборки: 0.6139747995418099\n",
      "0.5953608247422679\n",
      "0.5891472868217054\n"
     ]
    }
   ],
   "source": [
    "predictions_test = best_rfc_up_model.predict(features_test)\n",
    "\n",
    "# посчитаем значение метрики F1 на тестовой выборке\n",
    "rfc_test_f1 = f1_score(target_test, predictions_test)\n",
    "\n",
    "print('F1 для тестовой выборки:', rfc_test_f1)\n",
    "print(f1_score(target_test, best_rfc_up1_model.predict(features_test)))\n",
    "print(f1_score(target_test, best_rfc_up2_model.predict(features_test)))"
   ]
  },
  {
   "cell_type": "markdown",
   "metadata": {},
   "source": [
    "***Вывод: тест на наилучшей модели дал значение F1 - также, больше чем то, которое нужно было достич по заданию (0.59). Бинго!***\n"
   ]
  },
  {
   "cell_type": "markdown",
   "metadata": {},
   "source": [
    "\n",
    "## Общий вывод\n",
    "\n"
   ]
  },
  {
   "cell_type": "markdown",
   "metadata": {},
   "source": [
    "***1) Был проведен анализ исходных данных на предмет наличия пропусков и аномальных значений***\n",
    "\n",
    "***2) Весь массив данных был поделен на 3 части : обучающая выборка, валидирующа, тестовая, в пропорции 3:1:1 соответственно. Проведена dummy-перекодировка для категориальных признаков, была выполнена нормализация всех наборов признаков через Scaler***\n",
    "\n",
    "***В п.2 было обучены 2 модели : случайного леса и логистической регрессии. Для модели случайного леса подобраны оптимальные значения максимальной глубины деревьев и кол-ва естиматоров: 13 и 40 соотвественно. Достигнуто максимальное значение метрики F1 равное 0.5691. Значение прямо скажем не большое , но это скорее обусловлено дисбалансом кол-ва признаков относящихся к различным целевым классам Exited=0 и Exited=0. Модель логистической регрессии показала на данной обучающей выбьорке лучший результат при значении solver = liblinear, при этом значени F1 = 0.4934 - меньше чем у модели случ.леса***\n",
    "\n",
    "***3) Проведена балансировка обучающей выборки методом downsampling , получены значения F1 0.5806 и 0.4868 для модели случ.леса и логистической регрессии соответственно. Результаты не совсем хорошие.***\n",
    "\n",
    "***4) Проведена балансировка обучающей выборки методом upsampling , получены значения F1 0.6056 и 0.4854 для модели случ.леса и логистической регрессии соответственно. Модель случайного леса показала наилучший результат при значения гиперпараметров: максимальная глубина дерева 13 и число естиматоров 60***\n",
    "\n",
    "***5) Тестирование на тестовой выборке было сделано на модели случайного леса с параметрами (макс.глубина = 12, кол-во эстиматоров = 60 - может варьироваться от запуска к запуску) при этом получено значение F1 равное 0.6139 - выше указаной в задании значения (0.59) -  значит считаем что цель работы достигнута !***"
   ]
  },
  {
   "cell_type": "markdown",
   "metadata": {},
   "source": [
    "## Чек-лист готовности проекта"
   ]
  },
  {
   "cell_type": "markdown",
   "metadata": {},
   "source": [
    "Поставьте 'x' в выполненных пунктах. Далее нажмите Shift+Enter."
   ]
  },
  {
   "cell_type": "code",
   "execution_count": null,
   "metadata": {},
   "outputs": [],
   "source": []
  }
 ],
 "metadata": {
  "ExecuteTimeLog": [
   {
    "duration": 1030,
    "start_time": "2023-11-11T20:08:34.282Z"
   },
   {
    "duration": 161,
    "start_time": "2023-11-11T20:08:37.459Z"
   },
   {
    "duration": 13,
    "start_time": "2023-11-11T20:08:38.444Z"
   },
   {
    "duration": 20,
    "start_time": "2023-11-11T20:09:01.141Z"
   },
   {
    "duration": 7,
    "start_time": "2023-11-11T20:12:12.359Z"
   },
   {
    "duration": 9,
    "start_time": "2023-11-11T20:13:14.501Z"
   },
   {
    "duration": 9,
    "start_time": "2023-11-11T20:14:08.631Z"
   },
   {
    "duration": 9,
    "start_time": "2023-11-11T20:15:56.811Z"
   },
   {
    "duration": 9,
    "start_time": "2023-11-11T20:16:04.171Z"
   },
   {
    "duration": 13,
    "start_time": "2023-11-11T20:21:26.332Z"
   },
   {
    "duration": 20,
    "start_time": "2023-11-11T20:22:41.102Z"
   },
   {
    "duration": 88,
    "start_time": "2023-11-11T20:23:47.032Z"
   },
   {
    "duration": 84,
    "start_time": "2023-11-11T20:23:53.691Z"
   },
   {
    "duration": 6,
    "start_time": "2023-11-11T20:24:04.991Z"
   },
   {
    "duration": 6,
    "start_time": "2023-11-11T20:29:02.022Z"
   },
   {
    "duration": 5,
    "start_time": "2023-11-11T20:29:33.682Z"
   },
   {
    "duration": 8,
    "start_time": "2023-11-11T20:31:50.891Z"
   },
   {
    "duration": 14,
    "start_time": "2023-11-11T20:32:36.861Z"
   },
   {
    "duration": 3,
    "start_time": "2023-11-11T20:32:50.092Z"
   },
   {
    "duration": 3,
    "start_time": "2023-11-11T20:33:02.204Z"
   },
   {
    "duration": 41,
    "start_time": "2023-11-11T20:33:02.833Z"
   },
   {
    "duration": 17,
    "start_time": "2023-11-11T20:33:03.322Z"
   },
   {
    "duration": 13,
    "start_time": "2023-11-11T20:33:05.491Z"
   },
   {
    "duration": 69,
    "start_time": "2023-11-11T20:34:35.212Z"
   },
   {
    "duration": 97,
    "start_time": "2023-11-11T20:34:43.722Z"
   },
   {
    "duration": 8,
    "start_time": "2023-11-11T20:35:18.772Z"
   },
   {
    "duration": 6,
    "start_time": "2023-11-11T20:36:14.180Z"
   },
   {
    "duration": 14,
    "start_time": "2023-11-11T20:40:18.901Z"
   },
   {
    "duration": 23,
    "start_time": "2023-11-11T20:41:11.723Z"
   },
   {
    "duration": 11,
    "start_time": "2023-11-11T20:42:09.072Z"
   },
   {
    "duration": 14,
    "start_time": "2023-11-11T20:42:55.660Z"
   },
   {
    "duration": 7,
    "start_time": "2023-11-11T20:43:02.932Z"
   },
   {
    "duration": 5,
    "start_time": "2023-11-11T20:43:35.492Z"
   },
   {
    "duration": 6,
    "start_time": "2023-11-11T20:44:30.212Z"
   },
   {
    "duration": 20,
    "start_time": "2023-11-11T20:51:54.392Z"
   },
   {
    "duration": 1098,
    "start_time": "2023-11-12T10:26:08.658Z"
   },
   {
    "duration": 155,
    "start_time": "2023-11-12T10:26:09.758Z"
   },
   {
    "duration": 12,
    "start_time": "2023-11-12T10:26:10.089Z"
   },
   {
    "duration": 19,
    "start_time": "2023-11-12T10:26:11.313Z"
   },
   {
    "duration": 8,
    "start_time": "2023-11-12T10:26:13.192Z"
   },
   {
    "duration": 11,
    "start_time": "2023-11-12T10:26:14.080Z"
   },
   {
    "duration": 5,
    "start_time": "2023-11-12T10:26:17.299Z"
   },
   {
    "duration": 5,
    "start_time": "2023-11-12T10:26:19.554Z"
   },
   {
    "duration": 8,
    "start_time": "2023-11-12T10:35:25.450Z"
   },
   {
    "duration": 4,
    "start_time": "2023-11-12T10:35:25.929Z"
   },
   {
    "duration": 3,
    "start_time": "2023-11-12T10:35:27.172Z"
   },
   {
    "duration": 93,
    "start_time": "2023-11-12T10:35:28.170Z"
   },
   {
    "duration": 9,
    "start_time": "2023-11-12T10:37:41.526Z"
   },
   {
    "duration": 33,
    "start_time": "2023-11-12T10:42:52.076Z"
   },
   {
    "duration": 28,
    "start_time": "2023-11-12T10:42:55.349Z"
   },
   {
    "duration": 3,
    "start_time": "2023-11-12T10:45:37.378Z"
   },
   {
    "duration": 20,
    "start_time": "2023-11-12T10:45:38.657Z"
   },
   {
    "duration": 7,
    "start_time": "2023-11-12T10:48:43.101Z"
   },
   {
    "duration": 4,
    "start_time": "2023-11-12T10:48:43.624Z"
   },
   {
    "duration": 3,
    "start_time": "2023-11-12T10:48:45.048Z"
   },
   {
    "duration": 20,
    "start_time": "2023-11-12T10:48:46.206Z"
   },
   {
    "duration": 75,
    "start_time": "2023-11-12T11:01:08.167Z"
   },
   {
    "duration": 203,
    "start_time": "2023-11-12T11:02:46.180Z"
   },
   {
    "duration": 97,
    "start_time": "2023-11-12T11:05:01.137Z"
   },
   {
    "duration": 80,
    "start_time": "2023-11-12T11:05:44.701Z"
   },
   {
    "duration": 82,
    "start_time": "2023-11-12T11:05:47.467Z"
   },
   {
    "duration": 109,
    "start_time": "2023-11-12T11:05:55.872Z"
   },
   {
    "duration": 106,
    "start_time": "2023-11-12T11:06:01.573Z"
   },
   {
    "duration": 89,
    "start_time": "2023-11-12T11:06:14.101Z"
   },
   {
    "duration": 2201,
    "start_time": "2023-11-12T11:07:34.567Z"
   },
   {
    "duration": 4,
    "start_time": "2023-11-12T11:07:36.770Z"
   },
   {
    "duration": 173,
    "start_time": "2023-11-12T11:12:02.238Z"
   },
   {
    "duration": 24,
    "start_time": "2023-11-12T11:27:38.156Z"
   },
   {
    "duration": 21,
    "start_time": "2023-11-12T11:28:09.782Z"
   },
   {
    "duration": 1154,
    "start_time": "2023-11-12T20:15:38.984Z"
   },
   {
    "duration": 80,
    "start_time": "2023-11-12T20:15:40.139Z"
   },
   {
    "duration": 12,
    "start_time": "2023-11-12T20:15:40.220Z"
   },
   {
    "duration": 48,
    "start_time": "2023-11-12T20:15:40.234Z"
   },
   {
    "duration": 8,
    "start_time": "2023-11-12T20:15:40.284Z"
   },
   {
    "duration": 12,
    "start_time": "2023-11-12T20:15:40.293Z"
   },
   {
    "duration": 14,
    "start_time": "2023-11-12T20:15:40.307Z"
   },
   {
    "duration": 8,
    "start_time": "2023-11-12T20:15:40.322Z"
   },
   {
    "duration": 1088,
    "start_time": "2023-11-12T20:18:08.792Z"
   },
   {
    "duration": 44,
    "start_time": "2023-11-12T20:18:10.657Z"
   },
   {
    "duration": 12,
    "start_time": "2023-11-12T20:18:11.126Z"
   },
   {
    "duration": 19,
    "start_time": "2023-11-12T20:18:11.886Z"
   },
   {
    "duration": 9,
    "start_time": "2023-11-12T20:18:13.727Z"
   },
   {
    "duration": 11,
    "start_time": "2023-11-12T20:18:14.626Z"
   },
   {
    "duration": 6,
    "start_time": "2023-11-12T20:18:15.196Z"
   },
   {
    "duration": 6,
    "start_time": "2023-11-12T20:18:15.917Z"
   },
   {
    "duration": 12,
    "start_time": "2023-11-12T20:18:17.278Z"
   },
   {
    "duration": 107,
    "start_time": "2023-11-12T20:18:19.356Z"
   },
   {
    "duration": 3,
    "start_time": "2023-11-12T20:18:48.967Z"
   },
   {
    "duration": 11,
    "start_time": "2023-11-12T20:18:56.548Z"
   },
   {
    "duration": 21,
    "start_time": "2023-11-12T20:18:57.109Z"
   },
   {
    "duration": 12,
    "start_time": "2023-11-12T20:19:23.123Z"
   },
   {
    "duration": 10,
    "start_time": "2023-11-12T20:19:38.989Z"
   },
   {
    "duration": 12,
    "start_time": "2023-11-12T20:20:04.026Z"
   },
   {
    "duration": 13,
    "start_time": "2023-11-12T20:20:04.808Z"
   },
   {
    "duration": 16,
    "start_time": "2023-11-12T20:20:19.783Z"
   },
   {
    "duration": 8,
    "start_time": "2023-11-12T20:20:44.619Z"
   },
   {
    "duration": 18,
    "start_time": "2023-11-12T20:21:39.280Z"
   },
   {
    "duration": 10,
    "start_time": "2023-11-12T20:21:40.294Z"
   },
   {
    "duration": 14,
    "start_time": "2023-11-12T20:21:41.524Z"
   },
   {
    "duration": 10,
    "start_time": "2023-11-12T20:22:08.290Z"
   },
   {
    "duration": 7,
    "start_time": "2023-11-12T20:22:22.536Z"
   },
   {
    "duration": 4,
    "start_time": "2023-11-12T20:22:33.959Z"
   },
   {
    "duration": 23,
    "start_time": "2023-11-12T20:23:27.583Z"
   },
   {
    "duration": 9,
    "start_time": "2023-11-12T20:23:31.696Z"
   },
   {
    "duration": 4,
    "start_time": "2023-11-12T20:23:52.656Z"
   },
   {
    "duration": 4,
    "start_time": "2023-11-12T20:23:55.859Z"
   },
   {
    "duration": 20,
    "start_time": "2023-11-12T20:25:07.896Z"
   },
   {
    "duration": 4,
    "start_time": "2023-11-12T20:25:08.807Z"
   },
   {
    "duration": 8,
    "start_time": "2023-11-12T20:25:09.577Z"
   },
   {
    "duration": 28,
    "start_time": "2023-11-12T20:25:13.966Z"
   },
   {
    "duration": 13,
    "start_time": "2023-11-12T20:25:18.870Z"
   },
   {
    "duration": 4,
    "start_time": "2023-11-12T20:25:19.616Z"
   },
   {
    "duration": 11,
    "start_time": "2023-11-12T20:30:38.946Z"
   },
   {
    "duration": 23,
    "start_time": "2023-11-12T20:30:39.577Z"
   },
   {
    "duration": 4,
    "start_time": "2023-11-12T20:30:40.125Z"
   },
   {
    "duration": 4,
    "start_time": "2023-11-12T20:30:41.717Z"
   },
   {
    "duration": 14,
    "start_time": "2023-11-12T20:30:46.868Z"
   },
   {
    "duration": 12,
    "start_time": "2023-11-12T20:31:05.748Z"
   },
   {
    "duration": 30,
    "start_time": "2023-11-12T20:31:08.351Z"
   },
   {
    "duration": 5,
    "start_time": "2023-11-12T20:31:24.320Z"
   },
   {
    "duration": 4,
    "start_time": "2023-11-12T20:31:30.136Z"
   },
   {
    "duration": 3,
    "start_time": "2023-11-12T20:31:38.996Z"
   },
   {
    "duration": 12,
    "start_time": "2023-11-12T20:32:36.863Z"
   },
   {
    "duration": 21,
    "start_time": "2023-11-12T20:32:37.596Z"
   },
   {
    "duration": 5,
    "start_time": "2023-11-12T20:32:38.016Z"
   },
   {
    "duration": 8,
    "start_time": "2023-11-12T20:32:38.568Z"
   },
   {
    "duration": 75,
    "start_time": "2023-11-12T20:32:39.406Z"
   },
   {
    "duration": 23,
    "start_time": "2023-11-12T20:34:35.926Z"
   },
   {
    "duration": 6,
    "start_time": "2023-11-12T20:36:02.776Z"
   },
   {
    "duration": 19,
    "start_time": "2023-11-12T20:36:09.536Z"
   },
   {
    "duration": 21,
    "start_time": "2023-11-12T20:36:15.369Z"
   },
   {
    "duration": 11,
    "start_time": "2023-11-12T20:36:28.805Z"
   },
   {
    "duration": 33,
    "start_time": "2023-11-12T20:36:30.118Z"
   },
   {
    "duration": 23,
    "start_time": "2023-11-12T20:36:31.156Z"
   },
   {
    "duration": 15,
    "start_time": "2023-11-12T20:37:29.669Z"
   },
   {
    "duration": 10,
    "start_time": "2023-11-12T20:38:48.998Z"
   },
   {
    "duration": 18,
    "start_time": "2023-11-12T20:38:49.677Z"
   },
   {
    "duration": 14,
    "start_time": "2023-11-12T20:38:50.458Z"
   },
   {
    "duration": 7,
    "start_time": "2023-11-12T20:38:54.197Z"
   },
   {
    "duration": 88,
    "start_time": "2023-11-12T20:39:06.177Z"
   },
   {
    "duration": 3,
    "start_time": "2023-11-12T20:39:26.348Z"
   },
   {
    "duration": 30,
    "start_time": "2023-11-12T20:41:35.567Z"
   },
   {
    "duration": 21,
    "start_time": "2023-11-12T20:43:14.917Z"
   },
   {
    "duration": 17,
    "start_time": "2023-11-12T20:43:25.967Z"
   },
   {
    "duration": 5,
    "start_time": "2023-11-12T20:43:59.137Z"
   },
   {
    "duration": 3,
    "start_time": "2023-11-12T20:44:25.759Z"
   },
   {
    "duration": 26,
    "start_time": "2023-11-12T20:44:42.660Z"
   },
   {
    "duration": 4,
    "start_time": "2023-11-12T20:44:52.026Z"
   },
   {
    "duration": 3,
    "start_time": "2023-11-12T20:45:00.398Z"
   },
   {
    "duration": 17,
    "start_time": "2023-11-12T20:45:05.527Z"
   },
   {
    "duration": 1204,
    "start_time": "2023-11-13T13:20:47.162Z"
   },
   {
    "duration": 165,
    "start_time": "2023-11-13T13:20:48.368Z"
   },
   {
    "duration": 14,
    "start_time": "2023-11-13T13:20:48.534Z"
   },
   {
    "duration": 42,
    "start_time": "2023-11-13T13:20:48.549Z"
   },
   {
    "duration": 11,
    "start_time": "2023-11-13T13:20:48.593Z"
   },
   {
    "duration": 34,
    "start_time": "2023-11-13T13:20:48.605Z"
   },
   {
    "duration": 10,
    "start_time": "2023-11-13T13:20:48.641Z"
   },
   {
    "duration": 16,
    "start_time": "2023-11-13T13:20:48.653Z"
   },
   {
    "duration": 26,
    "start_time": "2023-11-13T13:20:48.671Z"
   },
   {
    "duration": 30,
    "start_time": "2023-11-13T13:20:48.699Z"
   },
   {
    "duration": 13,
    "start_time": "2023-11-13T13:20:48.731Z"
   },
   {
    "duration": 9,
    "start_time": "2023-11-13T13:20:48.745Z"
   },
   {
    "duration": 28,
    "start_time": "2023-11-13T13:20:48.756Z"
   },
   {
    "duration": 16,
    "start_time": "2023-11-13T13:20:48.786Z"
   },
   {
    "duration": 1416,
    "start_time": "2023-11-13T13:21:21.447Z"
   },
   {
    "duration": 43,
    "start_time": "2023-11-13T13:21:22.865Z"
   },
   {
    "duration": 12,
    "start_time": "2023-11-13T13:21:22.910Z"
   },
   {
    "duration": 27,
    "start_time": "2023-11-13T13:21:22.923Z"
   },
   {
    "duration": 14,
    "start_time": "2023-11-13T13:21:22.952Z"
   },
   {
    "duration": 65,
    "start_time": "2023-11-13T13:21:22.968Z"
   },
   {
    "duration": 15,
    "start_time": "2023-11-13T13:21:23.035Z"
   },
   {
    "duration": 57,
    "start_time": "2023-11-13T13:21:23.052Z"
   },
   {
    "duration": 60,
    "start_time": "2023-11-13T13:21:23.110Z"
   },
   {
    "duration": 30,
    "start_time": "2023-11-13T13:21:23.172Z"
   },
   {
    "duration": 15,
    "start_time": "2023-11-13T13:21:23.204Z"
   },
   {
    "duration": 9,
    "start_time": "2023-11-13T13:21:23.220Z"
   },
   {
    "duration": 20,
    "start_time": "2023-11-13T13:21:23.230Z"
   },
   {
    "duration": 15,
    "start_time": "2023-11-13T13:21:23.253Z"
   },
   {
    "duration": 113,
    "start_time": "2023-11-13T13:21:30.775Z"
   },
   {
    "duration": 11,
    "start_time": "2023-11-13T13:22:09.186Z"
   },
   {
    "duration": 3,
    "start_time": "2023-11-13T13:22:42.980Z"
   },
   {
    "duration": 4,
    "start_time": "2023-11-13T13:23:23.221Z"
   },
   {
    "duration": 3,
    "start_time": "2023-11-13T13:23:38.544Z"
   },
   {
    "duration": 4,
    "start_time": "2023-11-13T13:23:46.460Z"
   },
   {
    "duration": 9,
    "start_time": "2023-11-13T13:24:25.771Z"
   },
   {
    "duration": 12,
    "start_time": "2023-11-13T13:24:37.822Z"
   },
   {
    "duration": 19,
    "start_time": "2023-11-13T13:25:54.680Z"
   },
   {
    "duration": 5,
    "start_time": "2023-11-13T13:26:05.896Z"
   },
   {
    "duration": 13,
    "start_time": "2023-11-13T13:26:17.949Z"
   },
   {
    "duration": 14,
    "start_time": "2023-11-13T13:27:35.244Z"
   },
   {
    "duration": 20,
    "start_time": "2023-11-13T13:27:41.315Z"
   },
   {
    "duration": 15,
    "start_time": "2023-11-13T13:27:42.024Z"
   },
   {
    "duration": 14,
    "start_time": "2023-11-13T13:28:07.532Z"
   },
   {
    "duration": 8,
    "start_time": "2023-11-13T13:28:08.508Z"
   },
   {
    "duration": 5,
    "start_time": "2023-11-13T13:28:12.485Z"
   },
   {
    "duration": 5,
    "start_time": "2023-11-13T13:28:18.460Z"
   },
   {
    "duration": 4,
    "start_time": "2023-11-13T13:28:56.461Z"
   },
   {
    "duration": 13,
    "start_time": "2023-11-13T13:28:57.866Z"
   },
   {
    "duration": 18,
    "start_time": "2023-11-13T13:29:04.918Z"
   },
   {
    "duration": 16,
    "start_time": "2023-11-13T13:29:18.235Z"
   },
   {
    "duration": 27,
    "start_time": "2023-11-13T13:29:19.944Z"
   },
   {
    "duration": 19,
    "start_time": "2023-11-13T13:29:33.661Z"
   },
   {
    "duration": 14,
    "start_time": "2023-11-13T13:29:50.166Z"
   },
   {
    "duration": 19,
    "start_time": "2023-11-13T13:29:53.650Z"
   },
   {
    "duration": 12,
    "start_time": "2023-11-13T13:31:10.685Z"
   },
   {
    "duration": 20,
    "start_time": "2023-11-13T13:31:15.104Z"
   },
   {
    "duration": 16,
    "start_time": "2023-11-13T13:31:56.980Z"
   },
   {
    "duration": 5677,
    "start_time": "2023-11-13T13:32:02.581Z"
   },
   {
    "duration": 18,
    "start_time": "2023-11-13T13:32:38.705Z"
   },
   {
    "duration": 7165,
    "start_time": "2023-11-13T13:32:43.854Z"
   },
   {
    "duration": 13,
    "start_time": "2023-11-13T13:33:14.915Z"
   },
   {
    "duration": 7173,
    "start_time": "2023-11-13T13:33:17.831Z"
   },
   {
    "duration": 17,
    "start_time": "2023-11-13T13:33:37.633Z"
   },
   {
    "duration": 19,
    "start_time": "2023-11-13T13:33:40.308Z"
   },
   {
    "duration": 5,
    "start_time": "2023-11-13T13:39:53.017Z"
   },
   {
    "duration": 7,
    "start_time": "2023-11-13T13:40:09.572Z"
   },
   {
    "duration": 5,
    "start_time": "2023-11-13T13:40:47.723Z"
   },
   {
    "duration": 6,
    "start_time": "2023-11-13T13:40:48.706Z"
   },
   {
    "duration": 12,
    "start_time": "2023-11-13T13:40:49.862Z"
   },
   {
    "duration": 24,
    "start_time": "2023-11-13T13:40:51.156Z"
   },
   {
    "duration": 14,
    "start_time": "2023-11-13T13:40:52.624Z"
   },
   {
    "duration": 8,
    "start_time": "2023-11-13T13:40:53.590Z"
   },
   {
    "duration": 5,
    "start_time": "2023-11-13T13:40:54.890Z"
   },
   {
    "duration": 4,
    "start_time": "2023-11-13T13:40:55.763Z"
   },
   {
    "duration": 2,
    "start_time": "2023-11-13T13:40:58.412Z"
   },
   {
    "duration": 7203,
    "start_time": "2023-11-13T13:41:00.148Z"
   },
   {
    "duration": 331,
    "start_time": "2023-11-13T13:41:18.630Z"
   },
   {
    "duration": 7669,
    "start_time": "2023-11-13T13:41:33.464Z"
   },
   {
    "duration": 7038,
    "start_time": "2023-11-13T14:01:22.070Z"
   },
   {
    "duration": 307,
    "start_time": "2023-11-13T14:02:19.453Z"
   },
   {
    "duration": 7169,
    "start_time": "2023-11-13T14:02:37.344Z"
   },
   {
    "duration": 11631,
    "start_time": "2023-11-13T14:02:59.806Z"
   },
   {
    "duration": 11101,
    "start_time": "2023-11-13T14:03:39.902Z"
   },
   {
    "duration": 27981,
    "start_time": "2023-11-13T14:06:38.240Z"
   },
   {
    "duration": 30305,
    "start_time": "2023-11-13T14:08:39.146Z"
   },
   {
    "duration": 12761,
    "start_time": "2023-11-13T14:10:31.624Z"
   },
   {
    "duration": 12646,
    "start_time": "2023-11-13T14:17:26.157Z"
   },
   {
    "duration": 14657,
    "start_time": "2023-11-13T14:21:50.647Z"
   },
   {
    "duration": 13543,
    "start_time": "2023-11-13T14:22:44.240Z"
   },
   {
    "duration": 13188,
    "start_time": "2023-11-13T14:23:14.073Z"
   },
   {
    "duration": 18674,
    "start_time": "2023-11-13T14:25:34.687Z"
   },
   {
    "duration": 18014,
    "start_time": "2023-11-13T14:27:04.389Z"
   },
   {
    "duration": 8951,
    "start_time": "2023-11-13T14:29:27.250Z"
   },
   {
    "duration": 13523,
    "start_time": "2023-11-13T14:30:06.636Z"
   },
   {
    "duration": 9010,
    "start_time": "2023-11-13T14:30:20.161Z"
   },
   {
    "duration": 12,
    "start_time": "2023-11-13T14:56:24.145Z"
   },
   {
    "duration": 13,
    "start_time": "2023-11-13T14:56:55.728Z"
   },
   {
    "duration": 6,
    "start_time": "2023-11-13T14:57:08.907Z"
   },
   {
    "duration": 5,
    "start_time": "2023-11-13T14:57:30.353Z"
   },
   {
    "duration": 7,
    "start_time": "2023-11-13T14:57:41.936Z"
   },
   {
    "duration": 7,
    "start_time": "2023-11-13T14:57:46.120Z"
   },
   {
    "duration": 94,
    "start_time": "2023-11-13T15:01:23.807Z"
   },
   {
    "duration": 6,
    "start_time": "2023-11-13T15:02:07.656Z"
   },
   {
    "duration": 9,
    "start_time": "2023-11-13T15:02:34.550Z"
   },
   {
    "duration": 8,
    "start_time": "2023-11-13T15:03:54.340Z"
   },
   {
    "duration": 9,
    "start_time": "2023-11-13T15:04:47.521Z"
   },
   {
    "duration": 9,
    "start_time": "2023-11-13T15:05:01.756Z"
   },
   {
    "duration": 9,
    "start_time": "2023-11-13T15:05:12.551Z"
   },
   {
    "duration": 16,
    "start_time": "2023-11-13T15:13:13.884Z"
   },
   {
    "duration": 14,
    "start_time": "2023-11-13T15:13:15.852Z"
   },
   {
    "duration": 16,
    "start_time": "2023-11-13T15:13:35.134Z"
   },
   {
    "duration": 14,
    "start_time": "2023-11-13T15:13:45.259Z"
   },
   {
    "duration": 14,
    "start_time": "2023-11-13T15:13:45.760Z"
   },
   {
    "duration": 9870,
    "start_time": "2023-11-13T15:14:50.975Z"
   },
   {
    "duration": 10093,
    "start_time": "2023-11-13T15:15:16.783Z"
   },
   {
    "duration": 10158,
    "start_time": "2023-11-13T15:15:41.992Z"
   },
   {
    "duration": 16,
    "start_time": "2023-11-13T15:19:12.000Z"
   },
   {
    "duration": 17,
    "start_time": "2023-11-13T15:19:44.569Z"
   },
   {
    "duration": 17,
    "start_time": "2023-11-13T15:19:51.385Z"
   },
   {
    "duration": 14,
    "start_time": "2023-11-13T15:20:04.913Z"
   },
   {
    "duration": 23,
    "start_time": "2023-11-13T15:20:05.628Z"
   },
   {
    "duration": 19,
    "start_time": "2023-11-13T15:20:06.488Z"
   },
   {
    "duration": 18,
    "start_time": "2023-11-13T15:20:33.389Z"
   },
   {
    "duration": 14,
    "start_time": "2023-11-13T15:20:45.890Z"
   },
   {
    "duration": 20,
    "start_time": "2023-11-13T15:20:46.861Z"
   },
   {
    "duration": 18,
    "start_time": "2023-11-13T15:20:47.701Z"
   },
   {
    "duration": 17,
    "start_time": "2023-11-13T15:21:19.293Z"
   },
   {
    "duration": 4,
    "start_time": "2023-11-13T15:21:20.492Z"
   },
   {
    "duration": 9,
    "start_time": "2023-11-13T15:21:48.961Z"
   },
   {
    "duration": 15,
    "start_time": "2023-11-13T15:21:51.084Z"
   },
   {
    "duration": 15,
    "start_time": "2023-11-13T15:21:52.545Z"
   },
   {
    "duration": 16,
    "start_time": "2023-11-13T15:21:53.618Z"
   },
   {
    "duration": 5,
    "start_time": "2023-11-13T15:23:04.764Z"
   },
   {
    "duration": 9,
    "start_time": "2023-11-13T15:23:30.178Z"
   },
   {
    "duration": 15,
    "start_time": "2023-11-13T15:23:30.920Z"
   },
   {
    "duration": 14,
    "start_time": "2023-11-13T15:23:31.693Z"
   },
   {
    "duration": 17,
    "start_time": "2023-11-13T15:23:32.290Z"
   },
   {
    "duration": 5,
    "start_time": "2023-11-13T15:23:33.193Z"
   },
   {
    "duration": 9076,
    "start_time": "2023-11-13T15:23:49.461Z"
   },
   {
    "duration": 5,
    "start_time": "2023-11-13T15:24:10.131Z"
   },
   {
    "duration": 44,
    "start_time": "2023-11-13T15:24:10.139Z"
   },
   {
    "duration": 14,
    "start_time": "2023-11-13T15:24:10.185Z"
   },
   {
    "duration": 39,
    "start_time": "2023-11-13T15:24:10.201Z"
   },
   {
    "duration": 15,
    "start_time": "2023-11-13T15:24:10.242Z"
   },
   {
    "duration": 10,
    "start_time": "2023-11-13T15:24:10.258Z"
   },
   {
    "duration": 17,
    "start_time": "2023-11-13T15:24:10.270Z"
   },
   {
    "duration": 9,
    "start_time": "2023-11-13T15:24:10.289Z"
   },
   {
    "duration": 6,
    "start_time": "2023-11-13T15:24:10.300Z"
   },
   {
    "duration": 36,
    "start_time": "2023-11-13T15:24:10.308Z"
   },
   {
    "duration": 20,
    "start_time": "2023-11-13T15:24:10.346Z"
   },
   {
    "duration": 18,
    "start_time": "2023-11-13T15:24:10.368Z"
   },
   {
    "duration": 12,
    "start_time": "2023-11-13T15:24:10.388Z"
   },
   {
    "duration": 12,
    "start_time": "2023-11-13T15:24:10.402Z"
   },
   {
    "duration": 4,
    "start_time": "2023-11-13T15:24:10.435Z"
   },
   {
    "duration": 17,
    "start_time": "2023-11-13T15:24:10.441Z"
   },
   {
    "duration": 11655,
    "start_time": "2023-11-13T15:24:10.459Z"
   },
   {
    "duration": 7645,
    "start_time": "2023-11-13T15:24:22.116Z"
   },
   {
    "duration": 17,
    "start_time": "2023-11-13T15:24:29.762Z"
   },
   {
    "duration": 83,
    "start_time": "2023-11-13T15:24:29.780Z"
   },
   {
    "duration": 42,
    "start_time": "2023-11-13T15:24:29.865Z"
   },
   {
    "duration": 43,
    "start_time": "2023-11-13T15:24:29.908Z"
   },
   {
    "duration": 15,
    "start_time": "2023-11-13T15:24:29.953Z"
   },
   {
    "duration": 23,
    "start_time": "2023-11-13T15:24:29.969Z"
   },
   {
    "duration": 5,
    "start_time": "2023-11-13T15:24:29.994Z"
   },
   {
    "duration": 8939,
    "start_time": "2023-11-13T15:24:30.000Z"
   },
   {
    "duration": 5,
    "start_time": "2023-11-13T15:24:53.172Z"
   },
   {
    "duration": 8747,
    "start_time": "2023-11-13T15:24:54.781Z"
   },
   {
    "duration": 43,
    "start_time": "2023-11-13T15:26:59.652Z"
   },
   {
    "duration": 42,
    "start_time": "2023-11-13T15:27:27.231Z"
   },
   {
    "duration": 11,
    "start_time": "2023-11-13T15:52:24.672Z"
   },
   {
    "duration": 10,
    "start_time": "2023-11-13T15:53:04.957Z"
   },
   {
    "duration": 9,
    "start_time": "2023-11-13T15:53:16.499Z"
   },
   {
    "duration": 12,
    "start_time": "2023-11-13T15:53:17.270Z"
   },
   {
    "duration": 10,
    "start_time": "2023-11-13T15:54:37.036Z"
   },
   {
    "duration": 16,
    "start_time": "2023-11-13T15:54:38.176Z"
   },
   {
    "duration": 77,
    "start_time": "2023-11-13T15:55:27.924Z"
   },
   {
    "duration": 12,
    "start_time": "2023-11-13T15:55:34.249Z"
   },
   {
    "duration": 10,
    "start_time": "2023-11-13T15:56:16.483Z"
   },
   {
    "duration": 11,
    "start_time": "2023-11-13T15:56:26.718Z"
   },
   {
    "duration": 10,
    "start_time": "2023-11-13T15:56:38.924Z"
   },
   {
    "duration": 10,
    "start_time": "2023-11-13T15:56:59.895Z"
   },
   {
    "duration": 23,
    "start_time": "2023-11-13T15:57:04.112Z"
   },
   {
    "duration": 7,
    "start_time": "2023-11-13T15:57:35.622Z"
   },
   {
    "duration": 7,
    "start_time": "2023-11-13T15:57:56.771Z"
   },
   {
    "duration": 25,
    "start_time": "2023-11-13T15:59:04.631Z"
   },
   {
    "duration": 10,
    "start_time": "2023-11-13T16:00:27.104Z"
   },
   {
    "duration": 24,
    "start_time": "2023-11-13T16:00:29.537Z"
   },
   {
    "duration": 25,
    "start_time": "2023-11-13T16:00:31.524Z"
   },
   {
    "duration": 9,
    "start_time": "2023-11-13T16:02:05.544Z"
   },
   {
    "duration": 20,
    "start_time": "2023-11-13T16:02:06.716Z"
   },
   {
    "duration": 24,
    "start_time": "2023-11-13T16:02:08.056Z"
   },
   {
    "duration": 22,
    "start_time": "2023-11-13T16:02:08.913Z"
   },
   {
    "duration": 4,
    "start_time": "2023-11-13T16:02:11.480Z"
   },
   {
    "duration": 8775,
    "start_time": "2023-11-13T16:02:15.800Z"
   },
   {
    "duration": 10,
    "start_time": "2023-11-13T16:02:30.594Z"
   },
   {
    "duration": 28,
    "start_time": "2023-11-13T16:02:32.889Z"
   },
   {
    "duration": 29,
    "start_time": "2023-11-13T16:02:35.938Z"
   },
   {
    "duration": 16,
    "start_time": "2023-11-13T16:02:37.581Z"
   },
   {
    "duration": 16,
    "start_time": "2023-11-13T16:03:03.069Z"
   },
   {
    "duration": 23613,
    "start_time": "2023-11-13T16:03:07.064Z"
   },
   {
    "duration": 9,
    "start_time": "2023-11-13T16:06:39.174Z"
   },
   {
    "duration": 15,
    "start_time": "2023-11-13T16:06:39.856Z"
   },
   {
    "duration": 17,
    "start_time": "2023-11-13T16:06:40.546Z"
   },
   {
    "duration": 15,
    "start_time": "2023-11-13T16:06:41.500Z"
   },
   {
    "duration": 4,
    "start_time": "2023-11-13T16:06:42.216Z"
   },
   {
    "duration": 8787,
    "start_time": "2023-11-13T16:06:45.183Z"
   },
   {
    "duration": 12,
    "start_time": "2023-11-13T16:07:01.280Z"
   },
   {
    "duration": 24,
    "start_time": "2023-11-13T16:07:02.270Z"
   },
   {
    "duration": 27,
    "start_time": "2023-11-13T16:07:05.851Z"
   },
   {
    "duration": 16,
    "start_time": "2023-11-13T16:07:07.495Z"
   },
   {
    "duration": 24263,
    "start_time": "2023-11-13T16:07:09.318Z"
   },
   {
    "duration": 106,
    "start_time": "2023-11-13T16:07:46.304Z"
   },
   {
    "duration": 105,
    "start_time": "2023-11-13T16:09:29.479Z"
   },
   {
    "duration": 3,
    "start_time": "2023-11-13T16:09:52.040Z"
   },
   {
    "duration": 66,
    "start_time": "2023-11-13T16:09:52.045Z"
   },
   {
    "duration": 16,
    "start_time": "2023-11-13T16:09:52.113Z"
   },
   {
    "duration": 23,
    "start_time": "2023-11-13T16:09:52.132Z"
   },
   {
    "duration": 28,
    "start_time": "2023-11-13T16:09:52.157Z"
   },
   {
    "duration": 32,
    "start_time": "2023-11-13T16:09:52.187Z"
   },
   {
    "duration": 18,
    "start_time": "2023-11-13T16:09:52.221Z"
   },
   {
    "duration": 27,
    "start_time": "2023-11-13T16:09:52.241Z"
   },
   {
    "duration": 36,
    "start_time": "2023-11-13T16:09:52.270Z"
   },
   {
    "duration": 35,
    "start_time": "2023-11-13T16:09:52.308Z"
   },
   {
    "duration": 37,
    "start_time": "2023-11-13T16:09:52.344Z"
   },
   {
    "duration": 38,
    "start_time": "2023-11-13T16:09:52.383Z"
   },
   {
    "duration": 44,
    "start_time": "2023-11-13T16:09:52.422Z"
   },
   {
    "duration": 12,
    "start_time": "2023-11-13T16:09:52.468Z"
   },
   {
    "duration": 33,
    "start_time": "2023-11-13T16:09:52.482Z"
   },
   {
    "duration": 39,
    "start_time": "2023-11-13T16:09:52.517Z"
   },
   {
    "duration": 11453,
    "start_time": "2023-11-13T16:09:52.558Z"
   },
   {
    "duration": 7803,
    "start_time": "2023-11-13T16:10:04.012Z"
   },
   {
    "duration": 20,
    "start_time": "2023-11-13T16:10:11.817Z"
   },
   {
    "duration": 15,
    "start_time": "2023-11-13T16:10:11.839Z"
   },
   {
    "duration": 12,
    "start_time": "2023-11-13T16:10:11.856Z"
   },
   {
    "duration": 27,
    "start_time": "2023-11-13T16:10:11.869Z"
   },
   {
    "duration": 15,
    "start_time": "2023-11-13T16:10:11.898Z"
   },
   {
    "duration": 32,
    "start_time": "2023-11-13T16:10:11.915Z"
   },
   {
    "duration": 4,
    "start_time": "2023-11-13T16:10:11.949Z"
   },
   {
    "duration": 8832,
    "start_time": "2023-11-13T16:10:11.955Z"
   },
   {
    "duration": 9,
    "start_time": "2023-11-13T16:10:20.789Z"
   },
   {
    "duration": 38,
    "start_time": "2023-11-13T16:10:20.801Z"
   },
   {
    "duration": 31,
    "start_time": "2023-11-13T16:10:20.841Z"
   },
   {
    "duration": 41,
    "start_time": "2023-11-13T16:10:20.873Z"
   },
   {
    "duration": 24222,
    "start_time": "2023-11-13T16:10:20.916Z"
   },
   {
    "duration": 2,
    "start_time": "2023-11-13T16:10:45.140Z"
   },
   {
    "duration": 114,
    "start_time": "2023-11-13T16:10:45.144Z"
   },
   {
    "duration": 45,
    "start_time": "2023-11-13T19:50:20.299Z"
   },
   {
    "duration": 1119,
    "start_time": "2023-11-13T19:50:28.837Z"
   },
   {
    "duration": 163,
    "start_time": "2023-11-13T19:50:30.779Z"
   },
   {
    "duration": 11,
    "start_time": "2023-11-13T19:50:31.719Z"
   },
   {
    "duration": 18,
    "start_time": "2023-11-13T19:50:32.869Z"
   },
   {
    "duration": 8,
    "start_time": "2023-11-13T19:50:35.102Z"
   },
   {
    "duration": 8,
    "start_time": "2023-11-13T19:50:44.260Z"
   },
   {
    "duration": 10,
    "start_time": "2023-11-13T19:50:52.689Z"
   },
   {
    "duration": 6,
    "start_time": "2023-11-13T19:50:55.319Z"
   },
   {
    "duration": 5,
    "start_time": "2023-11-13T19:50:57.089Z"
   },
   {
    "duration": 11,
    "start_time": "2023-11-13T19:56:04.209Z"
   },
   {
    "duration": 34,
    "start_time": "2023-11-13T19:56:10.379Z"
   },
   {
    "duration": 16,
    "start_time": "2023-11-13T19:56:12.420Z"
   },
   {
    "duration": 4,
    "start_time": "2023-11-13T19:56:17.079Z"
   },
   {
    "duration": 6,
    "start_time": "2023-11-13T19:56:21.281Z"
   },
   {
    "duration": 5,
    "start_time": "2023-11-13T19:56:24.229Z"
   },
   {
    "duration": 4,
    "start_time": "2023-11-13T19:57:15.789Z"
   },
   {
    "duration": 9,
    "start_time": "2023-11-13T19:57:19.040Z"
   },
   {
    "duration": 7,
    "start_time": "2023-11-13T19:57:35.529Z"
   },
   {
    "duration": 6,
    "start_time": "2023-11-13T19:58:27.420Z"
   },
   {
    "duration": 79,
    "start_time": "2023-11-13T19:58:29.300Z"
   },
   {
    "duration": 3,
    "start_time": "2023-11-13T19:58:35.618Z"
   },
   {
    "duration": 44,
    "start_time": "2023-11-13T19:58:35.622Z"
   },
   {
    "duration": 11,
    "start_time": "2023-11-13T19:58:35.668Z"
   },
   {
    "duration": 12,
    "start_time": "2023-11-13T19:58:35.680Z"
   },
   {
    "duration": 7,
    "start_time": "2023-11-13T19:58:35.694Z"
   },
   {
    "duration": 9,
    "start_time": "2023-11-13T19:58:35.702Z"
   },
   {
    "duration": 5,
    "start_time": "2023-11-13T19:58:35.712Z"
   },
   {
    "duration": 4,
    "start_time": "2023-11-13T19:58:35.718Z"
   },
   {
    "duration": 35,
    "start_time": "2023-11-13T19:58:35.724Z"
   },
   {
    "duration": 22,
    "start_time": "2023-11-13T19:58:35.760Z"
   },
   {
    "duration": 20,
    "start_time": "2023-11-13T19:58:35.783Z"
   },
   {
    "duration": 13,
    "start_time": "2023-11-13T19:58:35.805Z"
   },
   {
    "duration": 3,
    "start_time": "2023-11-13T19:58:35.820Z"
   },
   {
    "duration": 30,
    "start_time": "2023-11-13T19:58:35.825Z"
   },
   {
    "duration": 4,
    "start_time": "2023-11-13T19:58:35.857Z"
   },
   {
    "duration": 6,
    "start_time": "2023-11-13T19:58:35.862Z"
   },
   {
    "duration": 9817,
    "start_time": "2023-11-13T19:58:39.540Z"
   },
   {
    "duration": 6496,
    "start_time": "2023-11-13T20:00:16.670Z"
   },
   {
    "duration": 2,
    "start_time": "2023-11-13T20:00:31.770Z"
   },
   {
    "duration": 2,
    "start_time": "2023-11-13T20:00:37.649Z"
   },
   {
    "duration": 7,
    "start_time": "2023-11-13T20:00:53.344Z"
   },
   {
    "duration": 14,
    "start_time": "2023-11-13T20:00:55.218Z"
   },
   {
    "duration": 14,
    "start_time": "2023-11-13T20:00:57.309Z"
   },
   {
    "duration": 13,
    "start_time": "2023-11-13T20:00:58.489Z"
   },
   {
    "duration": 14,
    "start_time": "2023-11-13T20:02:07.609Z"
   },
   {
    "duration": 14,
    "start_time": "2023-11-13T20:02:08.402Z"
   },
   {
    "duration": 4,
    "start_time": "2023-11-13T20:02:20.406Z"
   },
   {
    "duration": 7386,
    "start_time": "2023-11-13T20:02:21.913Z"
   },
   {
    "duration": 7568,
    "start_time": "2023-11-13T20:03:18.215Z"
   },
   {
    "duration": 8,
    "start_time": "2023-11-13T20:03:37.237Z"
   },
   {
    "duration": 9,
    "start_time": "2023-11-13T20:05:00.785Z"
   },
   {
    "duration": 10,
    "start_time": "2023-11-13T20:05:09.163Z"
   },
   {
    "duration": 25,
    "start_time": "2023-11-13T20:05:12.555Z"
   },
   {
    "duration": 27,
    "start_time": "2023-11-13T20:05:13.395Z"
   },
   {
    "duration": 16,
    "start_time": "2023-11-13T20:05:15.486Z"
   },
   {
    "duration": 20396,
    "start_time": "2023-11-13T20:05:17.204Z"
   },
   {
    "duration": 2,
    "start_time": "2023-11-13T20:06:38.988Z"
   },
   {
    "duration": 90,
    "start_time": "2023-11-13T20:07:00.896Z"
   },
   {
    "duration": 2,
    "start_time": "2023-11-13T20:10:09.306Z"
   },
   {
    "duration": 2,
    "start_time": "2023-11-13T20:10:10.105Z"
   },
   {
    "duration": 4,
    "start_time": "2023-11-13T20:14:11.820Z"
   },
   {
    "duration": 43,
    "start_time": "2023-11-13T20:14:11.825Z"
   },
   {
    "duration": 10,
    "start_time": "2023-11-13T20:14:11.870Z"
   },
   {
    "duration": 11,
    "start_time": "2023-11-13T20:14:11.882Z"
   },
   {
    "duration": 7,
    "start_time": "2023-11-13T20:14:11.902Z"
   },
   {
    "duration": 9,
    "start_time": "2023-11-13T20:14:11.910Z"
   },
   {
    "duration": 5,
    "start_time": "2023-11-13T20:14:11.920Z"
   },
   {
    "duration": 5,
    "start_time": "2023-11-13T20:14:11.998Z"
   },
   {
    "duration": 11,
    "start_time": "2023-11-13T20:14:12.005Z"
   },
   {
    "duration": 11,
    "start_time": "2023-11-13T20:14:12.018Z"
   },
   {
    "duration": 21,
    "start_time": "2023-11-13T20:14:12.101Z"
   },
   {
    "duration": 14,
    "start_time": "2023-11-13T20:14:12.123Z"
   },
   {
    "duration": 4,
    "start_time": "2023-11-13T20:14:12.138Z"
   },
   {
    "duration": 13,
    "start_time": "2023-11-13T20:14:12.143Z"
   },
   {
    "duration": 4,
    "start_time": "2023-11-13T20:14:12.200Z"
   },
   {
    "duration": 8,
    "start_time": "2023-11-13T20:14:12.205Z"
   },
   {
    "duration": 9651,
    "start_time": "2023-11-13T20:14:12.301Z"
   },
   {
    "duration": 6430,
    "start_time": "2023-11-13T20:14:21.955Z"
   },
   {
    "duration": 7,
    "start_time": "2023-11-13T20:14:28.386Z"
   },
   {
    "duration": 14,
    "start_time": "2023-11-13T20:14:28.395Z"
   },
   {
    "duration": 13,
    "start_time": "2023-11-13T20:14:28.410Z"
   },
   {
    "duration": 33,
    "start_time": "2023-11-13T20:14:28.424Z"
   },
   {
    "duration": 5,
    "start_time": "2023-11-13T20:14:28.458Z"
   },
   {
    "duration": 7522,
    "start_time": "2023-11-13T20:14:28.464Z"
   },
   {
    "duration": 9,
    "start_time": "2023-11-13T20:14:35.988Z"
   },
   {
    "duration": 31,
    "start_time": "2023-11-13T20:14:35.999Z"
   },
   {
    "duration": 29,
    "start_time": "2023-11-13T20:14:36.031Z"
   },
   {
    "duration": 15,
    "start_time": "2023-11-13T20:14:36.061Z"
   },
   {
    "duration": 20378,
    "start_time": "2023-11-13T20:14:36.077Z"
   },
   {
    "duration": 2,
    "start_time": "2023-11-13T20:14:56.457Z"
   },
   {
    "duration": 98,
    "start_time": "2023-11-13T20:14:56.460Z"
   },
   {
    "duration": 3,
    "start_time": "2023-11-13T20:21:58.841Z"
   },
   {
    "duration": 43,
    "start_time": "2023-11-13T20:21:58.845Z"
   },
   {
    "duration": 11,
    "start_time": "2023-11-13T20:21:58.889Z"
   },
   {
    "duration": 14,
    "start_time": "2023-11-13T20:21:58.901Z"
   },
   {
    "duration": 8,
    "start_time": "2023-11-13T20:21:58.916Z"
   },
   {
    "duration": 9,
    "start_time": "2023-11-13T20:21:58.939Z"
   },
   {
    "duration": 5,
    "start_time": "2023-11-13T20:21:58.950Z"
   },
   {
    "duration": 4,
    "start_time": "2023-11-13T20:21:58.957Z"
   },
   {
    "duration": 5,
    "start_time": "2023-11-13T20:21:58.962Z"
   },
   {
    "duration": 13,
    "start_time": "2023-11-13T20:21:58.969Z"
   },
   {
    "duration": 19,
    "start_time": "2023-11-13T20:21:58.984Z"
   },
   {
    "duration": 13,
    "start_time": "2023-11-13T20:21:59.004Z"
   },
   {
    "duration": 18,
    "start_time": "2023-11-13T20:21:59.039Z"
   },
   {
    "duration": 7,
    "start_time": "2023-11-13T20:21:59.060Z"
   },
   {
    "duration": 5,
    "start_time": "2023-11-13T20:21:59.069Z"
   },
   {
    "duration": 49,
    "start_time": "2023-11-13T20:21:59.076Z"
   },
   {
    "duration": 9758,
    "start_time": "2023-11-13T20:21:59.127Z"
   },
   {
    "duration": 6522,
    "start_time": "2023-11-13T20:22:08.886Z"
   },
   {
    "duration": 7,
    "start_time": "2023-11-13T20:22:15.409Z"
   },
   {
    "duration": 29,
    "start_time": "2023-11-13T20:22:15.417Z"
   },
   {
    "duration": 14,
    "start_time": "2023-11-13T20:22:15.448Z"
   },
   {
    "duration": 15,
    "start_time": "2023-11-13T20:22:15.465Z"
   },
   {
    "duration": 4,
    "start_time": "2023-11-13T20:22:15.482Z"
   },
   {
    "duration": 7433,
    "start_time": "2023-11-13T20:22:15.488Z"
   },
   {
    "duration": 9,
    "start_time": "2023-11-13T20:22:22.923Z"
   },
   {
    "duration": 28,
    "start_time": "2023-11-13T20:22:22.934Z"
   },
   {
    "duration": 24,
    "start_time": "2023-11-13T20:22:22.963Z"
   },
   {
    "duration": 14,
    "start_time": "2023-11-13T20:22:22.988Z"
   },
   {
    "duration": 20420,
    "start_time": "2023-11-13T20:22:23.003Z"
   },
   {
    "duration": 2,
    "start_time": "2023-11-13T20:22:43.426Z"
   },
   {
    "duration": 107,
    "start_time": "2023-11-13T20:22:43.430Z"
   },
   {
    "duration": 22,
    "start_time": "2023-11-13T20:33:46.829Z"
   },
   {
    "duration": 21,
    "start_time": "2023-11-13T20:33:54.760Z"
   },
   {
    "duration": 20,
    "start_time": "2023-11-13T20:34:10.399Z"
   },
   {
    "duration": 21,
    "start_time": "2023-11-13T20:35:02.289Z"
   },
   {
    "duration": 1234,
    "start_time": "2023-11-13T20:37:32.730Z"
   },
   {
    "duration": 1468,
    "start_time": "2023-11-13T20:37:56.189Z"
   },
   {
    "duration": 295,
    "start_time": "2023-11-13T20:41:54.969Z"
   },
   {
    "duration": 3,
    "start_time": "2023-11-13T20:42:20.399Z"
   },
   {
    "duration": 2035,
    "start_time": "2023-11-13T20:42:28.048Z"
   },
   {
    "duration": 1948,
    "start_time": "2023-11-13T20:43:03.011Z"
   },
   {
    "duration": 2079,
    "start_time": "2023-11-13T20:43:24.309Z"
   },
   {
    "duration": 1621,
    "start_time": "2023-11-13T20:47:52.463Z"
   },
   {
    "duration": 1970,
    "start_time": "2023-11-13T20:48:38.835Z"
   },
   {
    "duration": 411,
    "start_time": "2023-11-13T20:49:16.308Z"
   },
   {
    "duration": 269,
    "start_time": "2023-11-13T20:49:45.418Z"
   },
   {
    "duration": 2160,
    "start_time": "2023-11-13T20:50:42.148Z"
   },
   {
    "duration": 2003,
    "start_time": "2023-11-13T20:50:49.499Z"
   },
   {
    "duration": 2120,
    "start_time": "2023-11-13T20:50:57.789Z"
   },
   {
    "duration": 2,
    "start_time": "2023-11-13T20:52:34.277Z"
   },
   {
    "duration": 2095,
    "start_time": "2023-11-13T20:54:12.819Z"
   },
   {
    "duration": 20477,
    "start_time": "2023-11-13T20:54:28.328Z"
   },
   {
    "duration": 12,
    "start_time": "2023-11-13T20:57:23.847Z"
   },
   {
    "duration": 209,
    "start_time": "2023-11-13T20:57:35.000Z"
   },
   {
    "duration": 272,
    "start_time": "2023-11-13T20:59:48.248Z"
   },
   {
    "duration": 20847,
    "start_time": "2023-11-13T21:00:20.639Z"
   },
   {
    "duration": 4,
    "start_time": "2023-11-13T21:00:41.487Z"
   },
   {
    "duration": 9,
    "start_time": "2023-11-13T21:00:54.028Z"
   },
   {
    "duration": 15,
    "start_time": "2023-11-13T21:00:54.589Z"
   },
   {
    "duration": 1013,
    "start_time": "2023-11-13T21:00:55.268Z"
   },
   {
    "duration": 24,
    "start_time": "2023-11-13T21:00:56.282Z"
   },
   {
    "duration": 3,
    "start_time": "2023-11-13T21:00:58.147Z"
   },
   {
    "duration": 7491,
    "start_time": "2023-11-13T21:01:00.948Z"
   },
   {
    "duration": 156,
    "start_time": "2023-11-13T21:01:12.818Z"
   },
   {
    "duration": 197,
    "start_time": "2023-11-13T21:01:45.178Z"
   },
   {
    "duration": 10,
    "start_time": "2023-11-13T21:06:59.262Z"
   },
   {
    "duration": 28,
    "start_time": "2023-11-13T21:07:00.230Z"
   },
   {
    "duration": 27,
    "start_time": "2023-11-13T21:07:02.312Z"
   },
   {
    "duration": 14,
    "start_time": "2023-11-13T21:07:04.561Z"
   },
   {
    "duration": 20555,
    "start_time": "2023-11-13T21:07:08.152Z"
   },
   {
    "duration": 264,
    "start_time": "2023-11-13T21:07:41.529Z"
   },
   {
    "duration": 9,
    "start_time": "2023-11-13T21:08:56.293Z"
   },
   {
    "duration": 23,
    "start_time": "2023-11-13T21:08:58.302Z"
   },
   {
    "duration": 32,
    "start_time": "2023-11-13T21:09:04.831Z"
   },
   {
    "duration": 16,
    "start_time": "2023-11-13T21:09:07.562Z"
   },
   {
    "duration": 23,
    "start_time": "2023-11-13T21:10:28.042Z"
   },
   {
    "duration": 23,
    "start_time": "2023-11-13T21:10:28.452Z"
   },
   {
    "duration": 14,
    "start_time": "2023-11-13T21:10:29.212Z"
   },
   {
    "duration": 4,
    "start_time": "2023-11-13T21:10:30.222Z"
   },
   {
    "duration": 20437,
    "start_time": "2023-11-13T21:11:49.241Z"
   },
   {
    "duration": 223,
    "start_time": "2023-11-13T21:12:09.680Z"
   },
   {
    "duration": 252,
    "start_time": "2023-11-13T21:13:05.050Z"
   },
   {
    "duration": 2,
    "start_time": "2023-11-13T21:16:54.491Z"
   },
   {
    "duration": 92,
    "start_time": "2023-11-13T21:16:55.008Z"
   },
   {
    "duration": 3,
    "start_time": "2023-11-13T21:17:05.562Z"
   },
   {
    "duration": 46,
    "start_time": "2023-11-13T21:17:05.567Z"
   },
   {
    "duration": 10,
    "start_time": "2023-11-13T21:17:05.614Z"
   },
   {
    "duration": 13,
    "start_time": "2023-11-13T21:17:05.625Z"
   },
   {
    "duration": 10,
    "start_time": "2023-11-13T21:17:05.639Z"
   },
   {
    "duration": 9,
    "start_time": "2023-11-13T21:17:05.650Z"
   },
   {
    "duration": 5,
    "start_time": "2023-11-13T21:17:05.660Z"
   },
   {
    "duration": 6,
    "start_time": "2023-11-13T21:17:05.666Z"
   },
   {
    "duration": 13,
    "start_time": "2023-11-13T21:17:05.673Z"
   },
   {
    "duration": 11,
    "start_time": "2023-11-13T21:17:05.687Z"
   },
   {
    "duration": 27,
    "start_time": "2023-11-13T21:17:05.699Z"
   },
   {
    "duration": 14,
    "start_time": "2023-11-13T21:17:05.727Z"
   },
   {
    "duration": 16,
    "start_time": "2023-11-13T21:17:05.742Z"
   },
   {
    "duration": 20,
    "start_time": "2023-11-13T21:17:05.760Z"
   },
   {
    "duration": 9,
    "start_time": "2023-11-13T21:17:05.782Z"
   },
   {
    "duration": 16,
    "start_time": "2023-11-13T21:17:05.792Z"
   },
   {
    "duration": 9844,
    "start_time": "2023-11-13T21:17:05.862Z"
   },
   {
    "duration": 6565,
    "start_time": "2023-11-13T21:17:15.708Z"
   },
   {
    "duration": 1717,
    "start_time": "2023-11-13T21:17:22.274Z"
   },
   {
    "duration": 7,
    "start_time": "2023-11-13T21:17:23.993Z"
   },
   {
    "duration": 26,
    "start_time": "2023-11-13T21:17:24.001Z"
   },
   {
    "duration": 13,
    "start_time": "2023-11-13T21:17:24.028Z"
   },
   {
    "duration": 12,
    "start_time": "2023-11-13T21:17:24.055Z"
   },
   {
    "duration": 4,
    "start_time": "2023-11-13T21:17:24.068Z"
   },
   {
    "duration": 7503,
    "start_time": "2023-11-13T21:17:24.073Z"
   },
   {
    "duration": 196,
    "start_time": "2023-11-13T21:17:31.577Z"
   },
   {
    "duration": 8,
    "start_time": "2023-11-13T21:17:31.775Z"
   },
   {
    "duration": 40,
    "start_time": "2023-11-13T21:17:31.785Z"
   },
   {
    "duration": 40,
    "start_time": "2023-11-13T21:17:31.826Z"
   },
   {
    "duration": 22,
    "start_time": "2023-11-13T21:17:31.869Z"
   },
   {
    "duration": 22,
    "start_time": "2023-11-13T21:17:31.893Z"
   },
   {
    "duration": 20607,
    "start_time": "2023-11-13T21:17:31.917Z"
   },
   {
    "duration": 252,
    "start_time": "2023-11-13T21:17:52.525Z"
   },
   {
    "duration": 2,
    "start_time": "2023-11-13T21:17:52.778Z"
   },
   {
    "duration": 105,
    "start_time": "2023-11-13T21:17:52.781Z"
   },
   {
    "duration": 46,
    "start_time": "2023-11-13T21:19:14.272Z"
   },
   {
    "duration": 1063,
    "start_time": "2023-11-13T21:19:21.601Z"
   },
   {
    "duration": 40,
    "start_time": "2023-11-13T21:19:22.666Z"
   },
   {
    "duration": 11,
    "start_time": "2023-11-13T21:19:22.707Z"
   },
   {
    "duration": 21,
    "start_time": "2023-11-13T21:19:22.719Z"
   },
   {
    "duration": 7,
    "start_time": "2023-11-13T21:19:22.742Z"
   },
   {
    "duration": 25,
    "start_time": "2023-11-13T21:19:22.750Z"
   },
   {
    "duration": 6,
    "start_time": "2023-11-13T21:19:22.777Z"
   },
   {
    "duration": 17,
    "start_time": "2023-11-13T21:19:22.784Z"
   },
   {
    "duration": 10,
    "start_time": "2023-11-13T21:19:22.802Z"
   },
   {
    "duration": 16,
    "start_time": "2023-11-13T21:19:22.814Z"
   },
   {
    "duration": 21,
    "start_time": "2023-11-13T21:19:22.832Z"
   },
   {
    "duration": 13,
    "start_time": "2023-11-13T21:19:22.855Z"
   },
   {
    "duration": 5,
    "start_time": "2023-11-13T21:19:22.869Z"
   },
   {
    "duration": 11,
    "start_time": "2023-11-13T21:19:22.876Z"
   },
   {
    "duration": 4,
    "start_time": "2023-11-13T21:19:22.888Z"
   },
   {
    "duration": 14,
    "start_time": "2023-11-13T21:19:22.893Z"
   },
   {
    "duration": 9715,
    "start_time": "2023-11-13T21:19:22.909Z"
   },
   {
    "duration": 6440,
    "start_time": "2023-11-13T21:19:32.626Z"
   },
   {
    "duration": 1828,
    "start_time": "2023-11-13T21:19:39.067Z"
   },
   {
    "duration": 8,
    "start_time": "2023-11-13T21:19:40.897Z"
   },
   {
    "duration": 41,
    "start_time": "2023-11-13T21:19:40.906Z"
   },
   {
    "duration": 14,
    "start_time": "2023-11-13T21:19:40.949Z"
   },
   {
    "duration": 18,
    "start_time": "2023-11-13T21:19:40.964Z"
   },
   {
    "duration": 15,
    "start_time": "2023-11-13T21:19:40.984Z"
   },
   {
    "duration": 7506,
    "start_time": "2023-11-13T21:19:41.000Z"
   },
   {
    "duration": 166,
    "start_time": "2023-11-13T21:19:48.508Z"
   },
   {
    "duration": 8,
    "start_time": "2023-11-13T21:19:48.676Z"
   },
   {
    "duration": 34,
    "start_time": "2023-11-13T21:19:48.686Z"
   },
   {
    "duration": 40,
    "start_time": "2023-11-13T21:19:48.721Z"
   },
   {
    "duration": 13,
    "start_time": "2023-11-13T21:19:48.763Z"
   },
   {
    "duration": 5,
    "start_time": "2023-11-13T21:19:48.777Z"
   },
   {
    "duration": 20999,
    "start_time": "2023-11-13T21:19:48.783Z"
   },
   {
    "duration": 230,
    "start_time": "2023-11-13T21:20:09.784Z"
   },
   {
    "duration": 2,
    "start_time": "2023-11-13T21:20:10.016Z"
   },
   {
    "duration": 114,
    "start_time": "2023-11-13T21:20:10.019Z"
   },
   {
    "duration": 3,
    "start_time": "2023-11-13T21:23:18.764Z"
   },
   {
    "duration": 56,
    "start_time": "2023-11-13T21:23:18.769Z"
   },
   {
    "duration": 12,
    "start_time": "2023-11-13T21:23:18.826Z"
   },
   {
    "duration": 27,
    "start_time": "2023-11-13T21:23:18.839Z"
   },
   {
    "duration": 14,
    "start_time": "2023-11-13T21:23:18.867Z"
   },
   {
    "duration": 23,
    "start_time": "2023-11-13T21:23:18.882Z"
   },
   {
    "duration": 18,
    "start_time": "2023-11-13T21:23:18.906Z"
   },
   {
    "duration": 4,
    "start_time": "2023-11-13T21:23:18.925Z"
   },
   {
    "duration": 4,
    "start_time": "2023-11-13T21:23:18.931Z"
   },
   {
    "duration": 10,
    "start_time": "2023-11-13T21:23:18.936Z"
   },
   {
    "duration": 23,
    "start_time": "2023-11-13T21:23:18.948Z"
   },
   {
    "duration": 12,
    "start_time": "2023-11-13T21:23:18.973Z"
   },
   {
    "duration": 3,
    "start_time": "2023-11-13T21:23:18.987Z"
   },
   {
    "duration": 8,
    "start_time": "2023-11-13T21:23:18.993Z"
   },
   {
    "duration": 8,
    "start_time": "2023-11-13T21:23:19.002Z"
   },
   {
    "duration": 5,
    "start_time": "2023-11-13T21:23:19.012Z"
   },
   {
    "duration": 9682,
    "start_time": "2023-11-13T21:23:19.019Z"
   },
   {
    "duration": 6573,
    "start_time": "2023-11-13T21:23:28.702Z"
   },
   {
    "duration": 1612,
    "start_time": "2023-11-13T21:23:35.277Z"
   },
   {
    "duration": 7,
    "start_time": "2023-11-13T21:23:36.890Z"
   },
   {
    "duration": 13,
    "start_time": "2023-11-13T21:23:36.898Z"
   },
   {
    "duration": 13,
    "start_time": "2023-11-13T21:23:36.912Z"
   },
   {
    "duration": 13,
    "start_time": "2023-11-13T21:23:36.955Z"
   },
   {
    "duration": 4,
    "start_time": "2023-11-13T21:23:36.969Z"
   },
   {
    "duration": 7491,
    "start_time": "2023-11-13T21:23:36.974Z"
   },
   {
    "duration": 207,
    "start_time": "2023-11-13T21:23:44.467Z"
   },
   {
    "duration": 9,
    "start_time": "2023-11-13T21:23:44.675Z"
   },
   {
    "duration": 19,
    "start_time": "2023-11-13T21:23:44.686Z"
   },
   {
    "duration": 53,
    "start_time": "2023-11-13T21:23:44.707Z"
   },
   {
    "duration": 14,
    "start_time": "2023-11-13T21:23:44.761Z"
   },
   {
    "duration": 4,
    "start_time": "2023-11-13T21:23:44.776Z"
   },
   {
    "duration": 20446,
    "start_time": "2023-11-13T21:23:44.781Z"
   },
   {
    "duration": 286,
    "start_time": "2023-11-13T21:24:05.229Z"
   },
   {
    "duration": 2,
    "start_time": "2023-11-13T21:24:05.516Z"
   },
   {
    "duration": 106,
    "start_time": "2023-11-13T21:24:05.520Z"
   },
   {
    "duration": 46,
    "start_time": "2023-11-15T13:49:35.794Z"
   },
   {
    "duration": 86,
    "start_time": "2023-11-15T13:49:36.835Z"
   },
   {
    "duration": 96,
    "start_time": "2023-11-15T13:50:11.984Z"
   },
   {
    "duration": 6,
    "start_time": "2023-11-15T13:51:04.594Z"
   },
   {
    "duration": 1202,
    "start_time": "2023-11-15T13:51:11.592Z"
   },
   {
    "duration": 162,
    "start_time": "2023-11-15T13:51:12.797Z"
   },
   {
    "duration": 19,
    "start_time": "2023-11-15T13:51:12.961Z"
   },
   {
    "duration": 22,
    "start_time": "2023-11-15T13:51:12.983Z"
   },
   {
    "duration": 17,
    "start_time": "2023-11-15T13:51:13.007Z"
   },
   {
    "duration": 15,
    "start_time": "2023-11-15T13:51:13.026Z"
   },
   {
    "duration": 18,
    "start_time": "2023-11-15T13:51:13.043Z"
   },
   {
    "duration": 15,
    "start_time": "2023-11-15T13:51:13.064Z"
   },
   {
    "duration": 6,
    "start_time": "2023-11-15T13:51:13.082Z"
   },
   {
    "duration": 14,
    "start_time": "2023-11-15T13:51:13.091Z"
   },
   {
    "duration": 51,
    "start_time": "2023-11-15T13:51:13.107Z"
   },
   {
    "duration": 21,
    "start_time": "2023-11-15T13:51:13.160Z"
   },
   {
    "duration": 4,
    "start_time": "2023-11-15T13:51:13.183Z"
   },
   {
    "duration": 10,
    "start_time": "2023-11-15T13:51:13.189Z"
   },
   {
    "duration": 17,
    "start_time": "2023-11-15T13:51:13.200Z"
   },
   {
    "duration": 26,
    "start_time": "2023-11-15T13:51:13.218Z"
   },
   {
    "duration": 11429,
    "start_time": "2023-11-15T13:51:13.245Z"
   },
   {
    "duration": 7650,
    "start_time": "2023-11-15T13:51:24.677Z"
   },
   {
    "duration": 2766,
    "start_time": "2023-11-15T13:51:32.328Z"
   },
   {
    "duration": 7,
    "start_time": "2023-11-15T13:51:35.096Z"
   },
   {
    "duration": 14,
    "start_time": "2023-11-15T13:51:35.104Z"
   },
   {
    "duration": 46,
    "start_time": "2023-11-15T13:51:35.119Z"
   },
   {
    "duration": 18,
    "start_time": "2023-11-15T13:51:35.168Z"
   },
   {
    "duration": 4,
    "start_time": "2023-11-15T13:51:35.188Z"
   },
   {
    "duration": 8853,
    "start_time": "2023-11-15T13:51:35.194Z"
   },
   {
    "duration": 217,
    "start_time": "2023-11-15T13:51:44.048Z"
   },
   {
    "duration": 18,
    "start_time": "2023-11-15T13:51:44.267Z"
   },
   {
    "duration": 25,
    "start_time": "2023-11-15T13:51:44.288Z"
   },
   {
    "duration": 47,
    "start_time": "2023-11-15T13:51:44.314Z"
   },
   {
    "duration": 22,
    "start_time": "2023-11-15T13:51:44.363Z"
   },
   {
    "duration": 4,
    "start_time": "2023-11-15T13:51:44.386Z"
   },
   {
    "duration": 21744,
    "start_time": "2023-11-15T13:51:44.392Z"
   },
   {
    "duration": 260,
    "start_time": "2023-11-15T13:52:06.137Z"
   },
   {
    "duration": 1,
    "start_time": "2023-11-15T13:52:06.399Z"
   },
   {
    "duration": 114,
    "start_time": "2023-11-15T13:52:06.402Z"
   },
   {
    "duration": 24,
    "start_time": "2023-11-15T13:54:11.363Z"
   },
   {
    "duration": 25,
    "start_time": "2023-11-15T13:54:21.851Z"
   },
   {
    "duration": 26,
    "start_time": "2023-11-15T13:54:31.948Z"
   },
   {
    "duration": 19,
    "start_time": "2023-11-15T13:58:46.697Z"
   },
   {
    "duration": 23,
    "start_time": "2023-11-15T13:58:48.292Z"
   },
   {
    "duration": 17,
    "start_time": "2023-11-15T13:58:49.480Z"
   },
   {
    "duration": 5,
    "start_time": "2023-11-15T13:58:51.341Z"
   },
   {
    "duration": 8,
    "start_time": "2023-11-15T13:58:54.693Z"
   },
   {
    "duration": 5,
    "start_time": "2023-11-15T13:58:56.127Z"
   },
   {
    "duration": 10,
    "start_time": "2023-11-15T13:58:58.086Z"
   },
   {
    "duration": 11144,
    "start_time": "2023-11-15T13:59:00.263Z"
   },
   {
    "duration": 7181,
    "start_time": "2023-11-15T13:59:26.175Z"
   },
   {
    "duration": 1816,
    "start_time": "2023-11-15T13:59:42.542Z"
   },
   {
    "duration": 7,
    "start_time": "2023-11-15T14:00:24.184Z"
   },
   {
    "duration": 14,
    "start_time": "2023-11-15T14:00:25.056Z"
   },
   {
    "duration": 20,
    "start_time": "2023-11-15T14:00:26.711Z"
   },
   {
    "duration": 19,
    "start_time": "2023-11-15T14:00:27.072Z"
   },
   {
    "duration": 5,
    "start_time": "2023-11-15T14:00:28.945Z"
   },
   {
    "duration": 7848,
    "start_time": "2023-11-15T14:00:30.280Z"
   },
   {
    "duration": 5,
    "start_time": "2023-11-15T14:02:24.258Z"
   },
   {
    "duration": 14,
    "start_time": "2023-11-15T14:03:19.822Z"
   },
   {
    "duration": 77,
    "start_time": "2023-11-15T14:05:40.113Z"
   },
   {
    "duration": 12,
    "start_time": "2023-11-15T14:06:43.789Z"
   },
   {
    "duration": 54,
    "start_time": "2023-11-15T19:36:20.790Z"
   },
   {
    "duration": 1175,
    "start_time": "2023-11-15T19:36:27.088Z"
   },
   {
    "duration": 85,
    "start_time": "2023-11-15T19:36:28.265Z"
   },
   {
    "duration": 15,
    "start_time": "2023-11-15T19:36:28.351Z"
   },
   {
    "duration": 21,
    "start_time": "2023-11-15T19:36:28.367Z"
   },
   {
    "duration": 8,
    "start_time": "2023-11-15T19:36:28.390Z"
   },
   {
    "duration": 16,
    "start_time": "2023-11-15T19:36:28.400Z"
   },
   {
    "duration": 6,
    "start_time": "2023-11-15T19:36:28.417Z"
   },
   {
    "duration": 4,
    "start_time": "2023-11-15T19:36:28.425Z"
   },
   {
    "duration": 5,
    "start_time": "2023-11-15T19:36:28.431Z"
   },
   {
    "duration": 20,
    "start_time": "2023-11-15T19:36:28.437Z"
   },
   {
    "duration": 3,
    "start_time": "2023-11-15T19:36:28.459Z"
   },
   {
    "duration": 54,
    "start_time": "2023-11-15T19:36:28.463Z"
   },
   {
    "duration": 15,
    "start_time": "2023-11-15T19:36:32.079Z"
   },
   {
    "duration": 18,
    "start_time": "2023-11-15T19:36:33.160Z"
   },
   {
    "duration": 12,
    "start_time": "2023-11-15T19:38:37.009Z"
   },
   {
    "duration": 113760,
    "start_time": "2023-11-15T19:44:15.131Z"
   },
   {
    "duration": 113788,
    "start_time": "2023-11-15T19:47:34.300Z"
   },
   {
    "duration": 5189,
    "start_time": "2023-11-15T19:54:20.259Z"
   },
   {
    "duration": 93498,
    "start_time": "2023-11-15T19:55:17.480Z"
   },
   {
    "duration": 90545,
    "start_time": "2023-11-15T19:56:57.114Z"
   },
   {
    "duration": 38257,
    "start_time": "2023-11-15T19:58:30.271Z"
   },
   {
    "duration": 9086,
    "start_time": "2023-11-15T19:59:10.170Z"
   },
   {
    "duration": 8469,
    "start_time": "2023-11-15T19:59:52.830Z"
   },
   {
    "duration": 11827,
    "start_time": "2023-11-15T20:01:44.040Z"
   },
   {
    "duration": 11939,
    "start_time": "2023-11-15T20:03:15.961Z"
   },
   {
    "duration": 8543,
    "start_time": "2023-11-15T20:05:13.860Z"
   },
   {
    "duration": 4,
    "start_time": "2023-11-15T20:05:51.637Z"
   },
   {
    "duration": 49,
    "start_time": "2023-11-15T20:05:51.643Z"
   },
   {
    "duration": 11,
    "start_time": "2023-11-15T20:05:51.694Z"
   },
   {
    "duration": 19,
    "start_time": "2023-11-15T20:05:51.707Z"
   },
   {
    "duration": 14,
    "start_time": "2023-11-15T20:05:51.730Z"
   },
   {
    "duration": 10,
    "start_time": "2023-11-15T20:05:51.746Z"
   },
   {
    "duration": 6,
    "start_time": "2023-11-15T20:05:51.758Z"
   },
   {
    "duration": 16,
    "start_time": "2023-11-15T20:05:51.766Z"
   },
   {
    "duration": 17,
    "start_time": "2023-11-15T20:05:51.784Z"
   },
   {
    "duration": 21,
    "start_time": "2023-11-15T20:05:51.810Z"
   },
   {
    "duration": 3,
    "start_time": "2023-11-15T20:05:51.832Z"
   },
   {
    "duration": 17,
    "start_time": "2023-11-15T20:05:51.837Z"
   },
   {
    "duration": 17,
    "start_time": "2023-11-15T20:05:51.856Z"
   },
   {
    "duration": 11,
    "start_time": "2023-11-15T20:05:51.875Z"
   },
   {
    "duration": 33,
    "start_time": "2023-11-15T20:05:51.887Z"
   },
   {
    "duration": 12,
    "start_time": "2023-11-15T20:05:51.922Z"
   },
   {
    "duration": 10,
    "start_time": "2023-11-15T20:05:51.936Z"
   },
   {
    "duration": 11932,
    "start_time": "2023-11-15T20:05:58.093Z"
   },
   {
    "duration": 14264,
    "start_time": "2023-11-15T20:06:26.355Z"
   },
   {
    "duration": 110644,
    "start_time": "2023-11-15T20:07:54.504Z"
   },
   {
    "duration": 4,
    "start_time": "2023-11-15T20:12:13.172Z"
   },
   {
    "duration": 5,
    "start_time": "2023-11-15T20:17:47.106Z"
   },
   {
    "duration": 5,
    "start_time": "2023-11-15T20:20:34.224Z"
   },
   {
    "duration": 5,
    "start_time": "2023-11-15T20:20:58.093Z"
   },
   {
    "duration": 4,
    "start_time": "2023-11-15T20:21:10.472Z"
   },
   {
    "duration": 6,
    "start_time": "2023-11-15T20:21:16.213Z"
   },
   {
    "duration": 4,
    "start_time": "2023-11-15T20:21:21.063Z"
   },
   {
    "duration": 14,
    "start_time": "2023-11-15T20:24:20.133Z"
   },
   {
    "duration": 12,
    "start_time": "2023-11-15T20:25:16.451Z"
   },
   {
    "duration": 8,
    "start_time": "2023-11-15T20:25:30.174Z"
   },
   {
    "duration": 8,
    "start_time": "2023-11-15T20:25:47.223Z"
   },
   {
    "duration": 8,
    "start_time": "2023-11-15T20:26:38.174Z"
   },
   {
    "duration": 8,
    "start_time": "2023-11-15T20:26:45.103Z"
   },
   {
    "duration": 10,
    "start_time": "2023-11-15T20:27:12.963Z"
   },
   {
    "duration": 9,
    "start_time": "2023-11-15T20:30:16.128Z"
   },
   {
    "duration": 8,
    "start_time": "2023-11-15T20:31:35.396Z"
   },
   {
    "duration": 18,
    "start_time": "2023-11-15T20:39:57.010Z"
   },
   {
    "duration": 11,
    "start_time": "2023-11-15T20:40:10.939Z"
   },
   {
    "duration": 13,
    "start_time": "2023-11-15T20:41:10.300Z"
   },
   {
    "duration": 13,
    "start_time": "2023-11-15T20:41:29.249Z"
   },
   {
    "duration": 25,
    "start_time": "2023-11-15T20:45:32.457Z"
   },
   {
    "duration": 39,
    "start_time": "2023-11-15T20:49:55.837Z"
   },
   {
    "duration": 19,
    "start_time": "2023-11-15T20:50:23.680Z"
   },
   {
    "duration": 19,
    "start_time": "2023-11-15T20:51:33.816Z"
   },
   {
    "duration": 5,
    "start_time": "2023-11-15T20:51:37.537Z"
   },
   {
    "duration": 5,
    "start_time": "2023-11-15T20:52:06.797Z"
   },
   {
    "duration": 7,
    "start_time": "2023-11-15T20:53:40.077Z"
   },
   {
    "duration": 7,
    "start_time": "2023-11-15T20:53:54.597Z"
   },
   {
    "duration": 14964,
    "start_time": "2023-11-15T20:54:06.411Z"
   },
   {
    "duration": 108060,
    "start_time": "2023-11-15T20:54:22.584Z"
   },
   {
    "duration": 1599,
    "start_time": "2023-11-15T20:56:10.646Z"
   },
   {
    "duration": 1631,
    "start_time": "2023-11-15T20:58:40.319Z"
   },
   {
    "duration": 1610,
    "start_time": "2023-11-15T20:59:49.459Z"
   },
   {
    "duration": 1898,
    "start_time": "2023-11-15T21:00:16.659Z"
   },
   {
    "duration": 15,
    "start_time": "2023-11-15T21:00:49.253Z"
   },
   {
    "duration": 8,
    "start_time": "2023-11-15T21:01:10.946Z"
   },
   {
    "duration": 15,
    "start_time": "2023-11-15T21:02:11.579Z"
   },
   {
    "duration": 14,
    "start_time": "2023-11-15T21:03:28.254Z"
   },
   {
    "duration": 5,
    "start_time": "2023-11-15T21:03:34.528Z"
   },
   {
    "duration": 89,
    "start_time": "2023-11-15T21:05:24.526Z"
   },
   {
    "duration": 5,
    "start_time": "2023-11-15T21:07:38.326Z"
   },
   {
    "duration": 20,
    "start_time": "2023-11-15T21:08:16.461Z"
   },
   {
    "duration": 13,
    "start_time": "2023-11-15T21:11:01.449Z"
   },
   {
    "duration": 14,
    "start_time": "2023-11-15T21:11:27.289Z"
   },
   {
    "duration": 14,
    "start_time": "2023-11-15T21:12:07.779Z"
   },
   {
    "duration": 5,
    "start_time": "2023-11-15T21:12:09.400Z"
   },
   {
    "duration": 29,
    "start_time": "2023-11-15T21:12:15.531Z"
   },
   {
    "duration": 82791,
    "start_time": "2023-11-15T21:14:26.621Z"
   },
   {
    "duration": 54,
    "start_time": "2023-11-15T21:15:51.600Z"
   },
   {
    "duration": 113986,
    "start_time": "2023-11-15T21:16:11.071Z"
   },
   {
    "duration": 44,
    "start_time": "2023-11-15T21:18:31.739Z"
   },
   {
    "duration": 11,
    "start_time": "2023-11-15T21:18:35.009Z"
   },
   {
    "duration": 14,
    "start_time": "2023-11-15T21:18:36.586Z"
   },
   {
    "duration": 15,
    "start_time": "2023-11-15T21:18:46.929Z"
   },
   {
    "duration": 14,
    "start_time": "2023-11-15T21:18:51.431Z"
   },
   {
    "duration": 44,
    "start_time": "2023-11-15T21:19:56.640Z"
   },
   {
    "duration": 11,
    "start_time": "2023-11-15T21:19:59.899Z"
   },
   {
    "duration": 13,
    "start_time": "2023-11-15T21:20:05.440Z"
   },
   {
    "duration": 44,
    "start_time": "2023-11-15T21:20:19.369Z"
   },
   {
    "duration": 11,
    "start_time": "2023-11-15T21:20:20.529Z"
   },
   {
    "duration": 14,
    "start_time": "2023-11-15T21:20:22.500Z"
   },
   {
    "duration": 21,
    "start_time": "2023-11-15T21:20:47.851Z"
   },
   {
    "duration": 43,
    "start_time": "2023-11-15T21:21:01.220Z"
   },
   {
    "duration": 10,
    "start_time": "2023-11-15T21:21:03.720Z"
   },
   {
    "duration": 14,
    "start_time": "2023-11-15T21:21:04.991Z"
   },
   {
    "duration": 14,
    "start_time": "2023-11-15T21:21:24.519Z"
   },
   {
    "duration": 7,
    "start_time": "2023-11-15T21:21:28.900Z"
   },
   {
    "duration": 11,
    "start_time": "2023-11-15T21:21:33.090Z"
   },
   {
    "duration": 6,
    "start_time": "2023-11-15T21:21:37.012Z"
   },
   {
    "duration": 4,
    "start_time": "2023-11-15T21:21:38.890Z"
   },
   {
    "duration": 5,
    "start_time": "2023-11-15T21:21:41.820Z"
   },
   {
    "duration": 21,
    "start_time": "2023-11-15T21:21:46.300Z"
   },
   {
    "duration": 3,
    "start_time": "2023-11-15T21:21:52.140Z"
   },
   {
    "duration": 19,
    "start_time": "2023-11-15T21:21:55.024Z"
   },
   {
    "duration": 11,
    "start_time": "2023-11-15T21:21:59.620Z"
   },
   {
    "duration": 4,
    "start_time": "2023-11-15T21:22:01.029Z"
   },
   {
    "duration": 12,
    "start_time": "2023-11-15T21:22:04.679Z"
   },
   {
    "duration": 14,
    "start_time": "2023-11-15T21:22:36.303Z"
   },
   {
    "duration": 12,
    "start_time": "2023-11-15T21:22:48.169Z"
   },
   {
    "duration": 4,
    "start_time": "2023-11-15T21:22:51.960Z"
   },
   {
    "duration": 7,
    "start_time": "2023-11-15T21:23:09.349Z"
   },
   {
    "duration": 23012,
    "start_time": "2023-11-15T21:23:51.430Z"
   },
   {
    "duration": 23886,
    "start_time": "2023-11-15T21:24:28.090Z"
   },
   {
    "duration": 14,
    "start_time": "2023-11-15T21:25:03.303Z"
   },
   {
    "duration": 1147,
    "start_time": "2023-11-16T05:20:01.671Z"
   },
   {
    "duration": 158,
    "start_time": "2023-11-16T05:20:02.820Z"
   },
   {
    "duration": 13,
    "start_time": "2023-11-16T05:20:02.980Z"
   },
   {
    "duration": 24,
    "start_time": "2023-11-16T05:20:02.994Z"
   },
   {
    "duration": 8,
    "start_time": "2023-11-16T05:20:03.021Z"
   },
   {
    "duration": 20,
    "start_time": "2023-11-16T05:20:03.030Z"
   },
   {
    "duration": 5,
    "start_time": "2023-11-16T05:20:03.052Z"
   },
   {
    "duration": 5,
    "start_time": "2023-11-16T05:20:03.059Z"
   },
   {
    "duration": 6,
    "start_time": "2023-11-16T05:20:03.065Z"
   },
   {
    "duration": 20,
    "start_time": "2023-11-16T05:20:03.072Z"
   },
   {
    "duration": 3,
    "start_time": "2023-11-16T05:20:03.094Z"
   },
   {
    "duration": 140,
    "start_time": "2023-11-16T05:20:03.098Z"
   },
   {
    "duration": 0,
    "start_time": "2023-11-16T05:20:03.240Z"
   },
   {
    "duration": 0,
    "start_time": "2023-11-16T05:20:03.241Z"
   },
   {
    "duration": 0,
    "start_time": "2023-11-16T05:20:03.242Z"
   },
   {
    "duration": 0,
    "start_time": "2023-11-16T05:20:03.243Z"
   },
   {
    "duration": 0,
    "start_time": "2023-11-16T05:20:03.244Z"
   },
   {
    "duration": 0,
    "start_time": "2023-11-16T05:20:03.245Z"
   },
   {
    "duration": 13,
    "start_time": "2023-11-16T05:20:09.073Z"
   },
   {
    "duration": 18,
    "start_time": "2023-11-16T05:21:17.786Z"
   },
   {
    "duration": 10,
    "start_time": "2023-11-16T05:21:24.324Z"
   },
   {
    "duration": 4,
    "start_time": "2023-11-16T05:21:27.217Z"
   },
   {
    "duration": 16,
    "start_time": "2023-11-16T05:21:31.412Z"
   },
   {
    "duration": 5,
    "start_time": "2023-11-16T05:21:37.566Z"
   },
   {
    "duration": 6,
    "start_time": "2023-11-16T05:21:43.777Z"
   },
   {
    "duration": 3,
    "start_time": "2023-11-16T05:21:50.290Z"
   },
   {
    "duration": 21598,
    "start_time": "2023-11-16T05:21:50.705Z"
   },
   {
    "duration": 21905,
    "start_time": "2023-11-16T05:22:20.525Z"
   },
   {
    "duration": 21263,
    "start_time": "2023-11-16T05:22:43.583Z"
   },
   {
    "duration": 21312,
    "start_time": "2023-11-16T05:24:25.345Z"
   },
   {
    "duration": 15,
    "start_time": "2023-11-16T05:25:06.569Z"
   },
   {
    "duration": 20722,
    "start_time": "2023-11-16T05:25:36.100Z"
   },
   {
    "duration": 11,
    "start_time": "2023-11-16T05:26:38.907Z"
   },
   {
    "duration": 4,
    "start_time": "2023-11-16T05:26:51.559Z"
   },
   {
    "duration": 20840,
    "start_time": "2023-11-16T05:28:11.239Z"
   },
   {
    "duration": 41,
    "start_time": "2023-11-16T05:28:44.421Z"
   },
   {
    "duration": 11,
    "start_time": "2023-11-16T05:28:45.570Z"
   },
   {
    "duration": 14,
    "start_time": "2023-11-16T05:28:47.160Z"
   },
   {
    "duration": 7,
    "start_time": "2023-11-16T05:28:49.501Z"
   },
   {
    "duration": 10,
    "start_time": "2023-11-16T05:28:52.401Z"
   },
   {
    "duration": 5,
    "start_time": "2023-11-16T05:28:54.821Z"
   },
   {
    "duration": 5,
    "start_time": "2023-11-16T05:28:56.390Z"
   },
   {
    "duration": 5,
    "start_time": "2023-11-16T05:28:59.531Z"
   },
   {
    "duration": 21,
    "start_time": "2023-11-16T05:29:01.133Z"
   },
   {
    "duration": 3,
    "start_time": "2023-11-16T05:29:06.511Z"
   },
   {
    "duration": 15,
    "start_time": "2023-11-16T05:29:08.183Z"
   },
   {
    "duration": 10,
    "start_time": "2023-11-16T05:29:09.702Z"
   },
   {
    "duration": 4,
    "start_time": "2023-11-16T05:29:12.031Z"
   },
   {
    "duration": 14,
    "start_time": "2023-11-16T05:29:14.860Z"
   },
   {
    "duration": 4,
    "start_time": "2023-11-16T05:29:20.731Z"
   },
   {
    "duration": 6,
    "start_time": "2023-11-16T05:29:23.491Z"
   },
   {
    "duration": 3,
    "start_time": "2023-11-16T05:29:27.431Z"
   },
   {
    "duration": 21102,
    "start_time": "2023-11-16T05:29:39.122Z"
   },
   {
    "duration": 29,
    "start_time": "2023-11-16T05:30:59.670Z"
   },
   {
    "duration": 17,
    "start_time": "2023-11-16T05:32:24.690Z"
   },
   {
    "duration": 5,
    "start_time": "2023-11-16T05:32:26.030Z"
   },
   {
    "duration": 24,
    "start_time": "2023-11-16T05:32:27.420Z"
   },
   {
    "duration": 23,
    "start_time": "2023-11-16T05:33:31.100Z"
   },
   {
    "duration": 4,
    "start_time": "2023-11-16T05:33:32.651Z"
   },
   {
    "duration": 37,
    "start_time": "2023-11-16T05:33:33.691Z"
   },
   {
    "duration": 17,
    "start_time": "2023-11-16T05:33:59.440Z"
   },
   {
    "duration": 4,
    "start_time": "2023-11-16T05:34:00.641Z"
   },
   {
    "duration": 27,
    "start_time": "2023-11-16T05:34:01.110Z"
   },
   {
    "duration": 25,
    "start_time": "2023-11-16T05:34:08.640Z"
   },
   {
    "duration": 4,
    "start_time": "2023-11-16T05:34:30.351Z"
   },
   {
    "duration": 7,
    "start_time": "2023-11-16T05:34:32.970Z"
   },
   {
    "duration": 3,
    "start_time": "2023-11-16T05:34:35.509Z"
   },
   {
    "duration": 11129,
    "start_time": "2023-11-16T05:34:36.221Z"
   },
   {
    "duration": 21,
    "start_time": "2023-11-16T05:35:15.601Z"
   },
   {
    "duration": 6,
    "start_time": "2023-11-16T05:35:17.100Z"
   },
   {
    "duration": 24,
    "start_time": "2023-11-16T05:35:17.881Z"
   },
   {
    "duration": 4,
    "start_time": "2023-11-16T05:35:22.240Z"
   },
   {
    "duration": 12,
    "start_time": "2023-11-16T05:35:23.980Z"
   },
   {
    "duration": 3,
    "start_time": "2023-11-16T05:35:26.121Z"
   },
   {
    "duration": 11227,
    "start_time": "2023-11-16T05:35:26.980Z"
   },
   {
    "duration": 21609,
    "start_time": "2023-11-16T05:36:22.474Z"
   },
   {
    "duration": 12816,
    "start_time": "2023-11-16T05:37:15.491Z"
   },
   {
    "duration": 141,
    "start_time": "2023-11-16T05:39:36.502Z"
   },
   {
    "duration": 8,
    "start_time": "2023-11-16T05:40:14.541Z"
   },
   {
    "duration": 9,
    "start_time": "2023-11-16T05:41:16.929Z"
   },
   {
    "duration": 2,
    "start_time": "2023-11-16T05:41:18.022Z"
   },
   {
    "duration": 2,
    "start_time": "2023-11-16T05:41:27.830Z"
   },
   {
    "duration": 13,
    "start_time": "2023-11-16T05:41:28.190Z"
   },
   {
    "duration": 24,
    "start_time": "2023-11-16T05:41:40.859Z"
   },
   {
    "duration": 24,
    "start_time": "2023-11-16T05:41:59.609Z"
   },
   {
    "duration": 4,
    "start_time": "2023-11-16T05:42:27.120Z"
   },
   {
    "duration": 40664,
    "start_time": "2023-11-16T05:42:34.987Z"
   },
   {
    "duration": 14334,
    "start_time": "2023-11-16T05:43:30.144Z"
   },
   {
    "duration": 40316,
    "start_time": "2023-11-16T05:45:11.680Z"
   },
   {
    "duration": 9225,
    "start_time": "2023-11-16T05:46:14.330Z"
   },
   {
    "duration": 13986,
    "start_time": "2023-11-16T05:47:01.820Z"
   },
   {
    "duration": 31,
    "start_time": "2023-11-16T05:49:30.030Z"
   },
   {
    "duration": 1121,
    "start_time": "2023-11-16T18:51:51.993Z"
   },
   {
    "duration": 82,
    "start_time": "2023-11-16T18:51:53.116Z"
   },
   {
    "duration": 13,
    "start_time": "2023-11-16T18:51:53.200Z"
   },
   {
    "duration": 42,
    "start_time": "2023-11-16T18:51:53.214Z"
   },
   {
    "duration": 7,
    "start_time": "2023-11-16T18:51:53.259Z"
   },
   {
    "duration": 35,
    "start_time": "2023-11-16T18:51:53.268Z"
   },
   {
    "duration": 15,
    "start_time": "2023-11-16T18:51:53.304Z"
   },
   {
    "duration": 18,
    "start_time": "2023-11-16T18:51:53.321Z"
   },
   {
    "duration": 18,
    "start_time": "2023-11-16T18:51:53.341Z"
   },
   {
    "duration": 36,
    "start_time": "2023-11-16T18:51:53.361Z"
   },
   {
    "duration": 28,
    "start_time": "2023-11-16T18:51:53.399Z"
   },
   {
    "duration": 27,
    "start_time": "2023-11-16T18:51:53.429Z"
   },
   {
    "duration": 51,
    "start_time": "2023-11-16T18:51:53.458Z"
   },
   {
    "duration": 13,
    "start_time": "2023-11-16T18:51:53.512Z"
   },
   {
    "duration": 41,
    "start_time": "2023-11-16T18:51:53.527Z"
   },
   {
    "duration": 7,
    "start_time": "2023-11-16T18:51:53.569Z"
   },
   {
    "duration": 48,
    "start_time": "2023-11-16T18:51:53.577Z"
   },
   {
    "duration": 4,
    "start_time": "2023-11-16T18:53:27.452Z"
   },
   {
    "duration": 51,
    "start_time": "2023-11-16T18:53:27.457Z"
   },
   {
    "duration": 11,
    "start_time": "2023-11-16T18:53:27.510Z"
   },
   {
    "duration": 22,
    "start_time": "2023-11-16T18:53:27.523Z"
   },
   {
    "duration": 23,
    "start_time": "2023-11-16T18:53:27.547Z"
   },
   {
    "duration": 35,
    "start_time": "2023-11-16T18:53:27.572Z"
   },
   {
    "duration": 19,
    "start_time": "2023-11-16T18:53:27.609Z"
   },
   {
    "duration": 40,
    "start_time": "2023-11-16T18:53:27.630Z"
   },
   {
    "duration": 19,
    "start_time": "2023-11-16T18:53:27.671Z"
   },
   {
    "duration": 33,
    "start_time": "2023-11-16T18:53:27.692Z"
   },
   {
    "duration": 14,
    "start_time": "2023-11-16T18:53:27.727Z"
   },
   {
    "duration": 33,
    "start_time": "2023-11-16T18:53:27.742Z"
   },
   {
    "duration": 39,
    "start_time": "2023-11-16T18:53:27.777Z"
   },
   {
    "duration": 22,
    "start_time": "2023-11-16T18:53:27.818Z"
   },
   {
    "duration": 56,
    "start_time": "2023-11-16T18:53:27.842Z"
   },
   {
    "duration": 4,
    "start_time": "2023-11-16T18:53:27.901Z"
   },
   {
    "duration": 33,
    "start_time": "2023-11-16T18:53:27.907Z"
   },
   {
    "duration": 2249,
    "start_time": "2023-11-16T18:53:27.941Z"
   },
   {
    "duration": 21746,
    "start_time": "2023-11-16T18:53:30.192Z"
   },
   {
    "duration": 2194,
    "start_time": "2023-11-16T18:59:29.347Z"
   },
   {
    "duration": 122,
    "start_time": "2023-11-16T18:59:40.303Z"
   },
   {
    "duration": 2189,
    "start_time": "2023-11-16T18:59:52.895Z"
   },
   {
    "duration": 6,
    "start_time": "2023-11-16T19:00:13.983Z"
   },
   {
    "duration": 41,
    "start_time": "2023-11-16T19:00:31.193Z"
   },
   {
    "duration": 12,
    "start_time": "2023-11-16T19:00:34.163Z"
   },
   {
    "duration": 15,
    "start_time": "2023-11-16T19:00:35.101Z"
   },
   {
    "duration": 9,
    "start_time": "2023-11-16T19:00:36.563Z"
   },
   {
    "duration": 11,
    "start_time": "2023-11-16T19:00:38.314Z"
   },
   {
    "duration": 6,
    "start_time": "2023-11-16T19:00:40.143Z"
   },
   {
    "duration": 5,
    "start_time": "2023-11-16T19:00:40.742Z"
   },
   {
    "duration": 5,
    "start_time": "2023-11-16T19:00:43.902Z"
   },
   {
    "duration": 25,
    "start_time": "2023-11-16T19:00:45.603Z"
   },
   {
    "duration": 3,
    "start_time": "2023-11-16T19:00:49.353Z"
   },
   {
    "duration": 14,
    "start_time": "2023-11-16T19:00:51.674Z"
   },
   {
    "duration": 36,
    "start_time": "2023-11-16T19:00:55.984Z"
   },
   {
    "duration": 6,
    "start_time": "2023-11-16T19:00:58.082Z"
   },
   {
    "duration": 27,
    "start_time": "2023-11-16T19:00:59.463Z"
   },
   {
    "duration": 4,
    "start_time": "2023-11-16T19:01:10.940Z"
   },
   {
    "duration": 7,
    "start_time": "2023-11-16T19:01:16.834Z"
   },
   {
    "duration": 11443,
    "start_time": "2023-11-16T19:01:19.953Z"
   },
   {
    "duration": 8286,
    "start_time": "2023-11-16T19:01:40.424Z"
   },
   {
    "duration": 94023,
    "start_time": "2023-11-16T19:02:29.462Z"
   },
   {
    "duration": 42,
    "start_time": "2023-11-16T19:06:13.403Z"
   },
   {
    "duration": 11,
    "start_time": "2023-11-16T19:06:15.332Z"
   },
   {
    "duration": 15,
    "start_time": "2023-11-16T19:06:15.531Z"
   },
   {
    "duration": 11,
    "start_time": "2023-11-16T19:06:15.953Z"
   },
   {
    "duration": 15,
    "start_time": "2023-11-16T19:06:16.173Z"
   },
   {
    "duration": 6,
    "start_time": "2023-11-16T19:06:16.642Z"
   },
   {
    "duration": 5,
    "start_time": "2023-11-16T19:06:16.881Z"
   },
   {
    "duration": 7,
    "start_time": "2023-11-16T19:06:17.961Z"
   },
   {
    "duration": 23,
    "start_time": "2023-11-16T19:06:18.695Z"
   },
   {
    "duration": 3,
    "start_time": "2023-11-16T19:06:20.952Z"
   },
   {
    "duration": 18,
    "start_time": "2023-11-16T19:06:23.182Z"
   },
   {
    "duration": 26,
    "start_time": "2023-11-16T19:06:29.693Z"
   },
   {
    "duration": 5,
    "start_time": "2023-11-16T19:06:30.722Z"
   },
   {
    "duration": 30,
    "start_time": "2023-11-16T19:06:31.822Z"
   },
   {
    "duration": 5,
    "start_time": "2023-11-16T19:06:38.492Z"
   },
   {
    "duration": 6,
    "start_time": "2023-11-16T19:06:41.492Z"
   },
   {
    "duration": 2329,
    "start_time": "2023-11-16T19:06:47.430Z"
   },
   {
    "duration": 27,
    "start_time": "2023-11-16T19:06:52.443Z"
   },
   {
    "duration": 58,
    "start_time": "2023-11-16T19:08:30.613Z"
   },
   {
    "duration": 2569,
    "start_time": "2023-11-16T19:09:23.092Z"
   },
   {
    "duration": 1447,
    "start_time": "2023-11-16T19:09:25.665Z"
   },
   {
    "duration": 1383,
    "start_time": "2023-11-16T19:09:44.263Z"
   },
   {
    "duration": 21439,
    "start_time": "2023-11-16T19:09:53.044Z"
   },
   {
    "duration": 38,
    "start_time": "2023-11-16T19:10:50.733Z"
   },
   {
    "duration": 11,
    "start_time": "2023-11-16T19:10:51.452Z"
   },
   {
    "duration": 14,
    "start_time": "2023-11-16T19:10:51.641Z"
   },
   {
    "duration": 9,
    "start_time": "2023-11-16T19:10:52.021Z"
   },
   {
    "duration": 12,
    "start_time": "2023-11-16T19:10:52.220Z"
   },
   {
    "duration": 8,
    "start_time": "2023-11-16T19:10:52.653Z"
   },
   {
    "duration": 4,
    "start_time": "2023-11-16T19:10:53.050Z"
   },
   {
    "duration": 6,
    "start_time": "2023-11-16T19:10:54.061Z"
   },
   {
    "duration": 22,
    "start_time": "2023-11-16T19:10:54.491Z"
   },
   {
    "duration": 4,
    "start_time": "2023-11-16T19:10:55.972Z"
   },
   {
    "duration": 14,
    "start_time": "2023-11-16T19:10:57.522Z"
   },
   {
    "duration": 34,
    "start_time": "2023-11-16T19:10:57.931Z"
   },
   {
    "duration": 5,
    "start_time": "2023-11-16T19:11:01.211Z"
   },
   {
    "duration": 27,
    "start_time": "2023-11-16T19:11:02.582Z"
   },
   {
    "duration": 37,
    "start_time": "2023-11-16T19:14:06.040Z"
   },
   {
    "duration": 4,
    "start_time": "2023-11-16T19:14:07.622Z"
   },
   {
    "duration": 7,
    "start_time": "2023-11-16T19:14:09.842Z"
   },
   {
    "duration": 11534,
    "start_time": "2023-11-16T19:14:11.902Z"
   },
   {
    "duration": 8273,
    "start_time": "2023-11-16T19:14:23.438Z"
   },
   {
    "duration": 91471,
    "start_time": "2023-11-16T19:14:39.601Z"
   },
   {
    "duration": 3,
    "start_time": "2023-11-16T19:17:20.662Z"
   },
   {
    "duration": 91745,
    "start_time": "2023-11-16T19:17:23.893Z"
   },
   {
    "duration": 1657,
    "start_time": "2023-11-16T19:20:27.842Z"
   },
   {
    "duration": 38,
    "start_time": "2023-11-16T19:20:38.391Z"
   },
   {
    "duration": 2,
    "start_time": "2023-11-16T19:20:44.955Z"
   },
   {
    "duration": 10,
    "start_time": "2023-11-16T19:21:36.351Z"
   },
   {
    "duration": 3,
    "start_time": "2023-11-16T19:21:41.111Z"
   },
   {
    "duration": 2,
    "start_time": "2023-11-16T19:21:46.432Z"
   },
   {
    "duration": 11,
    "start_time": "2023-11-16T19:21:48.871Z"
   },
   {
    "duration": 27,
    "start_time": "2023-11-16T19:22:07.110Z"
   },
   {
    "duration": 27,
    "start_time": "2023-11-16T19:22:49.451Z"
   },
   {
    "duration": 28,
    "start_time": "2023-11-16T19:24:01.832Z"
   },
   {
    "duration": 4,
    "start_time": "2023-11-16T19:24:07.066Z"
   },
   {
    "duration": 10386,
    "start_time": "2023-11-16T19:24:15.953Z"
   },
   {
    "duration": 114852,
    "start_time": "2023-11-16T19:24:49.522Z"
   },
   {
    "duration": 75159,
    "start_time": "2023-11-16T19:28:20.844Z"
   },
   {
    "duration": 251,
    "start_time": "2023-11-16T19:30:27.732Z"
   },
   {
    "duration": 183,
    "start_time": "2023-11-16T19:32:22.412Z"
   },
   {
    "duration": 233,
    "start_time": "2023-11-16T19:32:28.862Z"
   },
   {
    "duration": 238,
    "start_time": "2023-11-16T19:37:14.652Z"
   },
   {
    "duration": 77,
    "start_time": "2023-11-16T19:38:27.900Z"
   },
   {
    "duration": 240,
    "start_time": "2023-11-16T19:38:52.091Z"
   },
   {
    "duration": 3,
    "start_time": "2023-11-16T19:47:24.793Z"
   },
   {
    "duration": 82,
    "start_time": "2023-11-16T19:47:55.263Z"
   },
   {
    "duration": 10,
    "start_time": "2023-11-16T19:48:11.986Z"
   },
   {
    "duration": 10,
    "start_time": "2023-11-16T19:49:47.346Z"
   },
   {
    "duration": 10,
    "start_time": "2023-11-16T19:50:10.637Z"
   },
   {
    "duration": 10,
    "start_time": "2023-11-16T19:50:54.976Z"
   },
   {
    "duration": 17,
    "start_time": "2023-11-16T19:53:20.172Z"
   },
   {
    "duration": 14,
    "start_time": "2023-11-16T19:53:50.857Z"
   },
   {
    "duration": 93,
    "start_time": "2023-11-16T19:55:06.685Z"
   },
   {
    "duration": 74,
    "start_time": "2023-11-16T19:55:19.214Z"
   },
   {
    "duration": 15,
    "start_time": "2023-11-16T19:55:27.194Z"
   },
   {
    "duration": 17,
    "start_time": "2023-11-16T19:57:21.010Z"
   },
   {
    "duration": 23,
    "start_time": "2023-11-16T19:58:28.439Z"
   },
   {
    "duration": 17,
    "start_time": "2023-11-16T20:01:23.509Z"
   },
   {
    "duration": 9,
    "start_time": "2023-11-16T20:01:37.909Z"
   },
   {
    "duration": 11,
    "start_time": "2023-11-16T20:03:35.759Z"
   },
   {
    "duration": 22,
    "start_time": "2023-11-16T20:03:36.339Z"
   },
   {
    "duration": 3,
    "start_time": "2023-11-16T20:03:58.821Z"
   },
   {
    "duration": 5,
    "start_time": "2023-11-16T20:04:07.470Z"
   },
   {
    "duration": 11,
    "start_time": "2023-11-16T20:04:19.709Z"
   },
   {
    "duration": 11,
    "start_time": "2023-11-16T20:05:08.579Z"
   },
   {
    "duration": 22,
    "start_time": "2023-11-16T20:05:26.629Z"
   },
   {
    "duration": 5,
    "start_time": "2023-11-16T20:05:35.559Z"
   },
   {
    "duration": 5,
    "start_time": "2023-11-16T20:06:20.649Z"
   },
   {
    "duration": 4,
    "start_time": "2023-11-16T20:06:46.889Z"
   },
   {
    "duration": 6,
    "start_time": "2023-11-16T20:12:45.000Z"
   },
   {
    "duration": 174153,
    "start_time": "2023-11-16T20:16:26.061Z"
   },
   {
    "duration": 161234,
    "start_time": "2023-11-16T20:19:27.351Z"
   },
   {
    "duration": 6,
    "start_time": "2023-11-16T20:22:17.474Z"
   },
   {
    "duration": 60,
    "start_time": "2023-11-16T20:22:17.483Z"
   },
   {
    "duration": 18,
    "start_time": "2023-11-16T20:22:17.545Z"
   },
   {
    "duration": 21,
    "start_time": "2023-11-16T20:22:17.579Z"
   },
   {
    "duration": 10,
    "start_time": "2023-11-16T20:22:17.602Z"
   },
   {
    "duration": 11,
    "start_time": "2023-11-16T20:22:17.614Z"
   },
   {
    "duration": 7,
    "start_time": "2023-11-16T20:22:17.627Z"
   },
   {
    "duration": 26,
    "start_time": "2023-11-16T20:22:17.636Z"
   },
   {
    "duration": 7,
    "start_time": "2023-11-16T20:22:17.669Z"
   },
   {
    "duration": 26,
    "start_time": "2023-11-16T20:22:17.681Z"
   },
   {
    "duration": 4,
    "start_time": "2023-11-16T20:22:17.708Z"
   },
   {
    "duration": 15,
    "start_time": "2023-11-16T20:22:17.713Z"
   },
   {
    "duration": 71,
    "start_time": "2023-11-16T20:22:17.730Z"
   },
   {
    "duration": 5,
    "start_time": "2023-11-16T20:22:17.803Z"
   },
   {
    "duration": 60,
    "start_time": "2023-11-16T20:22:17.809Z"
   },
   {
    "duration": 7,
    "start_time": "2023-11-16T20:22:17.878Z"
   },
   {
    "duration": 10,
    "start_time": "2023-11-16T20:22:17.887Z"
   },
   {
    "duration": 6,
    "start_time": "2023-11-16T20:22:17.899Z"
   },
   {
    "duration": 14,
    "start_time": "2023-11-16T20:22:17.907Z"
   },
   {
    "duration": 90505,
    "start_time": "2023-11-16T20:22:17.922Z"
   },
   {
    "duration": 0,
    "start_time": "2023-11-16T20:23:48.429Z"
   },
   {
    "duration": 0,
    "start_time": "2023-11-16T20:23:48.430Z"
   },
   {
    "duration": 0,
    "start_time": "2023-11-16T20:23:48.431Z"
   },
   {
    "duration": 0,
    "start_time": "2023-11-16T20:23:48.432Z"
   },
   {
    "duration": 0,
    "start_time": "2023-11-16T20:23:48.434Z"
   },
   {
    "duration": 0,
    "start_time": "2023-11-16T20:23:48.435Z"
   },
   {
    "duration": 0,
    "start_time": "2023-11-16T20:23:48.436Z"
   },
   {
    "duration": 0,
    "start_time": "2023-11-16T20:23:48.438Z"
   },
   {
    "duration": 0,
    "start_time": "2023-11-16T20:23:48.439Z"
   },
   {
    "duration": 0,
    "start_time": "2023-11-16T20:23:48.466Z"
   },
   {
    "duration": 0,
    "start_time": "2023-11-16T20:23:48.467Z"
   },
   {
    "duration": 0,
    "start_time": "2023-11-16T20:23:48.468Z"
   },
   {
    "duration": 0,
    "start_time": "2023-11-16T20:23:48.469Z"
   },
   {
    "duration": 0,
    "start_time": "2023-11-16T20:23:48.470Z"
   },
   {
    "duration": 0,
    "start_time": "2023-11-16T20:23:48.471Z"
   },
   {
    "duration": 0,
    "start_time": "2023-11-16T20:23:48.472Z"
   },
   {
    "duration": 0,
    "start_time": "2023-11-16T20:23:48.474Z"
   },
   {
    "duration": 0,
    "start_time": "2023-11-16T20:23:48.475Z"
   },
   {
    "duration": 1278,
    "start_time": "2023-11-16T20:24:01.912Z"
   },
   {
    "duration": 42,
    "start_time": "2023-11-16T20:24:03.192Z"
   },
   {
    "duration": 16,
    "start_time": "2023-11-16T20:24:03.236Z"
   },
   {
    "duration": 34,
    "start_time": "2023-11-16T20:24:03.254Z"
   },
   {
    "duration": 24,
    "start_time": "2023-11-16T20:24:03.289Z"
   },
   {
    "duration": 15,
    "start_time": "2023-11-16T20:24:03.314Z"
   },
   {
    "duration": 10,
    "start_time": "2023-11-16T20:24:03.331Z"
   },
   {
    "duration": 16,
    "start_time": "2023-11-16T20:24:03.343Z"
   },
   {
    "duration": 13,
    "start_time": "2023-11-16T20:24:03.361Z"
   },
   {
    "duration": 39,
    "start_time": "2023-11-16T20:24:03.377Z"
   },
   {
    "duration": 3,
    "start_time": "2023-11-16T20:24:03.418Z"
   },
   {
    "duration": 30,
    "start_time": "2023-11-16T20:24:03.423Z"
   },
   {
    "duration": 58,
    "start_time": "2023-11-16T20:24:03.455Z"
   },
   {
    "duration": 7,
    "start_time": "2023-11-16T20:24:03.514Z"
   },
   {
    "duration": 38,
    "start_time": "2023-11-16T20:24:03.522Z"
   },
   {
    "duration": 11,
    "start_time": "2023-11-16T20:24:03.562Z"
   },
   {
    "duration": 29,
    "start_time": "2023-11-16T20:24:03.575Z"
   },
   {
    "duration": 6,
    "start_time": "2023-11-16T20:24:03.607Z"
   },
   {
    "duration": 7,
    "start_time": "2023-11-16T20:24:03.614Z"
   },
   {
    "duration": 98302,
    "start_time": "2023-11-16T20:24:03.623Z"
   },
   {
    "duration": 2082,
    "start_time": "2023-11-16T20:25:41.927Z"
   },
   {
    "duration": 10,
    "start_time": "2023-11-16T20:25:44.010Z"
   },
   {
    "duration": 5,
    "start_time": "2023-11-16T20:25:44.021Z"
   },
   {
    "duration": 5,
    "start_time": "2023-11-16T20:25:44.027Z"
   },
   {
    "duration": 20,
    "start_time": "2023-11-16T20:25:44.033Z"
   },
   {
    "duration": 66,
    "start_time": "2023-11-16T20:25:44.055Z"
   },
   {
    "duration": 5,
    "start_time": "2023-11-16T20:25:44.123Z"
   },
   {
    "duration": 79554,
    "start_time": "2023-11-16T20:25:44.132Z"
   },
   {
    "duration": 233,
    "start_time": "2023-11-16T20:27:03.687Z"
   },
   {
    "duration": 70,
    "start_time": "2023-11-16T20:27:03.922Z"
   },
   {
    "duration": 10,
    "start_time": "2023-11-16T20:27:03.993Z"
   },
   {
    "duration": 32,
    "start_time": "2023-11-16T20:27:04.005Z"
   },
   {
    "duration": 10,
    "start_time": "2023-11-16T20:27:04.038Z"
   },
   {
    "duration": 16,
    "start_time": "2023-11-16T20:27:04.049Z"
   },
   {
    "duration": 182213,
    "start_time": "2023-11-16T20:27:04.073Z"
   },
   {
    "duration": 220,
    "start_time": "2023-11-16T20:30:06.287Z"
   },
   {
    "duration": 3,
    "start_time": "2023-11-16T20:30:06.508Z"
   },
   {
    "duration": 45,
    "start_time": "2023-11-16T20:30:06.512Z"
   },
   {
    "duration": 257,
    "start_time": "2023-11-16T20:30:28.363Z"
   },
   {
    "duration": 177166,
    "start_time": "2023-11-16T20:33:10.720Z"
   },
   {
    "duration": 34945,
    "start_time": "2023-11-16T20:37:08.063Z"
   },
   {
    "duration": 195,
    "start_time": "2023-11-16T20:37:51.121Z"
   },
   {
    "duration": 29,
    "start_time": "2023-11-16T20:41:23.362Z"
   },
   {
    "duration": 28,
    "start_time": "2023-11-16T20:42:24.178Z"
   },
   {
    "duration": 22,
    "start_time": "2023-11-16T20:42:49.123Z"
   },
   {
    "duration": 25,
    "start_time": "2023-11-16T20:43:10.883Z"
   },
   {
    "duration": 23,
    "start_time": "2023-11-16T20:44:29.241Z"
   },
   {
    "duration": 28,
    "start_time": "2023-11-16T20:45:07.122Z"
   },
   {
    "duration": 24,
    "start_time": "2023-11-16T20:45:34.183Z"
   },
   {
    "duration": 22,
    "start_time": "2023-11-16T20:45:49.292Z"
   },
   {
    "duration": 23,
    "start_time": "2023-11-16T20:46:51.543Z"
   },
   {
    "duration": 24,
    "start_time": "2023-11-16T20:47:07.162Z"
   },
   {
    "duration": 22,
    "start_time": "2023-11-16T20:47:23.372Z"
   },
   {
    "duration": 22,
    "start_time": "2023-11-16T20:48:00.283Z"
   },
   {
    "duration": 22,
    "start_time": "2023-11-16T20:48:07.573Z"
   },
   {
    "duration": 23,
    "start_time": "2023-11-16T20:48:20.672Z"
   },
   {
    "duration": 6,
    "start_time": "2023-11-16T20:51:26.303Z"
   },
   {
    "duration": 21,
    "start_time": "2023-11-16T20:53:26.362Z"
   },
   {
    "duration": 5,
    "start_time": "2023-11-16T20:53:27.803Z"
   },
   {
    "duration": 3,
    "start_time": "2023-11-16T20:53:29.583Z"
   },
   {
    "duration": 10,
    "start_time": "2023-11-16T20:53:31.324Z"
   },
   {
    "duration": 10,
    "start_time": "2023-11-16T20:55:00.911Z"
   },
   {
    "duration": 3,
    "start_time": "2023-11-16T20:56:12.342Z"
   },
   {
    "duration": 29,
    "start_time": "2023-11-16T20:56:47.572Z"
   },
   {
    "duration": 5,
    "start_time": "2023-11-16T20:56:55.700Z"
   },
   {
    "duration": 67139,
    "start_time": "2023-11-16T20:57:04.263Z"
   },
   {
    "duration": 3,
    "start_time": "2023-11-16T21:01:31.822Z"
   },
   {
    "duration": 10899,
    "start_time": "2023-11-16T21:05:16.252Z"
   },
   {
    "duration": 10820,
    "start_time": "2023-11-16T21:05:55.743Z"
   },
   {
    "duration": 24,
    "start_time": "2023-11-16T21:09:42.325Z"
   },
   {
    "duration": 5,
    "start_time": "2023-11-16T21:09:43.858Z"
   },
   {
    "duration": 2,
    "start_time": "2023-11-16T21:09:45.258Z"
   },
   {
    "duration": 14,
    "start_time": "2023-11-16T21:09:46.969Z"
   },
   {
    "duration": 2,
    "start_time": "2023-11-16T21:09:50.226Z"
   },
   {
    "duration": 29,
    "start_time": "2023-11-16T21:09:53.788Z"
   },
   {
    "duration": 4,
    "start_time": "2023-11-16T21:10:00.011Z"
   },
   {
    "duration": 74937,
    "start_time": "2023-11-16T21:10:20.516Z"
   },
   {
    "duration": 222,
    "start_time": "2023-11-16T21:11:40.978Z"
   },
   {
    "duration": 23,
    "start_time": "2023-11-16T21:12:07.898Z"
   },
   {
    "duration": 10,
    "start_time": "2023-11-16T21:12:11.796Z"
   },
   {
    "duration": 23,
    "start_time": "2023-11-16T21:12:15.937Z"
   },
   {
    "duration": 5,
    "start_time": "2023-11-16T21:12:17.778Z"
   },
   {
    "duration": 169011,
    "start_time": "2023-11-16T21:12:22.769Z"
   },
   {
    "duration": 10949,
    "start_time": "2023-11-16T21:15:11.783Z"
   },
   {
    "duration": 15624,
    "start_time": "2023-11-16T21:15:22.734Z"
   },
   {
    "duration": 259,
    "start_time": "2023-11-16T21:23:52.451Z"
   },
   {
    "duration": 27,
    "start_time": "2023-11-16T21:26:33.086Z"
   },
   {
    "duration": 20,
    "start_time": "2023-11-16T21:27:27.924Z"
   },
   {
    "duration": 3,
    "start_time": "2023-11-16T21:28:51.222Z"
   },
   {
    "duration": 45,
    "start_time": "2023-11-16T21:28:51.227Z"
   },
   {
    "duration": 12,
    "start_time": "2023-11-16T21:28:51.273Z"
   },
   {
    "duration": 14,
    "start_time": "2023-11-16T21:28:51.287Z"
   },
   {
    "duration": 9,
    "start_time": "2023-11-16T21:28:51.312Z"
   },
   {
    "duration": 10,
    "start_time": "2023-11-16T21:28:51.323Z"
   },
   {
    "duration": 33,
    "start_time": "2023-11-16T21:28:51.334Z"
   },
   {
    "duration": 5,
    "start_time": "2023-11-16T21:28:51.423Z"
   },
   {
    "duration": 18,
    "start_time": "2023-11-16T21:28:51.430Z"
   },
   {
    "duration": 24,
    "start_time": "2023-11-16T21:28:51.449Z"
   },
   {
    "duration": 3,
    "start_time": "2023-11-16T21:28:51.522Z"
   },
   {
    "duration": 41,
    "start_time": "2023-11-16T21:28:51.527Z"
   },
   {
    "duration": 35,
    "start_time": "2023-11-16T21:28:51.569Z"
   },
   {
    "duration": 5,
    "start_time": "2023-11-16T21:28:51.611Z"
   },
   {
    "duration": 64,
    "start_time": "2023-11-16T21:28:51.617Z"
   },
   {
    "duration": 26,
    "start_time": "2023-11-16T21:28:51.682Z"
   },
   {
    "duration": 17,
    "start_time": "2023-11-16T21:28:51.710Z"
   },
   {
    "duration": 3,
    "start_time": "2023-11-16T21:28:51.729Z"
   },
   {
    "duration": 9,
    "start_time": "2023-11-16T21:28:51.734Z"
   },
   {
    "duration": 86245,
    "start_time": "2023-11-16T21:28:51.771Z"
   },
   {
    "duration": 1679,
    "start_time": "2023-11-16T21:30:18.018Z"
   },
   {
    "duration": 24,
    "start_time": "2023-11-16T21:30:19.698Z"
   },
   {
    "duration": 6,
    "start_time": "2023-11-16T21:30:19.724Z"
   },
   {
    "duration": 9,
    "start_time": "2023-11-16T21:30:19.732Z"
   },
   {
    "duration": 25,
    "start_time": "2023-11-16T21:30:19.766Z"
   },
   {
    "duration": 2,
    "start_time": "2023-11-16T21:30:19.792Z"
   },
   {
    "duration": 35,
    "start_time": "2023-11-16T21:30:19.796Z"
   },
   {
    "duration": 4,
    "start_time": "2023-11-16T21:30:19.832Z"
   },
   {
    "duration": 71257,
    "start_time": "2023-11-16T21:30:19.839Z"
   },
   {
    "duration": 201,
    "start_time": "2023-11-16T21:31:31.098Z"
   },
   {
    "duration": 22,
    "start_time": "2023-11-16T21:31:31.301Z"
   },
   {
    "duration": 28,
    "start_time": "2023-11-16T21:31:31.324Z"
   },
   {
    "duration": 84,
    "start_time": "2023-11-16T21:31:31.354Z"
   },
   {
    "duration": 6,
    "start_time": "2023-11-16T21:31:31.440Z"
   },
   {
    "duration": 162434,
    "start_time": "2023-11-16T21:31:31.448Z"
   },
   {
    "duration": 10003,
    "start_time": "2023-11-16T21:34:13.884Z"
   },
   {
    "duration": 14640,
    "start_time": "2023-11-16T21:34:23.890Z"
   },
   {
    "duration": 247,
    "start_time": "2023-11-16T21:34:38.531Z"
   },
   {
    "duration": 2,
    "start_time": "2023-11-16T21:34:38.779Z"
   },
   {
    "duration": 45,
    "start_time": "2023-11-16T21:34:38.783Z"
   },
   {
    "duration": 4,
    "start_time": "2023-11-16T21:39:26.214Z"
   },
   {
    "duration": 42,
    "start_time": "2023-11-16T21:42:39.981Z"
   },
   {
    "duration": 10088,
    "start_time": "2023-11-16T21:42:51.556Z"
   },
   {
    "duration": 14858,
    "start_time": "2023-11-16T21:43:01.646Z"
   },
   {
    "duration": 195,
    "start_time": "2023-11-16T21:43:16.506Z"
   },
   {
    "duration": 2,
    "start_time": "2023-11-16T21:43:16.703Z"
   },
   {
    "duration": 134,
    "start_time": "2023-11-16T21:43:16.707Z"
   },
   {
    "duration": 139,
    "start_time": "2023-11-16T21:43:55.814Z"
   },
   {
    "duration": 3,
    "start_time": "2023-11-16T21:46:27.985Z"
   },
   {
    "duration": 42,
    "start_time": "2023-11-16T21:46:27.990Z"
   },
   {
    "duration": 12,
    "start_time": "2023-11-16T21:46:28.033Z"
   },
   {
    "duration": 14,
    "start_time": "2023-11-16T21:46:28.046Z"
   },
   {
    "duration": 28,
    "start_time": "2023-11-16T21:46:28.062Z"
   },
   {
    "duration": 9,
    "start_time": "2023-11-16T21:46:28.092Z"
   },
   {
    "duration": 28,
    "start_time": "2023-11-16T21:46:28.103Z"
   },
   {
    "duration": 4,
    "start_time": "2023-11-16T21:46:28.133Z"
   },
   {
    "duration": 6,
    "start_time": "2023-11-16T21:46:28.138Z"
   },
   {
    "duration": 21,
    "start_time": "2023-11-16T21:46:28.145Z"
   },
   {
    "duration": 2,
    "start_time": "2023-11-16T21:46:28.168Z"
   },
   {
    "duration": 20,
    "start_time": "2023-11-16T21:46:28.172Z"
   },
   {
    "duration": 36,
    "start_time": "2023-11-16T21:46:28.193Z"
   },
   {
    "duration": 5,
    "start_time": "2023-11-16T21:46:28.232Z"
   },
   {
    "duration": 46,
    "start_time": "2023-11-16T21:46:28.238Z"
   },
   {
    "duration": 4,
    "start_time": "2023-11-16T21:46:28.286Z"
   },
   {
    "duration": 8,
    "start_time": "2023-11-16T21:46:28.291Z"
   },
   {
    "duration": 9,
    "start_time": "2023-11-16T21:46:28.301Z"
   },
   {
    "duration": 5,
    "start_time": "2023-11-16T21:46:28.312Z"
   },
   {
    "duration": 87449,
    "start_time": "2023-11-16T21:46:28.318Z"
   },
   {
    "duration": 1334,
    "start_time": "2023-11-16T21:47:55.769Z"
   },
   {
    "duration": 23,
    "start_time": "2023-11-16T21:47:57.105Z"
   },
   {
    "duration": 5,
    "start_time": "2023-11-16T21:47:57.129Z"
   },
   {
    "duration": 31,
    "start_time": "2023-11-16T21:47:57.136Z"
   },
   {
    "duration": 37,
    "start_time": "2023-11-16T21:47:57.168Z"
   },
   {
    "duration": 3,
    "start_time": "2023-11-16T21:47:57.206Z"
   },
   {
    "duration": 31,
    "start_time": "2023-11-16T21:47:57.210Z"
   },
   {
    "duration": 5,
    "start_time": "2023-11-16T21:47:57.242Z"
   },
   {
    "duration": 70962,
    "start_time": "2023-11-16T21:47:57.248Z"
   },
   {
    "duration": 189,
    "start_time": "2023-11-16T21:49:08.212Z"
   },
   {
    "duration": 21,
    "start_time": "2023-11-16T21:49:08.402Z"
   },
   {
    "duration": 11,
    "start_time": "2023-11-16T21:49:08.424Z"
   },
   {
    "duration": 58,
    "start_time": "2023-11-16T21:49:08.436Z"
   },
   {
    "duration": 5,
    "start_time": "2023-11-16T21:49:08.495Z"
   },
   {
    "duration": 141925,
    "start_time": "2023-11-16T21:49:08.501Z"
   },
   {
    "duration": 0,
    "start_time": "2023-11-16T21:51:30.427Z"
   },
   {
    "duration": 0,
    "start_time": "2023-11-16T21:51:30.429Z"
   },
   {
    "duration": 0,
    "start_time": "2023-11-16T21:51:30.430Z"
   },
   {
    "duration": 0,
    "start_time": "2023-11-16T21:51:30.431Z"
   },
   {
    "duration": 0,
    "start_time": "2023-11-16T21:51:30.432Z"
   },
   {
    "duration": 3,
    "start_time": "2023-11-16T21:51:49.136Z"
   },
   {
    "duration": 51,
    "start_time": "2023-11-16T21:51:49.141Z"
   },
   {
    "duration": 11,
    "start_time": "2023-11-16T21:51:49.193Z"
   },
   {
    "duration": 25,
    "start_time": "2023-11-16T21:51:49.206Z"
   },
   {
    "duration": 31,
    "start_time": "2023-11-16T21:51:49.233Z"
   },
   {
    "duration": 10,
    "start_time": "2023-11-16T21:51:49.266Z"
   },
   {
    "duration": 11,
    "start_time": "2023-11-16T21:51:49.277Z"
   },
   {
    "duration": 19,
    "start_time": "2023-11-16T21:51:49.289Z"
   },
   {
    "duration": 11,
    "start_time": "2023-11-16T21:51:49.309Z"
   },
   {
    "duration": 22,
    "start_time": "2023-11-16T21:51:49.322Z"
   },
   {
    "duration": 3,
    "start_time": "2023-11-16T21:51:49.346Z"
   },
   {
    "duration": 23,
    "start_time": "2023-11-16T21:51:49.351Z"
   },
   {
    "duration": 53,
    "start_time": "2023-11-16T21:51:49.375Z"
   },
   {
    "duration": 8,
    "start_time": "2023-11-16T21:51:49.431Z"
   },
   {
    "duration": 55,
    "start_time": "2023-11-16T21:51:49.440Z"
   },
   {
    "duration": 24,
    "start_time": "2023-11-16T21:51:49.497Z"
   },
   {
    "duration": 8,
    "start_time": "2023-11-16T21:51:49.523Z"
   },
   {
    "duration": 4,
    "start_time": "2023-11-16T21:51:49.533Z"
   },
   {
    "duration": 7,
    "start_time": "2023-11-16T21:51:49.538Z"
   },
   {
    "duration": 86825,
    "start_time": "2023-11-16T21:51:49.547Z"
   },
   {
    "duration": 1433,
    "start_time": "2023-11-16T21:53:16.374Z"
   },
   {
    "duration": 22,
    "start_time": "2023-11-16T21:53:17.808Z"
   },
   {
    "duration": 4,
    "start_time": "2023-11-16T21:53:17.832Z"
   },
   {
    "duration": 28,
    "start_time": "2023-11-16T21:53:17.838Z"
   },
   {
    "duration": 42,
    "start_time": "2023-11-16T21:53:17.867Z"
   },
   {
    "duration": 30,
    "start_time": "2023-11-16T21:53:17.911Z"
   },
   {
    "duration": 7,
    "start_time": "2023-11-16T21:53:17.943Z"
   },
   {
    "duration": 71309,
    "start_time": "2023-11-16T21:53:17.951Z"
   },
   {
    "duration": 234,
    "start_time": "2023-11-16T21:54:29.266Z"
   },
   {
    "duration": 22,
    "start_time": "2023-11-16T21:54:29.502Z"
   },
   {
    "duration": 10,
    "start_time": "2023-11-16T21:54:29.526Z"
   },
   {
    "duration": 59,
    "start_time": "2023-11-16T21:54:29.538Z"
   },
   {
    "duration": 5,
    "start_time": "2023-11-16T21:54:29.599Z"
   },
   {
    "duration": 163937,
    "start_time": "2023-11-16T21:54:29.606Z"
   },
   {
    "duration": 10031,
    "start_time": "2023-11-16T21:57:13.544Z"
   },
   {
    "duration": 14740,
    "start_time": "2023-11-16T21:57:23.577Z"
   },
   {
    "duration": 175,
    "start_time": "2023-11-16T21:57:38.318Z"
   },
   {
    "duration": 2,
    "start_time": "2023-11-16T21:57:38.495Z"
   },
   {
    "duration": 162,
    "start_time": "2023-11-16T21:57:38.499Z"
   },
   {
    "duration": 3,
    "start_time": "2023-11-16T21:59:12.195Z"
   },
   {
    "duration": 50,
    "start_time": "2023-11-16T21:59:12.200Z"
   },
   {
    "duration": 11,
    "start_time": "2023-11-16T21:59:12.252Z"
   },
   {
    "duration": 13,
    "start_time": "2023-11-16T21:59:12.264Z"
   },
   {
    "duration": 22,
    "start_time": "2023-11-16T21:59:12.279Z"
   },
   {
    "duration": 28,
    "start_time": "2023-11-16T21:59:12.302Z"
   },
   {
    "duration": 21,
    "start_time": "2023-11-16T21:59:12.332Z"
   },
   {
    "duration": 14,
    "start_time": "2023-11-16T21:59:12.355Z"
   },
   {
    "duration": 7,
    "start_time": "2023-11-16T21:59:12.370Z"
   },
   {
    "duration": 25,
    "start_time": "2023-11-16T21:59:12.378Z"
   },
   {
    "duration": 6,
    "start_time": "2023-11-16T21:59:12.405Z"
   },
   {
    "duration": 34,
    "start_time": "2023-11-16T21:59:12.413Z"
   },
   {
    "duration": 24,
    "start_time": "2023-11-16T21:59:12.449Z"
   },
   {
    "duration": 5,
    "start_time": "2023-11-16T21:59:12.476Z"
   },
   {
    "duration": 28,
    "start_time": "2023-11-16T21:59:12.482Z"
   },
   {
    "duration": 4,
    "start_time": "2023-11-16T21:59:12.511Z"
   },
   {
    "duration": 14,
    "start_time": "2023-11-16T21:59:12.517Z"
   },
   {
    "duration": 13,
    "start_time": "2023-11-16T21:59:12.532Z"
   },
   {
    "duration": 16,
    "start_time": "2023-11-16T21:59:12.547Z"
   },
   {
    "duration": 85803,
    "start_time": "2023-11-16T21:59:12.564Z"
   },
   {
    "duration": 1748,
    "start_time": "2023-11-16T22:00:38.369Z"
   },
   {
    "duration": 24,
    "start_time": "2023-11-16T22:00:40.118Z"
   },
   {
    "duration": 24,
    "start_time": "2023-11-16T22:00:40.143Z"
   },
   {
    "duration": 19,
    "start_time": "2023-11-16T22:00:40.169Z"
   },
   {
    "duration": 44,
    "start_time": "2023-11-16T22:00:40.189Z"
   },
   {
    "duration": 24,
    "start_time": "2023-11-16T22:00:40.235Z"
   },
   {
    "duration": 4,
    "start_time": "2023-11-16T22:00:40.260Z"
   },
   {
    "duration": 70258,
    "start_time": "2023-11-16T22:00:40.265Z"
   },
   {
    "duration": 177,
    "start_time": "2023-11-16T22:01:50.524Z"
   },
   {
    "duration": 22,
    "start_time": "2023-11-16T22:01:50.703Z"
   },
   {
    "duration": 9,
    "start_time": "2023-11-16T22:01:50.726Z"
   },
   {
    "duration": 56,
    "start_time": "2023-11-16T22:01:50.736Z"
   },
   {
    "duration": 6,
    "start_time": "2023-11-16T22:01:50.794Z"
   },
   {
    "duration": 162531,
    "start_time": "2023-11-16T22:01:50.801Z"
   },
   {
    "duration": 10071,
    "start_time": "2023-11-16T22:04:33.334Z"
   },
   {
    "duration": 14888,
    "start_time": "2023-11-16T22:04:43.407Z"
   },
   {
    "duration": 207,
    "start_time": "2023-11-16T22:04:58.297Z"
   },
   {
    "duration": 3,
    "start_time": "2023-11-16T22:04:58.506Z"
   },
   {
    "duration": 189,
    "start_time": "2023-11-16T22:04:58.511Z"
   },
   {
    "duration": 74,
    "start_time": "2023-11-16T22:04:58.704Z"
   },
   {
    "duration": 1203,
    "start_time": "2023-11-17T06:28:00.522Z"
   },
   {
    "duration": 85,
    "start_time": "2023-11-17T06:28:01.727Z"
   },
   {
    "duration": 13,
    "start_time": "2023-11-17T06:28:01.813Z"
   },
   {
    "duration": 28,
    "start_time": "2023-11-17T06:28:01.828Z"
   },
   {
    "duration": 25,
    "start_time": "2023-11-17T06:28:01.858Z"
   },
   {
    "duration": 9,
    "start_time": "2023-11-17T06:28:01.885Z"
   },
   {
    "duration": 12,
    "start_time": "2023-11-17T06:28:01.896Z"
   },
   {
    "duration": 5,
    "start_time": "2023-11-17T06:28:01.909Z"
   },
   {
    "duration": 7,
    "start_time": "2023-11-17T06:28:01.916Z"
   },
   {
    "duration": 44,
    "start_time": "2023-11-17T06:28:01.924Z"
   },
   {
    "duration": 8,
    "start_time": "2023-11-17T06:28:01.970Z"
   },
   {
    "duration": 27,
    "start_time": "2023-11-17T06:28:01.979Z"
   },
   {
    "duration": 53,
    "start_time": "2023-11-17T06:28:02.008Z"
   },
   {
    "duration": 4,
    "start_time": "2023-11-17T06:28:02.064Z"
   },
   {
    "duration": 44,
    "start_time": "2023-11-17T06:28:02.070Z"
   },
   {
    "duration": 6,
    "start_time": "2023-11-17T06:28:02.115Z"
   },
   {
    "duration": 11,
    "start_time": "2023-11-17T06:28:02.122Z"
   },
   {
    "duration": 7,
    "start_time": "2023-11-17T06:28:02.135Z"
   },
   {
    "duration": 24,
    "start_time": "2023-11-17T06:28:02.145Z"
   },
   {
    "duration": 98077,
    "start_time": "2023-11-17T06:28:02.170Z"
   },
   {
    "duration": 2046,
    "start_time": "2023-11-17T06:29:40.253Z"
   },
   {
    "duration": 81,
    "start_time": "2023-11-17T06:29:42.300Z"
   },
   {
    "duration": 5,
    "start_time": "2023-11-17T06:29:42.382Z"
   },
   {
    "duration": 8,
    "start_time": "2023-11-17T06:29:42.388Z"
   },
   {
    "duration": 21,
    "start_time": "2023-11-17T06:29:42.398Z"
   },
   {
    "duration": 54,
    "start_time": "2023-11-17T06:29:42.420Z"
   },
   {
    "duration": 4,
    "start_time": "2023-11-17T06:29:42.476Z"
   },
   {
    "duration": 79291,
    "start_time": "2023-11-17T06:29:42.481Z"
   },
   {
    "duration": 233,
    "start_time": "2023-11-17T06:31:01.774Z"
   },
   {
    "duration": 57,
    "start_time": "2023-11-17T06:31:02.008Z"
   },
   {
    "duration": 14,
    "start_time": "2023-11-17T06:31:02.068Z"
   },
   {
    "duration": 115,
    "start_time": "2023-11-17T06:31:02.083Z"
   },
   {
    "duration": 5,
    "start_time": "2023-11-17T06:31:02.200Z"
   },
   {
    "duration": 189162,
    "start_time": "2023-11-17T06:31:02.207Z"
   },
   {
    "duration": 11593,
    "start_time": "2023-11-17T06:34:11.370Z"
   },
   {
    "duration": 16741,
    "start_time": "2023-11-17T06:34:22.965Z"
   },
   {
    "duration": 177,
    "start_time": "2023-11-17T06:34:39.707Z"
   },
   {
    "duration": 2,
    "start_time": "2023-11-17T06:34:39.886Z"
   },
   {
    "duration": 169,
    "start_time": "2023-11-17T06:34:39.947Z"
   },
   {
    "duration": 3,
    "start_time": "2023-11-17T07:06:14.904Z"
   },
   {
    "duration": 44,
    "start_time": "2023-11-17T07:06:14.910Z"
   },
   {
    "duration": 13,
    "start_time": "2023-11-17T07:06:14.955Z"
   },
   {
    "duration": 14,
    "start_time": "2023-11-17T07:06:14.971Z"
   },
   {
    "duration": 16,
    "start_time": "2023-11-17T07:06:14.987Z"
   },
   {
    "duration": 41,
    "start_time": "2023-11-17T07:06:15.004Z"
   },
   {
    "duration": 31,
    "start_time": "2023-11-17T07:06:15.047Z"
   },
   {
    "duration": 21,
    "start_time": "2023-11-17T07:06:15.079Z"
   },
   {
    "duration": 7,
    "start_time": "2023-11-17T07:06:15.103Z"
   },
   {
    "duration": 27,
    "start_time": "2023-11-17T07:06:15.112Z"
   },
   {
    "duration": 3,
    "start_time": "2023-11-17T07:06:15.142Z"
   },
   {
    "duration": 16,
    "start_time": "2023-11-17T07:06:15.147Z"
   },
   {
    "duration": 26,
    "start_time": "2023-11-17T07:06:15.165Z"
   },
   {
    "duration": 4,
    "start_time": "2023-11-17T07:06:15.193Z"
   },
   {
    "duration": 56,
    "start_time": "2023-11-17T07:06:15.199Z"
   },
   {
    "duration": 4,
    "start_time": "2023-11-17T07:06:15.257Z"
   },
   {
    "duration": 12,
    "start_time": "2023-11-17T07:06:15.262Z"
   },
   {
    "duration": 3,
    "start_time": "2023-11-17T07:06:15.275Z"
   },
   {
    "duration": 9,
    "start_time": "2023-11-17T07:06:15.280Z"
   },
   {
    "duration": 88468,
    "start_time": "2023-11-17T07:06:15.291Z"
   },
   {
    "duration": 1625,
    "start_time": "2023-11-17T07:07:43.760Z"
   },
   {
    "duration": 23,
    "start_time": "2023-11-17T07:07:45.387Z"
   },
   {
    "duration": 5,
    "start_time": "2023-11-17T07:07:45.412Z"
   },
   {
    "duration": 25,
    "start_time": "2023-11-17T07:07:45.419Z"
   },
   {
    "duration": 27,
    "start_time": "2023-11-17T07:07:45.446Z"
   },
   {
    "duration": 28,
    "start_time": "2023-11-17T07:07:45.475Z"
   },
   {
    "duration": 4,
    "start_time": "2023-11-17T07:07:45.504Z"
   },
   {
    "duration": 72545,
    "start_time": "2023-11-17T07:07:45.510Z"
   },
   {
    "duration": 227,
    "start_time": "2023-11-17T07:08:58.056Z"
   },
   {
    "duration": 22,
    "start_time": "2023-11-17T07:08:58.285Z"
   },
   {
    "duration": 33,
    "start_time": "2023-11-17T07:08:58.309Z"
   },
   {
    "duration": 27,
    "start_time": "2023-11-17T07:08:58.344Z"
   },
   {
    "duration": 3,
    "start_time": "2023-11-17T07:08:58.373Z"
   },
   {
    "duration": 170140,
    "start_time": "2023-11-17T07:08:58.378Z"
   },
   {
    "duration": 10395,
    "start_time": "2023-11-17T07:11:48.520Z"
   },
   {
    "duration": 15604,
    "start_time": "2023-11-17T07:11:58.916Z"
   },
   {
    "duration": 261,
    "start_time": "2023-11-17T07:12:14.522Z"
   },
   {
    "duration": 3,
    "start_time": "2023-11-17T07:12:14.784Z"
   },
   {
    "duration": 200,
    "start_time": "2023-11-17T07:12:14.788Z"
   }
  ],
  "kernelspec": {
   "display_name": "Python 3",
   "language": "python",
   "name": "python3"
  },
  "language_info": {
   "codemirror_mode": {
    "name": "ipython",
    "version": 3
   },
   "file_extension": ".py",
   "mimetype": "text/x-python",
   "name": "python",
   "nbconvert_exporter": "python",
   "pygments_lexer": "ipython3",
   "version": "3.8.5"
  },
  "toc": {
   "base_numbering": 1,
   "nav_menu": {},
   "number_sections": true,
   "sideBar": true,
   "skip_h1_title": true,
   "title_cell": "Содержание",
   "title_sidebar": "Contents",
   "toc_cell": true,
   "toc_position": {},
   "toc_section_display": true,
   "toc_window_display": false
  }
 },
 "nbformat": 4,
 "nbformat_minor": 2
}
